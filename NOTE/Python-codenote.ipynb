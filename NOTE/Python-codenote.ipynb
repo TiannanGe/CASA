{
 "cells": [
  {
   "cell_type": "markdown",
   "id": "9912bcdf-a2a1-4a64-bddf-168cd0f63c85",
   "metadata": {},
   "source": [
    "# Week 2: Foundations (Part 1)\n",
    "## Practical 2: Foundations (Part 1)"
   ]
  },
  {
   "cell_type": "code",
   "execution_count": 1,
   "id": "0203f4c3-b868-4d80-81ed-c2b90c2867e5",
   "metadata": {},
   "outputs": [
    {
     "name": "stdout",
     "output_type": "stream",
     "text": [
      "4.0\n"
     ]
    }
   ],
   "source": [
    "#Python求平均数\n",
    "numbers = [1, 4, 7, 6, 4, 2]\n",
    "total   = 0\n",
    "count   = 0\n",
    "for num in numbers:\n",
    "  total = total + num \n",
    "  count = count + 1\n",
    "mean = total / count\n",
    "print(mean)"
   ]
  },
  {
   "cell_type": "code",
   "execution_count": 165,
   "id": "2df57b9b-df12-47c0-ad57-5d67a79a7828",
   "metadata": {},
   "outputs": [
    {
     "name": "stdout",
     "output_type": "stream",
     "text": [
      "1\n",
      "13\n",
      "False\n",
      "1000\n",
      "7\n",
      "3\n"
     ]
    }
   ],
   "source": [
    "x = 10\n",
    "y = 3\n",
    "\n",
    "print( x % y ) # 1 求余数\n",
    "print( x + y ) # 13 加法\n",
    "print( x < y ) # False 对比大小输出布尔值\n",
    "print( x ** y ) # 1000 幂运算\n",
    "print( x - y ) # 7 减法\n",
    "print( x // y ) # 3 求整除"
   ]
  },
  {
   "cell_type": "markdown",
   "id": "61629960-6eea-4ed3-bc12-2514c9027b1b",
   "metadata": {},
   "source": [
    "· markdown语法写方程\n",
    "$$\n",
    "V = \\frac{4}{3}\\pi r^{3}\n",
    "$$"
   ]
  },
  {
   "cell_type": "code",
   "execution_count": 171,
   "id": "a29bbc58-81d1-4f6b-a62e-31a68ab7c571",
   "metadata": {},
   "outputs": [
    {
     "name": "stdout",
     "output_type": "stream",
     "text": [
      "15\n"
     ]
    }
   ],
   "source": [
    "#假设球体积14137,求半径\n",
    "from math import pi as p\n",
    "r = ((3/4)*(14137/p))**(1/3)\n",
    "print(round(r))#半径取整"
   ]
  },
  {
   "cell_type": "code",
   "execution_count": 1,
   "id": "219d6754-b435-4046-8357-181f7c6ae263",
   "metadata": {},
   "outputs": [
    {
     "name": "stdin",
     "output_type": "stream",
     "text": [
      " 7\n"
     ]
    },
    {
     "name": "stdout",
     "output_type": "stream",
     "text": [
      "Less than 10 hours worked!\n"
     ]
    }
   ],
   "source": [
    "hours=int(input())#手动输入数值 ,整数型\n",
    "\n",
    "if hours >= 10:\n",
    "    print(\"At least 10 hours worked!\")\n",
    "elif hours == 2:\n",
    "    print(\"Exactly 2 hours worked.\")\n",
    "else:\n",
    "    print(\"Less than 10 hours worked!\")"
   ]
  },
  {
   "cell_type": "code",
   "execution_count": 3,
   "id": "f26e520c-7367-4d7a-9c9a-f78ed92b30dc",
   "metadata": {},
   "outputs": [
    {
     "name": "stdout",
     "output_type": "stream",
     "text": [
      "<insert conclusion here>\n"
     ]
    }
   ],
   "source": [
    "#嵌套判断\n",
    "x = 5\n",
    "y = 4\n",
    "if x != y:                             \n",
    "    print(\"x is not equal to y\")    \n",
    "    if(x > y):                        \n",
    "        print(\"x is greater than y\")    \n",
    "    else:                               \n",
    "        print(\"x is less than y\")\n",
    "else:\n",
    "    print(\"<insert conclusion here>\")"
   ]
  },
  {
   "cell_type": "code",
   "execution_count": null,
   "id": "0707b020-bd24-4776-95a5-e7fe0848899d",
   "metadata": {},
   "outputs": [],
   "source": [
    "a = 6\n",
    "b = 6\n",
    "if a == 2 and b == 2 or a==b:#双等号判断两个数值是否相等,用and连接,只要有一个中招,就运行,否则else\n",
    "    print(\"inside 1\")\n",
    "    print(\"inside 2\")\n",
    "    print(\"inside\")\n",
    "    print(\"after condition\")\n",
    "else:\n",
    "    print(\"after condition\")\n",
    "# <your code here>"
   ]
  },
  {
   "cell_type": "code",
   "execution_count": 4,
   "id": "09e20d8d-dcc6-411e-9284-6b3f1e28c95b",
   "metadata": {},
   "outputs": [
    {
     "name": "stdout",
     "output_type": "stream",
     "text": [
      "Aled\n",
      "Sarah\n"
     ]
    }
   ],
   "source": [
    "#三if线型判断\n",
    "x=0\n",
    "if x > 0 and x < 5:\n",
    "    print(\"Joe\")\n",
    "if x > 0 or x < 5:\n",
    "    print(\"Aled\")\n",
    "if not(x > 0):\n",
    "    print(\"Sarah\")"
   ]
  },
  {
   "cell_type": "markdown",
   "id": "6cfa01b6-97c3-4265-9737-352fb7b8a11c",
   "metadata": {},
   "source": [
    "# 数据类型type\n",
    "1. Name\tValue\tType\n",
    "2. 2msg\t‘Hello world’\ttype(msg)==str #文本型\n",
    "3. answer\t42\ttype(answer)==int #整数型\n",
    "4. pi\t3.14159\ttype(pi)==float #浮点型\n",
    "5. c\tcomplex(5,2)\ttype(c)==complex #复数类型\n",
    "6. correct\tTrue\ttype(correct)==bool #布尔型"
   ]
  },
  {
   "cell_type": "code",
   "execution_count": 7,
   "id": "394cf213-58c6-4e4f-b265-bd963340500d",
   "metadata": {},
   "outputs": [
    {
     "name": "stdout",
     "output_type": "stream",
     "text": [
      "42\n"
     ]
    }
   ],
   "source": [
    "#数据类型type\n",
    "msg = '42' #文本型str\n",
    "type(msg) #输出类型-文本型\n",
    "msg = int(msg) #文本型转为整数型\n",
    "type(msg) #输出类型-整数型\n",
    "msg = str(msg) #整数型转为文本型\n",
    "type(msg) #输出类型-文本型\n",
    "print(str(int('42')))#把str转为int再转为str"
   ]
  },
  {
   "cell_type": "code",
   "execution_count": 5,
   "id": "fbd0953e-f5ca-46b2-84eb-2a6cd1ba2fc5",
   "metadata": {},
   "outputs": [
    {
     "ename": "SyntaxError",
     "evalue": "invalid character '：' (U+FF1A) (1980987869.py, line 2)",
     "output_type": "error",
     "traceback": [
      "\u001b[0;36m  Input \u001b[0;32mIn [5]\u001b[0;36m\u001b[0m\n\u001b[0;31m    isinstance() 与 type() 区别：\u001b[0m\n\u001b[0m                            ^\u001b[0m\n\u001b[0;31mSyntaxError\u001b[0m\u001b[0;31m:\u001b[0m invalid character '：' (U+FF1A)\n"
     ]
    }
   ],
   "source": [
    "#查看数据属于什么类型\n",
    "isinstance() 与 type() 区别：\n",
    "type() 不会认为子类是一种父类类型，不考虑继承关系。\n",
    "isinstance() 会认为子类是一种父类类型，考虑继承关系。\n",
    "如果要判断两个类型是否相同推荐使用 isinstance()\n",
    "语法:isinstance(object, classinfo)\n",
    "object – 实例对象\n",
    "classinfo – 可以是直接或间接类名、基本类型或者由它们组成的元组\n",
    "如果对象的类型与参数二的类型（classinfo）相同则返回 True，否则返回 False\n",
    "\n",
    "isinstance(msg,object) \n",
    "isinstance(answer,object)  # True\n",
    "isinstance(pi,object)      # True\n",
    "isinstance(c,object)       # True\n",
    "isinstance(correct,object)# True "
   ]
  },
  {
   "cell_type": "code",
   "execution_count": 14,
   "id": "e9a312f8-ae18-420d-bb66-83f71e80b85e",
   "metadata": {},
   "outputs": [
    {
     "name": "stdout",
     "output_type": "stream",
     "text": [
      "False\n"
     ]
    }
   ],
   "source": [
    "x= \"hello\" \n",
    "y = \"you\"\n",
    "print(x==y)#判断x是否等于y"
   ]
  },
  {
   "cell_type": "code",
   "execution_count": 23,
   "id": "dcdb89c4-04a1-4b77-8978-b15876eb5ee6",
   "metadata": {},
   "outputs": [
    {
     "name": "stdout",
     "output_type": "stream",
     "text": [
      "The value of Something is 24\n",
      "The value of Something is 24\n"
     ]
    }
   ],
   "source": [
    "#format格式填入法 , 定义format(x,y),在文本句中{0}指代下标\n",
    "x = 24\n",
    "y = 'Something'\n",
    "print(\"The value of {0} is {1}\".format(y, x))#格式填入法1\n",
    "print(f\"The value of {y} is {x}\")#格式填入法2"
   ]
  },
  {
   "cell_type": "code",
   "execution_count": 6,
   "id": "f4b10899-d9d1-446c-91a0-e4fb23f8b773",
   "metadata": {},
   "outputs": [
    {
     "data": {
      "text/plain": [
       "13.572088082974531"
      ]
     },
     "execution_count": 6,
     "metadata": {},
     "output_type": "execute_result"
    }
   ],
   "source": [
    "x, y = 10, 5\n",
    "x + y * 2         # == 20\n",
    "(x + y) * 2       # == 30\n",
    "x + y * 2 / 3     # == 13.3333333333334\n",
    "x + y * (2/3)     # == 13.3333333333332\n",
    "(x + y) * (2/3) \n",
    "(x * y) ** 2/3    # == 833.333333333334\n",
    "(x * y) ** (2/3)  # == 13.5720880829745\n",
    "#两个星号在Python中表示的是幂计算"
   ]
  },
  {
   "cell_type": "code",
   "execution_count": 7,
   "id": "47cbd01e-37c7-4694-b9c0-8a02f8b6a685",
   "metadata": {},
   "outputs": [
    {
     "data": {
      "text/plain": [
       "True"
      ]
     },
     "execution_count": 7,
     "metadata": {},
     "output_type": "execute_result"
    }
   ],
   "source": [
    "x = 5\n",
    "y = 10\n",
    "x = y\n",
    "x == y"
   ]
  },
  {
   "cell_type": "code",
   "execution_count": 40,
   "id": "a98a677d-d8f8-41e8-9bc9-0617a3db47d9",
   "metadata": {},
   "outputs": [
    {
     "data": {
      "text/plain": [
       "False"
      ]
     },
     "execution_count": 42,
     "metadata": {},
     "output_type": "execute_result"
    }
   ],
   "source": [
    "#判断是否相等\n",
    "x, y = '42', 42\n",
    "x==y   # False\n",
    "x == str(y)   # False\n",
    "x > str(y)   # False\n",
    "int(x) <= y  # True\n",
    "x > = str(y) # Also True"
   ]
  },
  {
   "cell_type": "code",
   "execution_count": 54,
   "id": "8ff8c3b4-66d0-4f22-b1c6-c1df7e7ce45f",
   "metadata": {},
   "outputs": [
    {
     "name": "stdout",
     "output_type": "stream",
     "text": [
      "x小于y\n"
     ]
    }
   ],
   "source": [
    "#使用if elif else判断大小\n",
    "x, y = 42, 66\n",
    "if x < y:\n",
    "  print(\"x小于y\")\n",
    "elif x > y:\n",
    "  print(\"x大于y\")\n",
    "else:\n",
    "  print(\"x等于y\")"
   ]
  },
  {
   "cell_type": "code",
   "execution_count": 58,
   "id": "2715fb51-b2ee-40cd-bb95-383205069417",
   "metadata": {},
   "outputs": [
    {
     "name": "stdout",
     "output_type": "stream",
     "text": [
      "Hours were worked.\n"
     ]
    }
   ],
   "source": [
    "if 3 >= 0:\n",
    "    print(\"Hours were worked.\")\n",
    "else:\n",
    "    print (\"No hours were worked.\")"
   ]
  },
  {
   "cell_type": "code",
   "execution_count": 59,
   "id": "7d75c53c-653e-4662-8cd5-b9acb9bd4c4b",
   "metadata": {},
   "outputs": [],
   "source": [
    "#定义列表\n",
    "myList = [1, 3, 5, 7]     # homogenous list同质化名单, 单一数据类型\n",
    "myList = [1, \"dog\", 7.01] # heterogenous list 不同质名单,有int有str\n",
    "myList = []               # empty list#空名单"
   ]
  },
  {
   "cell_type": "code",
   "execution_count": 61,
   "id": "dab324f9-6e1e-4eda-8afb-9092a3ee00bd",
   "metadata": {},
   "outputs": [
    {
     "name": "stdout",
     "output_type": "stream",
     "text": [
      "[3, 'Foo', ['A', 'list', 42]]\n"
     ]
    }
   ],
   "source": [
    "#列表可以被当成元素再次插入列表,列表允许不同数据类型\n",
    "x = 3\n",
    "y = \"Foo\"\n",
    "z = [\"A\", \"list\", 42]\n",
    "\n",
    "a = [x, y, z] # Holds x, y, *and* list z和在一起输出\n",
    "print(a)"
   ]
  },
  {
   "cell_type": "code",
   "execution_count": 4,
   "id": "f7a6b515-acd3-4490-a6a3-d0a5fd7fbcae",
   "metadata": {},
   "outputs": [
    {
     "name": "stdout",
     "output_type": "stream",
     "text": [
      "Harvey\n",
      "Rose\n",
      "Rose\n",
      "Harvey\n",
      "['Massey', 'Harvey']\n",
      "['Harvey', 'Rose']\n",
      "['Harvey', 'Rose']\n"
     ]
    }
   ],
   "source": [
    "#定义列表 ,通过[0]打印指定下标内容\n",
    "geographers = [\"Massey\", \"Harvey\", \"Rose\"]\n",
    "print(geographers[1]) # Harvey\n",
    "print(geographers[2]) # Rose\n",
    "\n",
    "print( geographers[-1] ) # Rose\n",
    "print( geographers[-2] ) # Harvey\n",
    "\n",
    "print( geographers[0:2] ) # ['Massey','Harvey']\n",
    "print( geographers[1:] )  # ['Harvey', 'Rose']\n",
    "print( geographers[-2:] ) # ['Harvey', 'Rose']"
   ]
  },
  {
   "cell_type": "code",
   "execution_count": 67,
   "id": "012a9cdd-f4f4-423d-955d-5eed7d4d106b",
   "metadata": {},
   "outputs": [
    {
     "name": "stdout",
     "output_type": "stream",
     "text": [
      "['Harvey']\n"
     ]
    }
   ],
   "source": [
    "#从列表中切片数据\n",
    "geographers = [\"Massey\", \"Harvey\", \"Rose\"]\n",
    "print( geographers[1:2] ) # ['Massey','Harvey']\n",
    "print(cities.index('New York'))#输出下标"
   ]
  },
  {
   "cell_type": "code",
   "execution_count": 71,
   "id": "e9f3572a-414b-4a05-b18a-e0d9892502cf",
   "metadata": {},
   "outputs": [
    {
     "name": "stdout",
     "output_type": "stream",
     "text": [
      "['Harvey', 'Massey', 'Rose']\n",
      "['Rose', 'Massey', 'Harvey']\n"
     ]
    }
   ],
   "source": [
    "#我们可以按字母数字顺序对列表进行排序：\n",
    "geographers = [\"Massey\", \"Harvey\", \"Rose\"]\n",
    "geographers.sort()\n",
    "print(geographers) # ['Harvey', 'Massey', 'Rose']\n",
    "#我们也可以反向排序：\n",
    "geographers.sort(reverse=True)\n",
    "print(geographers) # ['Rose', 'Massey', 'Harvey']"
   ]
  },
  {
   "cell_type": "code",
   "execution_count": 127,
   "id": "5cb11297-f0f4-4e5e-bd4c-30c12fcbd8cf",
   "metadata": {},
   "outputs": [
    {
     "name": "stdout",
     "output_type": "stream",
     "text": [
      "['Massey', 'Harvey', 'Jefferson']\n",
      "Massey\n"
     ]
    }
   ],
   "source": [
    "#列表中的内容是可变的\n",
    "geographers = [\"Massey\", \"Harvey\", \"Rose\"]\n",
    "geographers[2] = \"Jefferson\"#下标为2的数据改为Jefferson,不能以此方法新增数据\n",
    "print(geographers)\n",
    "print(geographers[0]) # ['Massey','Harvey','Jefferson']"
   ]
  },
  {
   "cell_type": "code",
   "execution_count": 129,
   "id": "1d265e47-1d4e-4a5f-84e6-66c52867b25b",
   "metadata": {},
   "outputs": [
    {
     "name": "stdout",
     "output_type": "stream",
     "text": [
      "['von Humboldt', 'Massey', 'Harvey', 'Jefferson']\n",
      "['von Humboldt', 'Massey', 'Harvey', 'von Humboldt', 'Jefferson']\n"
     ]
    }
   ],
   "source": [
    "#列表插入数据使用insert\n",
    "geographers = [\"Massey\", \"Harvey\", \"Jefferson\"]\n",
    "geographers.insert(0,\"von Humboldt\")#在指定下标位置插入新数据,如果定义的下标大于列表很多, 也只是在现有列表最后一位插入\n",
    "print(geographers) # ['von Humboldt', 'Massey', 'Harvey', 'Jefferson']\n",
    "geographers.insert(3,\"von Humboldt\")\n",
    "print(geographers) # ['von Humboldt', 'Massey', 'Harvey', 'von Humboldt', 'Jefferson']"
   ]
  },
  {
   "cell_type": "code",
   "execution_count": 130,
   "id": "21e74cfd-f80b-4327-871d-db70fbcac321",
   "metadata": {},
   "outputs": [
    {
     "name": "stdout",
     "output_type": "stream",
     "text": [
      "['von Humboldt', 'Massey', 'Jefferson']\n"
     ]
    }
   ],
   "source": [
    "#从列表中移除某一值\n",
    "geographers = ['von Humboldt', 'Massey', 'Harvey', 'Jefferson']\n",
    "geographers.pop(2) # Do not use this answer!删除列表下标为2的数据,并将值弹出\n",
    "print(geographers)"
   ]
  },
  {
   "cell_type": "code",
   "execution_count": 10,
   "id": "6e314883-941b-44b9-ba7e-62530fc3b05e",
   "metadata": {},
   "outputs": [
    {
     "name": "stdout",
     "output_type": "stream",
     "text": [
      "[['Rose', 'Valentine', 'Massey', 'Jefferson'], ['Von Humboldt', 'Harvey', 'Hägerstrand']]\n",
      "['Rose', 'Valentine', 'Massey', 'Jefferson']\n"
     ]
    }
   ],
   "source": [
    "#使用append给列表增加新值,默认在尾部增加\n",
    "female_geographers = ['Rose','Valentine','Massey','Jefferson']\n",
    "male_geographers   = ['Von Humboldt','Harvey','Hägerstrand']\n",
    "all_geographers = []\n",
    "all_geographers.append(female_geographers)#给空列表加入女性列表\n",
    "all_geographers.append(male_geographers)#再加入男性列表\n",
    "print(all_geographers) # [['Rose',...], [..., 'Hägerstrand']]#合并后的列表,女性男性列表各为一个元素\n",
    "print(all_geographers[0])"
   ]
  },
  {
   "cell_type": "code",
   "execution_count": 11,
   "id": "ad5ba661-f73b-4619-927c-f2a2d3f875d4",
   "metadata": {},
   "outputs": [
    {
     "name": "stdout",
     "output_type": "stream",
     "text": [
      "['Von Humboldt', 'Harvey', 'Hägerstrand', 'Batty']\n",
      "4\n"
     ]
    }
   ],
   "source": [
    "male_geographers = ['Von Humboldt','Harvey','Hägerstrand']\n",
    "male_geographers.append('Batty')#默认在尾部加入新值\n",
    "print(male_geographers)\n",
    "n=len(male_geographers)#取共有几个元素\n",
    "print(n)"
   ]
  },
  {
   "cell_type": "code",
   "execution_count": 21,
   "id": "d507ad4c-b137-4f90-ba31-d47c861a92d8",
   "metadata": {},
   "outputs": [
    {
     "name": "stdout",
     "output_type": "stream",
     "text": [
      "True\n",
      "False\n",
      "2\n"
     ]
    }
   ],
   "source": [
    "#判断某一值是否在列表\n",
    "geographers = [\"Massey\",\"Harvey\",\"Rose\"]\n",
    "print(\"Massey\" in geographers) # True#判断某一值是否在列表\n",
    "print(\"Batty\" in geographers)  # False判断某一值是否在列表\n",
    "a=geographers.index(\"Rose\") #查找索引的下标\n",
    "print(a)"
   ]
  },
  {
   "cell_type": "code",
   "execution_count": 25,
   "id": "d7ba1fc7-0e52-431b-969c-673686ad56cd",
   "metadata": {},
   "outputs": [
    {
     "name": "stdout",
     "output_type": "stream",
     "text": [
      "<class 'tuple'>\n",
      "(52.124021, -0.0012012)\n",
      "52.124021\n"
     ]
    }
   ],
   "source": [
    "'''元组和列表非常类似，但列表与元组最大的区别在于：元组是不可改变的，列表是可改变的。元组支持的操作，列表基本上都支持；列表支持对元素的修改，而元组则不支持。从这个角度来看，可以认为列表是增强版的元组。\n",
    "\n",
    "虽然大部分时候都可使用列表来代替元组，但如果程序不需要修改列表所包含的元素，那么使用元组代替列表会更安全。'''\n",
    "t = (52.124021, -0.0012012)#圆括号定义的数据为元祖,不可变\n",
    "print(type(t)) # <class 'tuple'>\n",
    "print(t)       # (52.124021, -0.0012012)\n",
    "print(t[0])    # 52.124021"
   ]
  },
  {
   "cell_type": "code",
   "execution_count": 31,
   "id": "c6706de1-201f-4130-a4d8-29930e45b7ec",
   "metadata": {},
   "outputs": [
    {
     "name": "stdin",
     "output_type": "stream",
     "text": [
      "输入人民币数值 : 30\n"
     ]
    },
    {
     "name": "stdout",
     "output_type": "stream",
     "text": [
      "英镑为:240镑\n"
     ]
    }
   ],
   "source": [
    "#input函数从用户获取输入\n",
    "num = int(input(\"输入人民币数值 :\"))\n",
    "a = num*8\n",
    "print(\"英镑为:\"+str(a)+\"镑\")"
   ]
  },
  {
   "cell_type": "code",
   "execution_count": 43,
   "id": "a210c1df-598c-452c-bd96-820821e961b2",
   "metadata": {},
   "outputs": [
    {
     "name": "stdout",
     "output_type": "stream",
     "text": [
      "Rose\n",
      "Massey\n",
      "Jefferson\n",
      "1\n",
      "2\n",
      "a\n"
     ]
    }
   ],
   "source": [
    "#while循环适用于未知循环次数的循环，for循环适用于已知循环次数的循环 。\n",
    "geographers = ['Rose','Massey','Jefferson']\n",
    "for g in geographers:\n",
    "    print(g)\n",
    "    \n",
    "list1 = [1,2,\"a\"]\n",
    "for i in list1:\n",
    "  print(i)"
   ]
  },
  {
   "cell_type": "code",
   "execution_count": 132,
   "id": "19e810d1-ea01-4bad-b5f5-7e55db511683",
   "metadata": {},
   "outputs": [
    {
     "name": "stdout",
     "output_type": "stream",
     "text": [
      " 1*1=1\n",
      " 1*2=2 2*2=4\n",
      " 1*3=3 2*3=6 3*3=9\n",
      " 1*4=4 2*4=8 3*4=12 4*4=16\n",
      " 1*5=5 2*5=10 3*5=15 4*5=20 5*5=25\n",
      " 1*6=6 2*6=12 3*6=18 4*6=24 5*6=30 6*6=36\n",
      " 1*7=7 2*7=14 3*7=21 4*7=28 5*7=35 6*7=42 7*7=49\n",
      " 1*8=8 2*8=16 3*8=24 4*8=32 5*8=40 6*8=48 7*8=56 8*8=64\n",
      " 1*9=9 2*9=18 3*9=27 4*9=36 5*9=45 6*9=54 7*9=63 8*9=72 9*9=81\n"
     ]
    }
   ],
   "source": [
    "#for循环九九乘法表\n",
    "for i in range(1,10):\n",
    " for j in range(1,i+1):\n",
    "   print(' %d*%d=%d'%(j,i,j*i),end=\"\")\n",
    " print('\\r')"
   ]
  },
  {
   "cell_type": "code",
   "execution_count": 149,
   "id": "65d844ec-f036-4188-af61-c5c757dcc7dd",
   "metadata": {},
   "outputs": [
    {
     "name": "stdout",
     "output_type": "stream",
     "text": [
      "zx\n",
      "ls\n",
      "ww\n"
     ]
    }
   ],
   "source": [
    "#while循环\n",
    "geo =[\"zx\",\"ls\",\"ww\"]\n",
    "r = 0#循环计次0\n",
    "while r < len(geo):#小于列表长度则一直循环,直到退出\n",
    "    print(geo[r])\n",
    "    r = r + 1"
   ]
  },
  {
   "cell_type": "code",
   "execution_count": 150,
   "id": "97c65478-48e9-46b4-831f-28f6310280a5",
   "metadata": {
    "tags": []
   },
   "outputs": [
    {
     "name": "stdout",
     "output_type": "stream",
     "text": [
      "倒计时结束！！\n"
     ]
    }
   ],
   "source": [
    "#倒计时功能,使用range函数,在10区间内,从0开始,间隔为-1\n",
    "import time\n",
    "for i in range(10,0,-1):\n",
    "    print(\"\\r倒计时{}秒！\".format(i),end=\"\")\n",
    "    time.sleep(1)\n",
    "print(\"\\r倒计时结束！\")"
   ]
  },
  {
   "cell_type": "code",
   "execution_count": 153,
   "id": "19a9d1a2-232e-49b2-bd37-79abc84a4441",
   "metadata": {
    "tags": []
   },
   "outputs": [
    {
     "name": "stdout",
     "output_type": "stream",
     "text": [
      "Rose\n",
      "R\n",
      "Massey\n",
      "M\n",
      "Jefferson\n",
      "J\n"
     ]
    }
   ],
   "source": [
    "#使用break函数打断\n",
    "geographers = ['Rose','Massey','Jefferson']\n",
    "for g in geographers:\n",
    "  print(g)#遍历每一个元素\n",
    "  for h in g:\n",
    "    print(h)#继续在该元素下遍历每一个字母\n",
    "    break # <-- Notice this!#当遍历到第一个字母时候打断,结束二级循环,进入一级循环\n",
    "\n",
    "       \n"
   ]
  },
  {
   "cell_type": "code",
   "execution_count": 154,
   "id": "a0bafa97-9922-486b-a96a-64e2014fbfa9",
   "metadata": {},
   "outputs": [
    {
     "name": "stdout",
     "output_type": "stream",
     "text": [
      "Rose\n",
      "R\n",
      "o\n",
      "s\n",
      "e\n"
     ]
    }
   ],
   "source": [
    "for g in geographers:\n",
    "  print(g)\n",
    "  for h in g:\n",
    "    print(h)\n",
    "  break ##同上,但break的缩进在一级循环中, 所以遍历完第一个元素的所有字母后结束"
   ]
  },
  {
   "cell_type": "code",
   "execution_count": 104,
   "id": "7481df91-0a1e-4e01-8a86-89ed3e4c3752",
   "metadata": {},
   "outputs": [
    {
     "ename": "IndentationError",
     "evalue": "expected an indented block after 'while' statement on line 3 (1782444427.py, line 4)",
     "output_type": "error",
     "traceback": [
      "\u001b[0;36m  Input \u001b[0;32mIn [104]\u001b[0;36m\u001b[0m\n\u001b[0;31m    print( geographers[g] )\u001b[0m\n\u001b[0m    ^\u001b[0m\n\u001b[0;31mIndentationError\u001b[0m\u001b[0;31m:\u001b[0m expected an indented block after 'while' statement on line 3\n"
     ]
    }
   ],
   "source": [
    "#无限循环,不要运行\n",
    "geographers = ['Rose','Massey','Jefferson']\n",
    "g = 0\n",
    "while g < len(geographers):\n",
    "    print( geographers[g] )"
   ]
  },
  {
   "cell_type": "code",
   "execution_count": 123,
   "id": "a8bc92d3-0c3c-4ab8-9cc2-d1ad6201f764",
   "metadata": {},
   "outputs": [
    {
     "name": "stdout",
     "output_type": "stream",
     "text": [
      "Jefferson\n",
      "Massey\n",
      "Rose\n",
      "Jefferson\n",
      "Massey\n",
      "Rose\n"
     ]
    }
   ],
   "source": [
    "#列表反向排序,再依次输出\n",
    "geographers = ['Rose','Massey','Jefferson']\n",
    "geographers.reverse()#列表反向排序\n",
    "for g in geographers:\n",
    "  print(g)\n",
    "\n",
    "geographers = ['Rose','Massey','Jefferson']\n",
    "g = len(geographers)-1 #总厂为3 , 3减1为2,下标为2为jef\n",
    "while g >= 0:\n",
    "  print( geographers[g] )\n",
    "  g -= 1"
   ]
  },
  {
   "cell_type": "code",
   "execution_count": 127,
   "id": "bb84fa61-07fe-4162-8eca-f87ad332488d",
   "metadata": {},
   "outputs": [
    {
     "name": "stdout",
     "output_type": "stream",
     "text": [
      "R\n",
      "o\n",
      "s\n",
      "e\n",
      "V\n",
      "a\n",
      "l\n",
      "e\n",
      "n\n",
      "t\n",
      "i\n",
      "n\n",
      "e\n",
      "M\n",
      "a\n",
      "s\n",
      "s\n",
      "e\n",
      "y\n",
      "J\n",
      "e\n",
      "f\n",
      "f\n",
      "e\n",
      "r\n",
      "s\n",
      "o\n",
      "n\n",
      "V\n",
      "o\n",
      "n\n",
      " \n",
      "H\n",
      "u\n",
      "m\n",
      "b\n",
      "o\n",
      "l\n",
      "d\n",
      "t\n",
      "H\n",
      "a\n",
      "r\n",
      "v\n",
      "e\n",
      "y\n",
      "H\n",
      "ä\n",
      "g\n",
      "e\n",
      "r\n",
      "s\n",
      "t\n",
      "r\n",
      "a\n",
      "n\n",
      "d\n"
     ]
    }
   ],
   "source": [
    "#遍历每一个字母\n",
    "female_geographers = ['Rose','Valentine','Massey','Jefferson']\n",
    "male_geographers = ['Von Humboldt','Harvey','Hägerstrand']\n",
    "all_geographers = []\n",
    "all_geographers.append(female_geographers)\n",
    "all_geographers.append(male_geographers)\n",
    "for ag in all_geographers:\n",
    "  for g in ag:\n",
    "    for a in g:\n",
    "        print(a)\n",
    "    "
   ]
  },
  {
   "cell_type": "code",
   "execution_count": 155,
   "id": "9e35a0c2-f4dc-4f2e-bd82-28519eb50e62",
   "metadata": {},
   "outputs": [
    {
     "name": "stdout",
     "output_type": "stream",
     "text": [
      "837442\n",
      "8673713\n"
     ]
    }
   ],
   "source": [
    "#定义字典\n",
    "cities = {\n",
    "  'San Francisco': 837442,\n",
    "  'London': 8673713,\n",
    "  'Paris': 837442,\n",
    "  'Beijing': '0.17'}#花括号是字典\n",
    "\n",
    "\n",
    "print(cities.get('San Francisco'))#使用get()提取\"San Francisco\"的值\n",
    "print(cities.get('London','111'))#提取\"londo\"的值 ,如没有, 则输出111"
   ]
  },
  {
   "cell_type": "code",
   "execution_count": 163,
   "id": "38bce6f2-d96e-4896-a52d-856827c956b2",
   "metadata": {},
   "outputs": [
    {
     "name": "stdout",
     "output_type": "stream",
     "text": [
      "存在该城市\n",
      "837442\n"
     ]
    }
   ],
   "source": [
    "cities = {\n",
    "  'San Francisco': 837442,\n",
    "  'London': 8673713,\n",
    "  'Paris': 837442,\n",
    "  'Beijing': '0.17'}\n",
    "c = cities.get('San Francisco')\n",
    "\n",
    "if not c:\n",
    "  print(\"不存在该城市\")\n",
    "else:\n",
    "  print(\"存在该城市\")\n",
    "  print(c)#输出值\n"
   ]
  },
  {
   "cell_type": "code",
   "execution_count": 168,
   "id": "303b46b0-db2b-4943-b65f-54e8f139f384",
   "metadata": {},
   "outputs": [
    {
     "name": "stdout",
     "output_type": "stream",
     "text": [
      "{'Beijing': 21716620, 'Toronto': 2930000}\n",
      "2930000\n",
      "2930000\n",
      "{'Beijing': 21716620}\n"
     ]
    }
   ],
   "source": [
    "#字典的删除与新增\n",
    "cities = {}  # Empty dictionary创建一个空字典\n",
    "cities['Beijing'] = 21716620    # Sets key->value为字典插入新值的方法,中括号是表头,等于后面是值\n",
    "cities['Toronto'] = 2930000     # Sets key->value为字典插入新值的方法,中括号是表头,等于后面是值\n",
    "print(cities)#打印刚刚插入两个新值的字典\n",
    "print(cities['Toronto'])        # Prints 2930000打印多伦多的值\n",
    "del cities['Toronto']           # Deletes Toronto key (and value)删除多伦多的数据\n",
    "print(cities.pop('Toronto','Default')) # Prints 'Default' b/c key not found删除多伦多的值,并将该值返回,用打印输出\n",
    "print(cities)\n",
    "#del不返回值,pop能返回删除的值\n",
    "#使用del可以删除任意位置的列表元素，条件是知道其索引，并且使用del删除后就无法再访问被删除元素。\n",
    "#在我不给pop()指定任何参数的时候，它默认是把最后一个元素弹出来，并赋值给一个新列表s1,实际上使用pop()可以删除任意位置的列表元素，只需要在pop后面的圆括号中输入要删除元素的索引。\n",
    "#有时候不知道从列表中要删除的值所在的位置，如果只知道要删除元素的值，我们可以使用remove()。\n",
    "#remove()只会删除第一个指定的值，如果列表中有多个元素的值相同，那么只会删除第一个，想要都删除，需要配合循环来使用。\n",
    "#总结:我们到底什么时候使用del，什么时候使用pop()或remove()呢?如果在我们知道要删除元素的索引的情况下，从列表中删除一个元素，并且以后不再使用它，就使用del语句，如果你想要在删除某个元素后，继续使用它，那么就使用pop()，如果我们不知道元素地索引，只知道我们要删除的元素的值，那么我们使用remove()。"
   ]
  },
  {
   "cell_type": "code",
   "execution_count": 177,
   "id": "8afd68b1-5f42-4113-ba04-1abb4e3d3645",
   "metadata": {},
   "outputs": [
    {
     "name": "stdout",
     "output_type": "stream",
     "text": [
      "San Francisco\n",
      "San Francisco:837442\n",
      "London\n",
      "London:8673713\n",
      "Paris\n",
      "Paris:837442\n",
      "Beijing\n",
      "Beijing:0.17\n",
      "San Francisco\n",
      "London\n",
      "Paris\n",
      "Beijing\n",
      "v:837442\n",
      "v:8673713\n",
      "v:837442\n",
      "v:0.17\n"
     ]
    }
   ],
   "source": [
    "#对字典的输出操作\n",
    "cities = {\n",
    "  'San Francisco': 837442,\n",
    "  'London': 8673713,\n",
    "  'Paris': 837442,\n",
    "  'Beijing': '0.17'}\n",
    "for c in cities:\n",
    "  print(c)#输出表头(城市名)\n",
    "  print(c+\":\"+str(cities.get(c)))#表头加值,get函数起到某一name中的值\n",
    "for k in cities.keys():##输出表头(城市名)和上面方法一样\n",
    "  print(k)\n",
    "for v in cities.values():#循环输出所有值\n",
    "    print(\"v:\"+str(v))"
   ]
  },
  {
   "cell_type": "code",
   "execution_count": 178,
   "id": "41c5316a-5cd2-455f-bed2-e6e7f626ba0d",
   "metadata": {},
   "outputs": [
    {
     "name": "stdout",
     "output_type": "stream",
     "text": [
      "{'San Francisco': [37.77, -122.43, 'SFO']}\n"
     ]
    }
   ],
   "source": [
    "cities = {\n",
    "  'San Francisco': \n",
    "    [37.77, -122.43, 'SFO']\n",
    "}\n",
    "print(cities)"
   ]
  },
  {
   "cell_type": "code",
   "execution_count": 179,
   "id": "bec00acd-c94a-42bd-8dd5-1d7d21eb6da5",
   "metadata": {},
   "outputs": [
    {
     "name": "stdout",
     "output_type": "stream",
     "text": [
      "37.77\n"
     ]
    }
   ],
   "source": [
    "#定义一个字典, 打印字典\n",
    "cities = {\n",
    "  'San Francisco': {\n",
    "    'lat': 37.77,\n",
    "    'lon': -122.43,\n",
    "    'airport':'SFO'}\n",
    "}\n",
    "print(cities['San Francisco']['lat'])# 格式:cities[\"表头\"][\"具体数据列\"] , 就能取值"
   ]
  },
  {
   "cell_type": "code",
   "execution_count": 189,
   "id": "d6e72cf0-da3f-4a8f-abd2-669220566178",
   "metadata": {},
   "outputs": [
    {
     "name": "stdout",
     "output_type": "stream",
     "text": [
      "<class 'tuple'>\n",
      "<class 'list'>\n",
      "<class 'set'>\n",
      "<class 'dict'>\n"
     ]
    }
   ],
   "source": [
    "#数据类型集合set\n",
    "'''集合（set）；\n",
    "可以使用大括号 { } 或者 set() 函数创建集合。注意：创建一个空集合必须用 set() 而不是 { }，因为 { } 是用来创建一个空字典；'''\n",
    "s = (1,2,3)#tuple元祖类型\n",
    "print(type(s))\n",
    "u = [1,2,3]#list列表类型\n",
    "print(type(u))\n",
    "x = {1,2,3}#set集合类型\n",
    "print(type(x))\n",
    "i = {'a':1,'b':2,'c':3}#dict字典类型\n",
    "print(type(i))"
   ]
  },
  {
   "cell_type": "code",
   "execution_count": 190,
   "id": "d8c38042-ac46-442c-8324-2bf3e7370c43",
   "metadata": {},
   "outputs": [
    {
     "name": "stdout",
     "output_type": "stream",
     "text": [
      "[1, 2, 3]\n",
      "[4, 5, 6]\n",
      "[7, 8, 9]\n",
      "<class 'list'>\n"
     ]
    }
   ],
   "source": [
    "#列表中可以套列表\n",
    "my_list = [\n",
    "  [1, 2, 3], \n",
    "  [4, 5, 6], \n",
    "  [7, 8, 9]\n",
    "]\n",
    "for i in my_list:\n",
    "  print(i)\n",
    "print(type(my_list))#列表类型"
   ]
  },
  {
   "cell_type": "code",
   "execution_count": null,
   "id": "af447e6b-df15-4a95-9d8d-5470c4fd093b",
   "metadata": {},
   "outputs": [
    {
     "name": "stdout",
     "output_type": "stream",
     "text": [
      "[1, 2, 3]\n",
      "[4, 5, 6]\n",
      "[7, 8, 9]\n",
      " >> [1, 2, 3]\n",
      " >> [4, 5, 6]\n",
      " >> [7, 8, 9]\n"
     ]
    }
   ],
   "source": [
    "a = [1, 2, 3]\n",
    "b = [4, 5, 6]\n",
    "c = [7, 8, 9]\n",
    "\n",
    "my_list = [a, b, c]\n",
    "\n",
    "for i in my_list:\n",
    "  print(i) # Prints a, b, c in turn...\n",
    "for i in my_list:\n",
    "  print(f\" >> {i}\")\n",
    "  for j in i: # Remember that i is a list!\n",
    "    print(j)"
   ]
  },
  {
   "cell_type": "code",
   "execution_count": 12,
   "id": "e83ef103-1cf4-494c-88de-2d6919b7bc39",
   "metadata": {},
   "outputs": [
    {
     "name": "stdout",
     "output_type": "stream",
     "text": [
      "2\n"
     ]
    }
   ],
   "source": [
    "#定义列表后,定义变量i,j分别为0和1,使用[i][j]找到具体值\n",
    "my_list = [\n",
    "  [1, 2, 3], \n",
    "  [4, 5, 6], \n",
    "  [7, 8, 9]\n",
    "]\n",
    "\n",
    "i,j = 0,1\n",
    "print(my_list[i][j])"
   ]
  },
  {
   "cell_type": "code",
   "execution_count": 86,
   "id": "cb34f0c4-546b-43a5-8e92-2b391a395099",
   "metadata": {},
   "outputs": [
    {
     "name": "stdout",
     "output_type": "stream",
     "text": [
      "London\n",
      "51.5072\n"
     ]
    }
   ],
   "source": [
    "my_cities = [\n",
    "  ['London', [51.5072, 0.1275], +0], \n",
    "  ['New York', [40.7127, 74.0059], -5], \n",
    "  ['Tokyo', [35.6833, 139.6833], +8]\n",
    "]\n",
    "print(my_cities[0][0])\n",
    "print(my_cities[0][1][0])"
   ]
  },
  {
   "cell_type": "code",
   "execution_count": 87,
   "id": "ae36b357-af3a-41c3-9112-3f5f1df02c86",
   "metadata": {},
   "outputs": [
    {
     "name": "stdout",
     "output_type": "stream",
     "text": [
      "8.666666666666666\n"
     ]
    }
   ],
   "source": [
    "data = [1,25,-4,14,7,9]\n",
    "total = 0.0\n",
    "count = len(data)\n",
    "for i in data:\n",
    "  total += i\n",
    "\n",
    "print(total/count)"
   ]
  },
  {
   "cell_type": "code",
   "execution_count": 96,
   "id": "cf26ada8-00e2-486c-927a-1e5cf33c1beb",
   "metadata": {},
   "outputs": [
    {
     "name": "stdout",
     "output_type": "stream",
     "text": [
      "8.666666666666666\n"
     ]
    }
   ],
   "source": [
    "def c(n):#定义一个函数c(n)该函数为求平均数\n",
    "  total = 0.0\n",
    "  count = len(n)\n",
    "  for i in n:\n",
    "    total += i\n",
    "  return total/count\n",
    "\n",
    "data = [1,25,-4,14,7,9]\n",
    "print(c(data))"
   ]
  },
  {
   "cell_type": "code",
   "execution_count": 104,
   "id": "beaa5040-3b2c-46b8-b421-ae317e10cc07",
   "metadata": {},
   "outputs": [
    {
     "name": "stdout",
     "output_type": "stream",
     "text": [
      "Hello world!\n"
     ]
    }
   ],
   "source": [
    "#定义一个hello函数,功能是打印Hello world!\n",
    "def hello():\n",
    "  print(\"Hello world!\")\n",
    "hello()"
   ]
  },
  {
   "cell_type": "code",
   "execution_count": 194,
   "id": "2c358548-02b8-49d2-8e99-1b9707696010",
   "metadata": {},
   "outputs": [
    {
     "name": "stdout",
     "output_type": "stream",
     "text": [
      "Hello 葛天南!\n"
     ]
    }
   ],
   "source": [
    "def hello(name:str):\n",
    "  print(f\"Hello {name}!\")\n",
    "hello(\"葛天南\")\n"
   ]
  },
  {
   "cell_type": "code",
   "execution_count": 14,
   "id": "8605de5a-72c9-4832-a704-05e8a0e958ac",
   "metadata": {},
   "outputs": [
    {
     "name": "stdout",
     "output_type": "stream",
     "text": [
      "Hello New Progrzzzzammers!\n"
     ]
    }
   ],
   "source": [
    "output = hello(\"new progrzzzzammers\")\n",
    "print(output.title())#输出首字母转大写\n",
    "# Same as: print(hello(\"new programmers\").title())"
   ]
  },
  {
   "cell_type": "code",
   "execution_count": 15,
   "id": "f3a6a55d-bfa2-4d9d-9de6-f18ca813a0a5",
   "metadata": {},
   "outputs": [
    {
     "name": "stdout",
     "output_type": "stream",
     "text": [
      "Hello New Progrzzzzammers!\n"
     ]
    }
   ],
   "source": [
    "def hello(name:str):\n",
    "  return f\"Hello {name}!\"\n",
    "print(output.title())"
   ]
  },
  {
   "cell_type": "code",
   "execution_count": 157,
   "id": "52d95cdd-b109-47fa-8121-a0b5ce0e4738",
   "metadata": {},
   "outputs": [
    {
     "name": "stdout",
     "output_type": "stream",
     "text": [
      "3.141592653589793\n",
      "Help on built-in function acos in module math:\n",
      "\n",
      "acos(x, /)\n",
      "    Return the arc cosine (measured in radians) of x.\n",
      "    \n",
      "    The result is between 0 and pi.\n",
      "\n"
     ]
    }
   ],
   "source": [
    "import math#载入math函数\n",
    "print(math.pi)#输出math函数自带的pi输出功能\n",
    "dir(math)#展现了math的方法\n",
    "help(math.acos)#对某一功能弹出帮助"
   ]
  },
  {
   "cell_type": "code",
   "execution_count": 161,
   "id": "8a720d70-f89d-4c4d-b29e-e7d6fbbd83ba",
   "metadata": {},
   "outputs": [
    {
     "name": "stdout",
     "output_type": "stream",
     "text": [
      "4.363605710717601\n"
     ]
    }
   ],
   "source": [
    "import math as m\n",
    "r = 5\n",
    "area = m.pi * r**2\n",
    "ln = m.log(area)#求自然对数\n",
    "print(ln)"
   ]
  },
  {
   "cell_type": "code",
   "execution_count": 164,
   "id": "c796165a-d48e-46a3-b209-a90f841df8bc",
   "metadata": {},
   "outputs": [
    {
     "name": "stdout",
     "output_type": "stream",
     "text": [
      "3.141592653589793\n"
     ]
    }
   ],
   "source": [
    "from math import pi as p#从包中直接引用功能并定义为p\n",
    "print(p)\n"
   ]
  },
  {
   "cell_type": "code",
   "execution_count": 229,
   "id": "8921956e-101d-4368-b834-9b031ffd8b88",
   "metadata": {},
   "outputs": [
    {
     "name": "stdout",
     "output_type": "stream",
     "text": [
      "['Tokyo', 'oronto', 'New York', 'London', 'Delhi', 'Beijing']\n",
      "1\n",
      "['Tokyo', 'oronto', 'Haikou', 'New York', 'London', 'Delhi', 'Beijing']\n"
     ]
    }
   ],
   "source": [
    "### 列表中插入新值\n",
    "cities = ['Tokyo', 'New York', 'London', 'Delhi', 'Beijing']\n",
    "cities.insert(1,\"oronto\")#在下标1位置插入oronto\n",
    "print(cities)\n",
    "x = cities.count(\"New York\")#某一元素出现的次数\n",
    "print(x)#出现一次\n",
    "cities.insert(2,\"Haikou\")#在指定位置插入值\n",
    "print(cities)"
   ]
  },
  {
   "cell_type": "code",
   "execution_count": null,
   "id": "c30e0970-5de9-4723-a1e3-e4cbd19a4875",
   "metadata": {},
   "outputs": [
    {
     "ename": "NameError",
     "evalue": "name 'cities' is not defined",
     "output_type": "error",
     "traceback": [
      "\u001b[0;31m---------------------------------------------------------------------------\u001b[0m",
      "\u001b[0;31mNameError\u001b[0m                                 Traceback (most recent call last)",
      "Input \u001b[0;32mIn [17]\u001b[0m, in \u001b[0;36m<cell line: 2>\u001b[0;34m()\u001b[0m\n\u001b[1;32m      1\u001b[0m \u001b[38;5;66;03m#列表排序\u001b[39;00m\n\u001b[0;32m----> 2\u001b[0m \u001b[43mcities\u001b[49m\u001b[38;5;241m.\u001b[39mreverse()\u001b[38;5;66;03m#列表倒叙\u001b[39;00m\n\u001b[1;32m      3\u001b[0m \u001b[38;5;28mprint\u001b[39m(cities)\n\u001b[1;32m      4\u001b[0m cities\u001b[38;5;241m.\u001b[39msort()\u001b[38;5;66;03m#重新排序\u001b[39;00m\n",
      "\u001b[0;31mNameError\u001b[0m: name 'cities' is not defined"
     ]
    }
   ],
   "source": [
    "#列表排序\n",
    "cities.reverse()#列表倒叙\n",
    "print(cities)\n",
    "cities.sort()#重新排序\n",
    "print(cities)\n",
    "print(\"第一个出现海口的下标或索引是:\"+str(cities.index(\"Haikou\")))\n",
    "cities[3:7]#输出该列表的切片"
   ]
  },
  {
   "cell_type": "code",
   "execution_count": 18,
   "id": "0048839a-b3a3-4747-aad6-5eb412c3820d",
   "metadata": {},
   "outputs": [
    {
     "name": "stdout",
     "output_type": "stream",
     "text": [
      "The position of Manchester in the list is: 2\n",
      "Belfast\n",
      "Belfast\n",
      "The average temperature in Manchester is 13.4\n",
      "The average temperature in Manchester is 13.4\n",
      "The average temperature in Belfast is 15.2 degrees\n",
      "The average temperature in Edinburgh is 14.0\n",
      "The average temperature in Bristol is 15.6\n",
      "The average temperature in London is 16.5\n",
      "The average temperature in Manchester is 13.4\n",
      "The average temperature in Edinburgh is 14.0\n",
      "The average temperature in Belfast is 15.2\n",
      "The average temperature in York is 14.8\n"
     ]
    }
   ],
   "source": [
    "cities = [\"Bristol\", \"London\", \"Manchester\", \"Edinburgh\", \"Belfast\", \"York\"]\n",
    "print(\"The position of Manchester in the list is: \" + str(cities.index(\"Manchester\")))\n",
    "print(cities[-4 + 2])\n",
    "print(cities[-2])\n",
    "temperatures = [15.6, 16.5, 13.4, 14.0, 15.2, 14.8]\n",
    "city=\"Manchester\" # Use this to get the solution...\n",
    "# This way is perfectly fine\n",
    "print(\"The average temperature in \" + city + \" is \" + str(temperatures[2]))\n",
    "# This way is more Python 3 and a bit easier to read\n",
    "print(f\"The average temperature in {city} is {str(temperatures[2])}\")\n",
    "city=\"Belfast\"\n",
    "print(f\"The average temperature in {city} is {str(temperatures[4])}\"+\" degrees\") \n",
    "def avg_tmp(city, temperatures):\n",
    "    print(f\"The average temperature in {city} is {temperatures[cities.index(city)]}\")#温度的取值由输入城市的下标决定\n",
    "city=\"Edinburgh\"\n",
    "avg_tmp(city, temperatures)\n",
    "for c in cities:\n",
    "    avg_tmp(c, temperatures)"
   ]
  },
  {
   "cell_type": "code",
   "execution_count": 235,
   "id": "4dfa5d1b-a8aa-4c95-b798-9f0c1a8a2cca",
   "metadata": {},
   "outputs": [
    {
     "data": {
      "text/plain": [
       "{'San Francisco': [37.77, -122.43, 'SFO'],\n",
       " 'London': [51.51, -0.08, 'LDN'],\n",
       " 'Paris': [48.86, 2.29, 'PAR'],\n",
       " 'Beijing': [39.92, 116.4, 'BEI'],\n",
       " 'Chennai': [37.77, -122.43, 'SFO']}"
      ]
     },
     "execution_count": 235,
     "metadata": {},
     "output_type": "execute_result"
    }
   ],
   "source": [
    "cities = {\n",
    "    'San Francisco': [37.77, -122.43, 'SFO'],\n",
    "    'London': [51.51, -0.08, 'LDN'],\n",
    "    'Paris': [48.86,2.29, 'PAR'],\n",
    "    'Beijing': [39.92,116.40 ,'BEI'],\n",
    "}\n",
    "cities1 = {\"Chennai\":[37.77, -122.43, 'SFO']}\n",
    "cities.update(cities1)#更新cities,将1插入\n",
    "cities"
   ]
  },
  {
   "cell_type": "code",
   "execution_count": 246,
   "id": "371ae59b-5ed9-4243-9b68-dcfc139233cb",
   "metadata": {},
   "outputs": [
    {
     "name": "stdout",
     "output_type": "stream",
     "text": [
      "SFO\n",
      "dict_values([[37.77, -122.43, 'SFO'], [51.51, -0.08, 'LDN'], [48.86, 2.29, 'PAR'], [39.92, 116.4, 'BEI'], [37.77, -122.43, 'SFO']])\n",
      "[37.77, -122.43, 'SFO']\n",
      "San Francisco -> SFO\n",
      "London -> LDN\n",
      "Paris -> PAR\n",
      "Beijing -> BEI\n",
      "Chennai -> SFO\n"
     ]
    }
   ],
   "source": [
    "cities = {\n",
    "    'San Francisco': [37.77, -122.43, 'SFO'],\n",
    "    'London': [51.51, -0.08, 'LDN'],\n",
    "    'Paris': [48.86,2.29, 'PAR'],\n",
    "    'Beijing': [39.92,116.40 ,'BEI'],\n",
    "}\n",
    "\n",
    "cities1 = {\"Chennai\":[37.77, -122.43, 'SFO']}\n",
    "cities.update(cities1)\n",
    "cities\n",
    "\n",
    "print( cities['Chennai'][2] )\n",
    "print(cities.values())#打印每个城市的值\n",
    "print(cities.get('Chennai'))\n",
    "for k ,v in cities.items():#定义两个值kv在字典中\n",
    "    print(str(k)+\" -> \"+str(v[2]))"
   ]
  },
  {
   "cell_type": "code",
   "execution_count": 82,
   "id": "ec20bb68-cb36-4b90-9772-af2a703b2078",
   "metadata": {},
   "outputs": [
    {
     "name": "stdout",
     "output_type": "stream",
     "text": [
      "城市是:San Francisco 经度是:37.77纬度是:-122.43 机场是:SFO\n",
      "城市是 San Francisco -> SFO\n",
      "城市是:London 经度是:51.51纬度是:-0.08 机场是:LDN\n",
      "城市是 London -> LDN\n",
      "城市是:Paris 经度是:48.86纬度是:2.29 机场是:PAR\n",
      "城市是 Paris -> PAR\n",
      "城市是:Beijing 经度是:39.92纬度是:116.4 机场是:BEI\n",
      "城市是 Beijing -> BEI\n",
      "城市是:Chennai 经度是:13.08纬度是:80.28 机场是:MAA\n",
      "城市是 Chennai -> MAA\n"
     ]
    }
   ],
   "source": [
    "cities = {\n",
    "    'San Francisco': {\n",
    "        'lat': 37.77, \n",
    "        'lon': -122.43,\n",
    "        'airport': 'SFO'},\n",
    "    'London': {\n",
    "        'lat': 51.51, \n",
    "        'lon': -0.08, \n",
    "        'airport': 'LDN'},\n",
    "    'Paris': {\n",
    "        'lat': 48.86,\n",
    "        'lon': 2.29, \n",
    "        'airport': 'PAR'},\n",
    "    'Beijing': {\n",
    "        'lat': 39.92,\n",
    "        'lon': 116.40,\n",
    "        'airport': 'BEI'},\n",
    "    'Chennai': { \n",
    "        'lat': 13.08, \n",
    "        'lon': 80.28, \n",
    "        'airport': 'MAA'}\n",
    "}\n",
    "\n",
    "for k,v in cities.items():#items以列表返回可遍历的(键, 值) 元组数组，可以用于 for 来循环遍历；items() 方法把字典中每对 key 和 value 组成一个元组，并把这些元组放在列表中返回。\n",
    "    print(\"城市是:\" + k + \" 经度是:\" + str(v[\"lat\"]) + \"纬度是:\" + str(v[\"lon\"])+ \" 机场是:\" + v[ 'airport'])\n",
    "    print(f\"城市是 {k} -> {v['airport']}\")#f要用双引号"
   ]
  },
  {
   "cell_type": "code",
   "execution_count": 247,
   "id": "b1804fc1-7a2e-4b8d-8b7c-0dde9fe4215c",
   "metadata": {},
   "outputs": [
    {
     "name": "stdout",
     "output_type": "stream",
     "text": [
      "The average temperature in Bristol is 15.6\n",
      "The average temperature in London is 16.5\n",
      "The average temperature in Manchester is 13.4\n",
      "The average temperature in Edinburgh is 14.0\n",
      "The average temperature in Belfast is 15.2\n",
      "The average temperature in York is 14.8\n"
     ]
    }
   ],
   "source": [
    "cities = [\"Bristol\", \"London\", \"Manchester\", \"Edinburgh\", \"Belfast\", \"York\"]\n",
    "temperatures = [15.6, 16.5, 13.4, 14.0, 15.2, 14.8]\n",
    "def avg_tmp(city, temperatures):\n",
    "    print(f\"The average temperature in {city} is {temperatures}\")\n",
    "for c in cities:\n",
    "    avg_tmp(c, temperatures[cities.index(c)])"
   ]
  },
  {
   "cell_type": "code",
   "execution_count": 249,
   "id": "8830b154-89c1-4aef-ae74-83e977ba3f61",
   "metadata": {},
   "outputs": [
    {
     "name": "stdout",
     "output_type": "stream",
     "text": [
      "aaaa,aaaaaaa,aaqaa,fgg\n",
      "aaaa,aaaaaaa,aaqaa,fgg\n",
      "['aaaa', 'aaaaaaa', 'aaqaa', 'fgg\\naaaa', 'aaaaaaa', 'aaqaa', 'fgg']\n",
      "['aaaa,aaaaaaa,aaqaa,fgg', 'aaaa,aaaaaaa,aaqaa,fgg']\n"
     ]
    }
   ],
   "source": [
    "a = \"aaaa,aaaaaaa,aaqaa,fgg\"+ '\\n' +\"aaaa,aaaaaaa,aaqaa,fgg\"\n",
    "print(a)\n",
    "test = a.split(',')#以逗号切数据\n",
    "print(test)\n",
    "test = a.splitlines()#以行切数据\n",
    "print(test)"
   ]
  },
  {
   "cell_type": "code",
   "execution_count": 250,
   "id": "ff65e0c0-85f5-4bed-82cd-d15d14745093",
   "metadata": {},
   "outputs": [
    {
     "name": "stdout",
     "output_type": "stream",
     "text": [
      "SFO\n"
     ]
    },
    {
     "ename": "KeyError",
     "evalue": "'Berlin'",
     "output_type": "error",
     "traceback": [
      "\u001b[0;31m---------------------------------------------------------------------------\u001b[0m",
      "\u001b[0;31mKeyError\u001b[0m                                  Traceback (most recent call last)",
      "Input \u001b[0;32mIn [250]\u001b[0m, in \u001b[0;36m<cell line: 11>\u001b[0;34m()\u001b[0m\n\u001b[1;32m      9\u001b[0m cities\n\u001b[1;32m     10\u001b[0m \u001b[38;5;28mprint\u001b[39m( cities[\u001b[38;5;124m'\u001b[39m\u001b[38;5;124mChennai\u001b[39m\u001b[38;5;124m'\u001b[39m][\u001b[38;5;241m2\u001b[39m] )\n\u001b[0;32m---> 11\u001b[0m \u001b[38;5;28mprint\u001b[39m(\u001b[43mcities\u001b[49m\u001b[43m[\u001b[49m\u001b[38;5;124;43m'\u001b[39;49m\u001b[38;5;124;43mBerlin\u001b[39;49m\u001b[38;5;124;43m'\u001b[39;49m\u001b[43m]\u001b[49m)\n\u001b[1;32m     12\u001b[0m \u001b[38;5;28mprint\u001b[39m(cities\u001b[38;5;241m.\u001b[39mget(\u001b[38;5;124m'\u001b[39m\u001b[38;5;124mBerlin\u001b[39m\u001b[38;5;124m'\u001b[39m))\n",
      "\u001b[0;31mKeyError\u001b[0m: 'Berlin'"
     ]
    }
   ],
   "source": [
    "cities = {\n",
    "    'San Francisco': [37.77, -122.43, 'SFO'],\n",
    "    'London': [51.51, -0.08, 'LDN'],\n",
    "    'Paris': [48.86,2.29, 'PAR'],\n",
    "    'Beijing': [39.92,116.40 ,'BEI'],\n",
    "}\n",
    "cities1 = {\"Chennai\":[37.77, -122.43, 'SFO']}\n",
    "cities.update(cities1)\n",
    "cities\n",
    "print( cities['Chennai'][2] )\n",
    "print(cities['Berlin'])\n",
    "print(cities.get('Berlin'))"
   ]
  },
  {
   "cell_type": "code",
   "execution_count": 251,
   "id": "d0e37eb8-7e4e-4353-bc05-3216441e32b5",
   "metadata": {},
   "outputs": [
    {
     "name": "stdout",
     "output_type": "stream",
     "text": [
      "San Francisco -> SFO\n",
      "London -> LDN\n",
      "Paris -> PAR\n",
      "Beijing -> BEI\n",
      "Chennai -> SFO\n"
     ]
    }
   ],
   "source": [
    "for k, v in cities.items():\n",
    "    print(str(k)+\" -> \"+str(v[2]))"
   ]
  },
  {
   "cell_type": "code",
   "execution_count": 252,
   "id": "d2fac8be-2777-4c88-86e2-f93d533276c6",
   "metadata": {},
   "outputs": [
    {
     "name": "stdout",
     "output_type": "stream",
     "text": [
      "城市是 San Francisco -> SFO\n",
      "城市是 London -> LDN\n",
      "城市是 Paris -> PAR\n",
      "城市是 Beijing -> BEI\n",
      "城市是 Chennai -> MAA\n"
     ]
    }
   ],
   "source": [
    "cities = {\n",
    "    'San Francisco': {\n",
    "        'lat': 37.77, \n",
    "        'lon': -122.43,\n",
    "        'airport': 'SFO'},\n",
    "    'London': {\n",
    "        'lat': 51.51, \n",
    "        'lon': -0.08, \n",
    "        'airport': 'LDN'},\n",
    "    'Paris': {\n",
    "        'lat': 48.86,\n",
    "        'lon': 2.29, \n",
    "        'airport': 'PAR'},\n",
    "    'Beijing': {\n",
    "        'lat': 39.92,\n",
    "        'lon': 116.40,\n",
    "        'airport': 'BEI'},\n",
    "    'Chennai': { \n",
    "        'lat': 13.08, \n",
    "        'lon': 80.28, \n",
    "        'airport': 'MAA'}\n",
    "}\n",
    "\n",
    "for k,v in cities.items():\n",
    "   # print(\"城市是:\" + k + \" 经度是:\" + str(v[\"lat\"]) + \"纬度是:\" + str(v[\"lon\"])+ \" 机场是:\" + v[ 'airport'])\n",
    "    print(f\"城市是 {k} -> {v['airport']}\")#f要用双引号"
   ]
  },
  {
   "cell_type": "code",
   "execution_count": 253,
   "id": "7745e202-2563-4bbc-a2e7-378450dded7d",
   "metadata": {},
   "outputs": [
    {
     "name": "stdout",
     "output_type": "stream",
     "text": [
      "城市是 San Francisco -> SFO\n",
      "城市是 London -> LDN\n",
      "城市是 Paris -> PAR\n",
      "城市是 Beijing -> BEI\n",
      "城市是 Chennai -> MAA\n"
     ]
    }
   ],
   "source": [
    "cities = {\n",
    "    'San Francisco': {\n",
    "        'lat': 37.77, \n",
    "        'lon': -122.43,\n",
    "        'airport': 'SFO'},\n",
    "    'London': {\n",
    "        'lat': 51.51, \n",
    "        'lon': -0.08, \n",
    "        'airport': 'LDN'},\n",
    "    'Paris': {\n",
    "        'lat': 48.86,\n",
    "        'lon': 2.29, \n",
    "        'airport': 'PAR'},\n",
    "    'Beijing': {\n",
    "        'lat': 39.92,\n",
    "        'lon': 116.40,\n",
    "        'airport': 'BEI'},\n",
    "    'Chennai': { \n",
    "        'lat': 13.08, \n",
    "        'lon': 80.28, \n",
    "        'airport': 'MAA'}\n",
    "}\n",
    "\n",
    "for k,v in cities.items():\n",
    "   # print(\"城市是:\" + k + \" 经度是:\" + str(v[\"lat\"]) + \"纬度是:\" + str(v[\"lon\"])+ \" 机场是:\" + v[ 'airport'])\n",
    "    print(f\"城市是 {k} -> {v['airport']}\")#f要用双引号"
   ]
  },
  {
   "cell_type": "code",
   "execution_count": 254,
   "id": "19d9e347-7004-4481-9dbc-7a8d9431d277",
   "metadata": {},
   "outputs": [
    {
     "name": "stdout",
     "output_type": "stream",
     "text": [
      "城市是:San Francisco坐标是:[37.77, -122.43]机场是:SFO\n",
      "城市是:London坐标是:[51.51, -0.08]机场是:LDN\n",
      "城市是:Paris坐标是:[48.86, 2.29]机场是:PAR\n",
      "城市是:Beijing坐标是:[39.92, 116.4]机场是:BEI\n",
      "城市是:Chennai坐标是:[13.08, 80.28]机场是:MAA\n"
     ]
    }
   ],
   "source": [
    "cities_alt = [\n",
    "    {'name':     'San Francisco',\n",
    "     'position': [37.77, -122.43],\n",
    "     'airport':  'SFO'},\n",
    "    {'name':     'London',\n",
    "     'position': [51.51, -0.08],\n",
    "     'airport':  'LDN'},\n",
    "    {'name':     'Paris',\n",
    "     'position': [48.86, 2.29],\n",
    "     'airport':  'PAR'},\n",
    "    {'name':     'Beijing',\n",
    "     'position': [39.92, 116.40],\n",
    "     'airport':  'BEI'},\n",
    "    {'name':     'Chennai', \n",
    "     'position': [13.08, 80.28],\n",
    "      'airport': 'MAA'}\n",
    "]\n",
    "\n",
    "for c in cities_alt:\n",
    "    print(\"城市是:\" + str(c[\"name\"]) + \"坐标是:\" + str(c[\"position\"]) + \"机场是:\" + str(c[\"airport\"]))"
   ]
  },
  {
   "cell_type": "code",
   "execution_count": 9,
   "id": "3b564ced-de03-4840-ac3f-5ad7a0e6b560",
   "metadata": {},
   "outputs": [
    {
     "ename": "URLError",
     "evalue": "<urlopen error EOF occurred in violation of protocol (_ssl.c:997)>",
     "output_type": "error",
     "traceback": [
      "\u001b[0;31m---------------------------------------------------------------------------\u001b[0m",
      "\u001b[0;31mSSLEOFError\u001b[0m                               Traceback (most recent call last)",
      "File \u001b[0;32m/opt/conda/lib/python3.10/urllib/request.py:1348\u001b[0m, in \u001b[0;36mAbstractHTTPHandler.do_open\u001b[0;34m(self, http_class, req, **http_conn_args)\u001b[0m\n\u001b[1;32m   1347\u001b[0m \u001b[38;5;28;01mtry\u001b[39;00m:\n\u001b[0;32m-> 1348\u001b[0m     \u001b[43mh\u001b[49m\u001b[38;5;241;43m.\u001b[39;49m\u001b[43mrequest\u001b[49m\u001b[43m(\u001b[49m\u001b[43mreq\u001b[49m\u001b[38;5;241;43m.\u001b[39;49m\u001b[43mget_method\u001b[49m\u001b[43m(\u001b[49m\u001b[43m)\u001b[49m\u001b[43m,\u001b[49m\u001b[43m \u001b[49m\u001b[43mreq\u001b[49m\u001b[38;5;241;43m.\u001b[39;49m\u001b[43mselector\u001b[49m\u001b[43m,\u001b[49m\u001b[43m \u001b[49m\u001b[43mreq\u001b[49m\u001b[38;5;241;43m.\u001b[39;49m\u001b[43mdata\u001b[49m\u001b[43m,\u001b[49m\u001b[43m \u001b[49m\u001b[43mheaders\u001b[49m\u001b[43m,\u001b[49m\n\u001b[1;32m   1349\u001b[0m \u001b[43m              \u001b[49m\u001b[43mencode_chunked\u001b[49m\u001b[38;5;241;43m=\u001b[39;49m\u001b[43mreq\u001b[49m\u001b[38;5;241;43m.\u001b[39;49m\u001b[43mhas_header\u001b[49m\u001b[43m(\u001b[49m\u001b[38;5;124;43m'\u001b[39;49m\u001b[38;5;124;43mTransfer-encoding\u001b[39;49m\u001b[38;5;124;43m'\u001b[39;49m\u001b[43m)\u001b[49m\u001b[43m)\u001b[49m\n\u001b[1;32m   1350\u001b[0m \u001b[38;5;28;01mexcept\u001b[39;00m \u001b[38;5;167;01mOSError\u001b[39;00m \u001b[38;5;28;01mas\u001b[39;00m err: \u001b[38;5;66;03m# timeout error\u001b[39;00m\n",
      "File \u001b[0;32m/opt/conda/lib/python3.10/http/client.py:1282\u001b[0m, in \u001b[0;36mHTTPConnection.request\u001b[0;34m(self, method, url, body, headers, encode_chunked)\u001b[0m\n\u001b[1;32m   1281\u001b[0m \u001b[38;5;124;03m\"\"\"Send a complete request to the server.\"\"\"\u001b[39;00m\n\u001b[0;32m-> 1282\u001b[0m \u001b[38;5;28;43mself\u001b[39;49m\u001b[38;5;241;43m.\u001b[39;49m\u001b[43m_send_request\u001b[49m\u001b[43m(\u001b[49m\u001b[43mmethod\u001b[49m\u001b[43m,\u001b[49m\u001b[43m \u001b[49m\u001b[43murl\u001b[49m\u001b[43m,\u001b[49m\u001b[43m \u001b[49m\u001b[43mbody\u001b[49m\u001b[43m,\u001b[49m\u001b[43m \u001b[49m\u001b[43mheaders\u001b[49m\u001b[43m,\u001b[49m\u001b[43m \u001b[49m\u001b[43mencode_chunked\u001b[49m\u001b[43m)\u001b[49m\n",
      "File \u001b[0;32m/opt/conda/lib/python3.10/http/client.py:1328\u001b[0m, in \u001b[0;36mHTTPConnection._send_request\u001b[0;34m(self, method, url, body, headers, encode_chunked)\u001b[0m\n\u001b[1;32m   1327\u001b[0m     body \u001b[38;5;241m=\u001b[39m _encode(body, \u001b[38;5;124m'\u001b[39m\u001b[38;5;124mbody\u001b[39m\u001b[38;5;124m'\u001b[39m)\n\u001b[0;32m-> 1328\u001b[0m \u001b[38;5;28;43mself\u001b[39;49m\u001b[38;5;241;43m.\u001b[39;49m\u001b[43mendheaders\u001b[49m\u001b[43m(\u001b[49m\u001b[43mbody\u001b[49m\u001b[43m,\u001b[49m\u001b[43m \u001b[49m\u001b[43mencode_chunked\u001b[49m\u001b[38;5;241;43m=\u001b[39;49m\u001b[43mencode_chunked\u001b[49m\u001b[43m)\u001b[49m\n",
      "File \u001b[0;32m/opt/conda/lib/python3.10/http/client.py:1277\u001b[0m, in \u001b[0;36mHTTPConnection.endheaders\u001b[0;34m(self, message_body, encode_chunked)\u001b[0m\n\u001b[1;32m   1276\u001b[0m     \u001b[38;5;28;01mraise\u001b[39;00m CannotSendHeader()\n\u001b[0;32m-> 1277\u001b[0m \u001b[38;5;28;43mself\u001b[39;49m\u001b[38;5;241;43m.\u001b[39;49m\u001b[43m_send_output\u001b[49m\u001b[43m(\u001b[49m\u001b[43mmessage_body\u001b[49m\u001b[43m,\u001b[49m\u001b[43m \u001b[49m\u001b[43mencode_chunked\u001b[49m\u001b[38;5;241;43m=\u001b[39;49m\u001b[43mencode_chunked\u001b[49m\u001b[43m)\u001b[49m\n",
      "File \u001b[0;32m/opt/conda/lib/python3.10/http/client.py:1037\u001b[0m, in \u001b[0;36mHTTPConnection._send_output\u001b[0;34m(self, message_body, encode_chunked)\u001b[0m\n\u001b[1;32m   1036\u001b[0m \u001b[38;5;28;01mdel\u001b[39;00m \u001b[38;5;28mself\u001b[39m\u001b[38;5;241m.\u001b[39m_buffer[:]\n\u001b[0;32m-> 1037\u001b[0m \u001b[38;5;28;43mself\u001b[39;49m\u001b[38;5;241;43m.\u001b[39;49m\u001b[43msend\u001b[49m\u001b[43m(\u001b[49m\u001b[43mmsg\u001b[49m\u001b[43m)\u001b[49m\n\u001b[1;32m   1039\u001b[0m \u001b[38;5;28;01mif\u001b[39;00m message_body \u001b[38;5;129;01mis\u001b[39;00m \u001b[38;5;129;01mnot\u001b[39;00m \u001b[38;5;28;01mNone\u001b[39;00m:\n\u001b[1;32m   1040\u001b[0m \n\u001b[1;32m   1041\u001b[0m     \u001b[38;5;66;03m# create a consistent interface to message_body\u001b[39;00m\n",
      "File \u001b[0;32m/opt/conda/lib/python3.10/http/client.py:975\u001b[0m, in \u001b[0;36mHTTPConnection.send\u001b[0;34m(self, data)\u001b[0m\n\u001b[1;32m    974\u001b[0m \u001b[38;5;28;01mif\u001b[39;00m \u001b[38;5;28mself\u001b[39m\u001b[38;5;241m.\u001b[39mauto_open:\n\u001b[0;32m--> 975\u001b[0m     \u001b[38;5;28;43mself\u001b[39;49m\u001b[38;5;241;43m.\u001b[39;49m\u001b[43mconnect\u001b[49m\u001b[43m(\u001b[49m\u001b[43m)\u001b[49m\n\u001b[1;32m    976\u001b[0m \u001b[38;5;28;01melse\u001b[39;00m:\n",
      "File \u001b[0;32m/opt/conda/lib/python3.10/http/client.py:1454\u001b[0m, in \u001b[0;36mHTTPSConnection.connect\u001b[0;34m(self)\u001b[0m\n\u001b[1;32m   1452\u001b[0m     server_hostname \u001b[38;5;241m=\u001b[39m \u001b[38;5;28mself\u001b[39m\u001b[38;5;241m.\u001b[39mhost\n\u001b[0;32m-> 1454\u001b[0m \u001b[38;5;28mself\u001b[39m\u001b[38;5;241m.\u001b[39msock \u001b[38;5;241m=\u001b[39m \u001b[38;5;28;43mself\u001b[39;49m\u001b[38;5;241;43m.\u001b[39;49m\u001b[43m_context\u001b[49m\u001b[38;5;241;43m.\u001b[39;49m\u001b[43mwrap_socket\u001b[49m\u001b[43m(\u001b[49m\u001b[38;5;28;43mself\u001b[39;49m\u001b[38;5;241;43m.\u001b[39;49m\u001b[43msock\u001b[49m\u001b[43m,\u001b[49m\n\u001b[1;32m   1455\u001b[0m \u001b[43m                                      \u001b[49m\u001b[43mserver_hostname\u001b[49m\u001b[38;5;241;43m=\u001b[39;49m\u001b[43mserver_hostname\u001b[49m\u001b[43m)\u001b[49m\n",
      "File \u001b[0;32m/opt/conda/lib/python3.10/ssl.py:513\u001b[0m, in \u001b[0;36mSSLContext.wrap_socket\u001b[0;34m(self, sock, server_side, do_handshake_on_connect, suppress_ragged_eofs, server_hostname, session)\u001b[0m\n\u001b[1;32m    507\u001b[0m \u001b[38;5;28;01mdef\u001b[39;00m \u001b[38;5;21mwrap_socket\u001b[39m(\u001b[38;5;28mself\u001b[39m, sock, server_side\u001b[38;5;241m=\u001b[39m\u001b[38;5;28;01mFalse\u001b[39;00m,\n\u001b[1;32m    508\u001b[0m                 do_handshake_on_connect\u001b[38;5;241m=\u001b[39m\u001b[38;5;28;01mTrue\u001b[39;00m,\n\u001b[1;32m    509\u001b[0m                 suppress_ragged_eofs\u001b[38;5;241m=\u001b[39m\u001b[38;5;28;01mTrue\u001b[39;00m,\n\u001b[1;32m    510\u001b[0m                 server_hostname\u001b[38;5;241m=\u001b[39m\u001b[38;5;28;01mNone\u001b[39;00m, session\u001b[38;5;241m=\u001b[39m\u001b[38;5;28;01mNone\u001b[39;00m):\n\u001b[1;32m    511\u001b[0m     \u001b[38;5;66;03m# SSLSocket class handles server_hostname encoding before it calls\u001b[39;00m\n\u001b[1;32m    512\u001b[0m     \u001b[38;5;66;03m# ctx._wrap_socket()\u001b[39;00m\n\u001b[0;32m--> 513\u001b[0m     \u001b[38;5;28;01mreturn\u001b[39;00m \u001b[38;5;28;43mself\u001b[39;49m\u001b[38;5;241;43m.\u001b[39;49m\u001b[43msslsocket_class\u001b[49m\u001b[38;5;241;43m.\u001b[39;49m\u001b[43m_create\u001b[49m\u001b[43m(\u001b[49m\n\u001b[1;32m    514\u001b[0m \u001b[43m        \u001b[49m\u001b[43msock\u001b[49m\u001b[38;5;241;43m=\u001b[39;49m\u001b[43msock\u001b[49m\u001b[43m,\u001b[49m\n\u001b[1;32m    515\u001b[0m \u001b[43m        \u001b[49m\u001b[43mserver_side\u001b[49m\u001b[38;5;241;43m=\u001b[39;49m\u001b[43mserver_side\u001b[49m\u001b[43m,\u001b[49m\n\u001b[1;32m    516\u001b[0m \u001b[43m        \u001b[49m\u001b[43mdo_handshake_on_connect\u001b[49m\u001b[38;5;241;43m=\u001b[39;49m\u001b[43mdo_handshake_on_connect\u001b[49m\u001b[43m,\u001b[49m\n\u001b[1;32m    517\u001b[0m \u001b[43m        \u001b[49m\u001b[43msuppress_ragged_eofs\u001b[49m\u001b[38;5;241;43m=\u001b[39;49m\u001b[43msuppress_ragged_eofs\u001b[49m\u001b[43m,\u001b[49m\n\u001b[1;32m    518\u001b[0m \u001b[43m        \u001b[49m\u001b[43mserver_hostname\u001b[49m\u001b[38;5;241;43m=\u001b[39;49m\u001b[43mserver_hostname\u001b[49m\u001b[43m,\u001b[49m\n\u001b[1;32m    519\u001b[0m \u001b[43m        \u001b[49m\u001b[43mcontext\u001b[49m\u001b[38;5;241;43m=\u001b[39;49m\u001b[38;5;28;43mself\u001b[39;49m\u001b[43m,\u001b[49m\n\u001b[1;32m    520\u001b[0m \u001b[43m        \u001b[49m\u001b[43msession\u001b[49m\u001b[38;5;241;43m=\u001b[39;49m\u001b[43msession\u001b[49m\n\u001b[1;32m    521\u001b[0m \u001b[43m    \u001b[49m\u001b[43m)\u001b[49m\n",
      "File \u001b[0;32m/opt/conda/lib/python3.10/ssl.py:1071\u001b[0m, in \u001b[0;36mSSLSocket._create\u001b[0;34m(cls, sock, server_side, do_handshake_on_connect, suppress_ragged_eofs, server_hostname, context, session)\u001b[0m\n\u001b[1;32m   1070\u001b[0m             \u001b[38;5;28;01mraise\u001b[39;00m \u001b[38;5;167;01mValueError\u001b[39;00m(\u001b[38;5;124m\"\u001b[39m\u001b[38;5;124mdo_handshake_on_connect should not be specified for non-blocking sockets\u001b[39m\u001b[38;5;124m\"\u001b[39m)\n\u001b[0;32m-> 1071\u001b[0m         \u001b[38;5;28;43mself\u001b[39;49m\u001b[38;5;241;43m.\u001b[39;49m\u001b[43mdo_handshake\u001b[49m\u001b[43m(\u001b[49m\u001b[43m)\u001b[49m\n\u001b[1;32m   1072\u001b[0m \u001b[38;5;28;01mexcept\u001b[39;00m (\u001b[38;5;167;01mOSError\u001b[39;00m, \u001b[38;5;167;01mValueError\u001b[39;00m):\n",
      "File \u001b[0;32m/opt/conda/lib/python3.10/ssl.py:1342\u001b[0m, in \u001b[0;36mSSLSocket.do_handshake\u001b[0;34m(self, block)\u001b[0m\n\u001b[1;32m   1341\u001b[0m         \u001b[38;5;28mself\u001b[39m\u001b[38;5;241m.\u001b[39msettimeout(\u001b[38;5;28;01mNone\u001b[39;00m)\n\u001b[0;32m-> 1342\u001b[0m     \u001b[38;5;28;43mself\u001b[39;49m\u001b[38;5;241;43m.\u001b[39;49m\u001b[43m_sslobj\u001b[49m\u001b[38;5;241;43m.\u001b[39;49m\u001b[43mdo_handshake\u001b[49m\u001b[43m(\u001b[49m\u001b[43m)\u001b[49m\n\u001b[1;32m   1343\u001b[0m \u001b[38;5;28;01mfinally\u001b[39;00m:\n",
      "\u001b[0;31mSSLEOFError\u001b[0m: EOF occurred in violation of protocol (_ssl.c:997)",
      "\nDuring handling of the above exception, another exception occurred:\n",
      "\u001b[0;31mURLError\u001b[0m                                  Traceback (most recent call last)",
      "Input \u001b[0;32mIn [9]\u001b[0m, in \u001b[0;36m<cell line: 9>\u001b[0;34m()\u001b[0m\n\u001b[1;32m      6\u001b[0m url \u001b[38;5;241m=\u001b[39m \u001b[38;5;124m'\u001b[39m\u001b[38;5;124mhttps://raw.githubusercontent.com/jreades/fsds/master/data/src/Wikipedia-Cities-simple.csv\u001b[39m\u001b[38;5;124m'\u001b[39m\u001b[38;5;66;03m#定义URL为某个连接\u001b[39;00m\n\u001b[1;32m      7\u001b[0m \u001b[38;5;66;03m# Read the URL stream into variable called 'response'\u001b[39;00m\n\u001b[1;32m      8\u001b[0m \u001b[38;5;66;03m# using the function that we imported above\u001b[39;00m\n\u001b[0;32m----> 9\u001b[0m response \u001b[38;5;241m=\u001b[39m \u001b[43murlopen\u001b[49m\u001b[43m(\u001b[49m\u001b[43murl\u001b[49m\u001b[43m)\u001b[49m\u001b[38;5;66;03m#使用urlopen函数打开ucl,并将反馈的值赋到response\u001b[39;00m\n\u001b[1;32m     10\u001b[0m data \u001b[38;5;241m=\u001b[39m response\u001b[38;5;241m.\u001b[39mread()\u001b[38;5;241m.\u001b[39mdecode(\u001b[38;5;124m'\u001b[39m\u001b[38;5;124mutf-8\u001b[39m\u001b[38;5;124m'\u001b[39m)\u001b[38;5;66;03m#使用read函数读取反馈, 并设置代码为utf-8\u001b[39;00m\n\u001b[1;32m     11\u001b[0m \u001b[38;5;66;03m# You might want to explore what `__class__` and `__name__`\u001b[39;00m\n\u001b[1;32m     12\u001b[0m \u001b[38;5;66;03m# are doing, but basically the give us a way of finding out what\u001b[39;00m\n\u001b[1;32m     13\u001b[0m \u001b[38;5;66;03m# is 'behind' more complex variables\u001b[39;00m\n\u001b[1;32m     14\u001b[0m \u001b[38;5;66;03m# Now read from the stream, decoding so that we get actual text\u001b[39;00m\n",
      "File \u001b[0;32m/opt/conda/lib/python3.10/urllib/request.py:216\u001b[0m, in \u001b[0;36murlopen\u001b[0;34m(url, data, timeout, cafile, capath, cadefault, context)\u001b[0m\n\u001b[1;32m    214\u001b[0m \u001b[38;5;28;01melse\u001b[39;00m:\n\u001b[1;32m    215\u001b[0m     opener \u001b[38;5;241m=\u001b[39m _opener\n\u001b[0;32m--> 216\u001b[0m \u001b[38;5;28;01mreturn\u001b[39;00m \u001b[43mopener\u001b[49m\u001b[38;5;241;43m.\u001b[39;49m\u001b[43mopen\u001b[49m\u001b[43m(\u001b[49m\u001b[43murl\u001b[49m\u001b[43m,\u001b[49m\u001b[43m \u001b[49m\u001b[43mdata\u001b[49m\u001b[43m,\u001b[49m\u001b[43m \u001b[49m\u001b[43mtimeout\u001b[49m\u001b[43m)\u001b[49m\n",
      "File \u001b[0;32m/opt/conda/lib/python3.10/urllib/request.py:519\u001b[0m, in \u001b[0;36mOpenerDirector.open\u001b[0;34m(self, fullurl, data, timeout)\u001b[0m\n\u001b[1;32m    516\u001b[0m     req \u001b[38;5;241m=\u001b[39m meth(req)\n\u001b[1;32m    518\u001b[0m sys\u001b[38;5;241m.\u001b[39maudit(\u001b[38;5;124m'\u001b[39m\u001b[38;5;124murllib.Request\u001b[39m\u001b[38;5;124m'\u001b[39m, req\u001b[38;5;241m.\u001b[39mfull_url, req\u001b[38;5;241m.\u001b[39mdata, req\u001b[38;5;241m.\u001b[39mheaders, req\u001b[38;5;241m.\u001b[39mget_method())\n\u001b[0;32m--> 519\u001b[0m response \u001b[38;5;241m=\u001b[39m \u001b[38;5;28;43mself\u001b[39;49m\u001b[38;5;241;43m.\u001b[39;49m\u001b[43m_open\u001b[49m\u001b[43m(\u001b[49m\u001b[43mreq\u001b[49m\u001b[43m,\u001b[49m\u001b[43m \u001b[49m\u001b[43mdata\u001b[49m\u001b[43m)\u001b[49m\n\u001b[1;32m    521\u001b[0m \u001b[38;5;66;03m# post-process response\u001b[39;00m\n\u001b[1;32m    522\u001b[0m meth_name \u001b[38;5;241m=\u001b[39m protocol\u001b[38;5;241m+\u001b[39m\u001b[38;5;124m\"\u001b[39m\u001b[38;5;124m_response\u001b[39m\u001b[38;5;124m\"\u001b[39m\n",
      "File \u001b[0;32m/opt/conda/lib/python3.10/urllib/request.py:536\u001b[0m, in \u001b[0;36mOpenerDirector._open\u001b[0;34m(self, req, data)\u001b[0m\n\u001b[1;32m    533\u001b[0m     \u001b[38;5;28;01mreturn\u001b[39;00m result\n\u001b[1;32m    535\u001b[0m protocol \u001b[38;5;241m=\u001b[39m req\u001b[38;5;241m.\u001b[39mtype\n\u001b[0;32m--> 536\u001b[0m result \u001b[38;5;241m=\u001b[39m \u001b[38;5;28;43mself\u001b[39;49m\u001b[38;5;241;43m.\u001b[39;49m\u001b[43m_call_chain\u001b[49m\u001b[43m(\u001b[49m\u001b[38;5;28;43mself\u001b[39;49m\u001b[38;5;241;43m.\u001b[39;49m\u001b[43mhandle_open\u001b[49m\u001b[43m,\u001b[49m\u001b[43m \u001b[49m\u001b[43mprotocol\u001b[49m\u001b[43m,\u001b[49m\u001b[43m \u001b[49m\u001b[43mprotocol\u001b[49m\u001b[43m \u001b[49m\u001b[38;5;241;43m+\u001b[39;49m\n\u001b[1;32m    537\u001b[0m \u001b[43m                          \u001b[49m\u001b[38;5;124;43m'\u001b[39;49m\u001b[38;5;124;43m_open\u001b[39;49m\u001b[38;5;124;43m'\u001b[39;49m\u001b[43m,\u001b[49m\u001b[43m \u001b[49m\u001b[43mreq\u001b[49m\u001b[43m)\u001b[49m\n\u001b[1;32m    538\u001b[0m \u001b[38;5;28;01mif\u001b[39;00m result:\n\u001b[1;32m    539\u001b[0m     \u001b[38;5;28;01mreturn\u001b[39;00m result\n",
      "File \u001b[0;32m/opt/conda/lib/python3.10/urllib/request.py:496\u001b[0m, in \u001b[0;36mOpenerDirector._call_chain\u001b[0;34m(self, chain, kind, meth_name, *args)\u001b[0m\n\u001b[1;32m    494\u001b[0m \u001b[38;5;28;01mfor\u001b[39;00m handler \u001b[38;5;129;01min\u001b[39;00m handlers:\n\u001b[1;32m    495\u001b[0m     func \u001b[38;5;241m=\u001b[39m \u001b[38;5;28mgetattr\u001b[39m(handler, meth_name)\n\u001b[0;32m--> 496\u001b[0m     result \u001b[38;5;241m=\u001b[39m \u001b[43mfunc\u001b[49m\u001b[43m(\u001b[49m\u001b[38;5;241;43m*\u001b[39;49m\u001b[43margs\u001b[49m\u001b[43m)\u001b[49m\n\u001b[1;32m    497\u001b[0m     \u001b[38;5;28;01mif\u001b[39;00m result \u001b[38;5;129;01mis\u001b[39;00m \u001b[38;5;129;01mnot\u001b[39;00m \u001b[38;5;28;01mNone\u001b[39;00m:\n\u001b[1;32m    498\u001b[0m         \u001b[38;5;28;01mreturn\u001b[39;00m result\n",
      "File \u001b[0;32m/opt/conda/lib/python3.10/urllib/request.py:1391\u001b[0m, in \u001b[0;36mHTTPSHandler.https_open\u001b[0;34m(self, req)\u001b[0m\n\u001b[1;32m   1390\u001b[0m \u001b[38;5;28;01mdef\u001b[39;00m \u001b[38;5;21mhttps_open\u001b[39m(\u001b[38;5;28mself\u001b[39m, req):\n\u001b[0;32m-> 1391\u001b[0m     \u001b[38;5;28;01mreturn\u001b[39;00m \u001b[38;5;28;43mself\u001b[39;49m\u001b[38;5;241;43m.\u001b[39;49m\u001b[43mdo_open\u001b[49m\u001b[43m(\u001b[49m\u001b[43mhttp\u001b[49m\u001b[38;5;241;43m.\u001b[39;49m\u001b[43mclient\u001b[49m\u001b[38;5;241;43m.\u001b[39;49m\u001b[43mHTTPSConnection\u001b[49m\u001b[43m,\u001b[49m\u001b[43m \u001b[49m\u001b[43mreq\u001b[49m\u001b[43m,\u001b[49m\n\u001b[1;32m   1392\u001b[0m \u001b[43m        \u001b[49m\u001b[43mcontext\u001b[49m\u001b[38;5;241;43m=\u001b[39;49m\u001b[38;5;28;43mself\u001b[39;49m\u001b[38;5;241;43m.\u001b[39;49m\u001b[43m_context\u001b[49m\u001b[43m,\u001b[49m\u001b[43m \u001b[49m\u001b[43mcheck_hostname\u001b[49m\u001b[38;5;241;43m=\u001b[39;49m\u001b[38;5;28;43mself\u001b[39;49m\u001b[38;5;241;43m.\u001b[39;49m\u001b[43m_check_hostname\u001b[49m\u001b[43m)\u001b[49m\n",
      "File \u001b[0;32m/opt/conda/lib/python3.10/urllib/request.py:1351\u001b[0m, in \u001b[0;36mAbstractHTTPHandler.do_open\u001b[0;34m(self, http_class, req, **http_conn_args)\u001b[0m\n\u001b[1;32m   1348\u001b[0m         h\u001b[38;5;241m.\u001b[39mrequest(req\u001b[38;5;241m.\u001b[39mget_method(), req\u001b[38;5;241m.\u001b[39mselector, req\u001b[38;5;241m.\u001b[39mdata, headers,\n\u001b[1;32m   1349\u001b[0m                   encode_chunked\u001b[38;5;241m=\u001b[39mreq\u001b[38;5;241m.\u001b[39mhas_header(\u001b[38;5;124m'\u001b[39m\u001b[38;5;124mTransfer-encoding\u001b[39m\u001b[38;5;124m'\u001b[39m))\n\u001b[1;32m   1350\u001b[0m     \u001b[38;5;28;01mexcept\u001b[39;00m \u001b[38;5;167;01mOSError\u001b[39;00m \u001b[38;5;28;01mas\u001b[39;00m err: \u001b[38;5;66;03m# timeout error\u001b[39;00m\n\u001b[0;32m-> 1351\u001b[0m         \u001b[38;5;28;01mraise\u001b[39;00m URLError(err)\n\u001b[1;32m   1352\u001b[0m     r \u001b[38;5;241m=\u001b[39m h\u001b[38;5;241m.\u001b[39mgetresponse()\n\u001b[1;32m   1353\u001b[0m \u001b[38;5;28;01mexcept\u001b[39;00m:\n",
      "\u001b[0;31mURLError\u001b[0m: <urlopen error EOF occurred in violation of protocol (_ssl.c:997)>"
     ]
    }
   ],
   "source": [
    "from urllib.request import urlopen\n",
    "\n",
    "# Given the info you were given above, what do you \n",
    "# think the value of 'url' should be? What\n",
    "# type of variable is it? int or string? \n",
    "url = 'https://raw.githubusercontent.com/jreades/fsds/master/data/src/Wikipedia-Cities-simple.csv'#定义URL为某个连接\n",
    "# Read the URL stream into variable called 'response'\n",
    "# using the function that we imported above\n",
    "response = urlopen(url)#使用urlopen函数打开ucl,并将反馈的值赋到response\n",
    "data = response.().decode('utf-8')#使用read函数读取反馈, 并设置代码为utf-8\n",
    "# You might want to explore what `__class__` and `__name__`\n",
    "# are doing, but basically the give us a way of finding out what\n",
    "# is 'behind' more complex variables\n",
    "# Now read from the stream, decoding so that we get actual text\n",
    "print(f\"'raw' variable is of type: '{data.__class__.__name__}'.\")\n",
    "print(f\"Raw content is:\\n{data}\\n\")\n",
    "data.type()"
   ]
  },
  {
   "cell_type": "code",
   "execution_count": 261,
   "id": "5293abfe-d1f9-4d29-b1df-9173e238bad9",
   "metadata": {},
   "outputs": [
    {
     "name": "stdout",
     "output_type": "stream",
     "text": [
      "There are 352 characters in the data variable.\n",
      "The first 125 characters are: 'City,Population,Latitude,Longitude\n",
      "Perth,45770,56.39583,-3.43333\n",
      "Armagh,14777,54.3499,-6.6546\n",
      "Dundee,147268,56.462,-2.9707'\n"
     ]
    }
   ],
   "source": [
    "print(f\"There are {len(data)} characters in the data variable.\")#计算data总共多少个字符\n",
    "print(f\"The first 125 characters are: '{data[:125]}'\") # Notice that '\\n' count here!#前125个字符"
   ]
  },
  {
   "cell_type": "code",
   "execution_count": 264,
   "id": "09ee8e39-bd53-44f4-9705-7cc5170858ea",
   "metadata": {},
   "outputs": [
    {
     "name": "stdout",
     "output_type": "stream",
     "text": [
      "['City,Population,Latitude,Longitude', 'Perth,45770,56.39583,-3.43333', 'Armagh,14777,54.3499,-6.6546', 'Dundee,147268,56.462,-2.9707', 'Colchester,194706,51.88861,0.90361', 'Salisbury,40302,51.07,-1.79', 'Portsmouth,205056,50.80583,-1.08722', 'Wakefield,325837,53.683,-1.499', 'Bradford,522452,53.792,-1.754', 'Lancaster,138375,54.047,-2.801', 'Bangor,18808,53.228,-4.128']\n",
      "'rows' variable is of type: list'.\n",
      "Armagh,14777,54.3499,-6.6546\n"
     ]
    }
   ],
   "source": [
    "rows = data.splitlines()#splitlines是将每一行变成列表里的一个元素,并将该列表赋值给rows\n",
    "print(rows)\n",
    "print(f\"'rows' variable is of type: {rows.__class__.__name__}'.\")#rows的格式属性是list\n",
    "print(rows[2])"
   ]
  },
  {
   "cell_type": "code",
   "execution_count": 8,
   "id": "b0c092c6-30b0-451e-8c96-006a4028984d",
   "metadata": {},
   "outputs": [
    {
     "ename": "NameError",
     "evalue": "name 'rows' is not defined",
     "output_type": "error",
     "traceback": [
      "\u001b[0;31m---------------------------------------------------------------------------\u001b[0m",
      "\u001b[0;31mNameError\u001b[0m                                 Traceback (most recent call last)",
      "Input \u001b[0;32mIn [8]\u001b[0m, in \u001b[0;36m<cell line: 2>\u001b[0;34m()\u001b[0m\n\u001b[1;32m      1\u001b[0m \u001b[38;5;66;03m#不明白\u001b[39;00m\n\u001b[0;32m----> 2\u001b[0m \u001b[38;5;28mprint\u001b[39m(\u001b[38;5;124mf\u001b[39m\u001b[38;5;124m\"\u001b[39m\u001b[38;5;124mThere are \u001b[39m\u001b[38;5;132;01m{\u001b[39;00m\u001b[38;5;28mlen\u001b[39m(rows)\u001b[38;5;132;01m}\u001b[39;00m\u001b[38;5;124m rows of data.\u001b[39m\u001b[38;5;124m\"\u001b[39m)\n\u001b[1;32m      3\u001b[0m \u001b[38;5;28mprint\u001b[39m(\u001b[38;5;124m\"\u001b[39m\u001b[38;5;130;01m\\n\u001b[39;00m\u001b[38;5;124m\"\u001b[39m\u001b[38;5;241m.\u001b[39mjoin(rows[\u001b[38;5;241m0\u001b[39m:\u001b[38;5;241m2\u001b[39m])) \n\u001b[1;32m      4\u001b[0m q \u001b[38;5;241m=\u001b[39m \u001b[38;5;124m\"\u001b[39m\u001b[38;5;130;01m\\n\u001b[39;00m\u001b[38;5;124m\"\u001b[39m\u001b[38;5;124m\"\u001b[39m\u001b[38;5;124m\"\u001b[39m\u001b[38;5;241m.\u001b[39mjoin(rows[\u001b[38;5;241m0\u001b[39m:\u001b[38;5;241m2\u001b[39m])\n",
      "\u001b[0;31mNameError\u001b[0m: name 'rows' is not defined"
     ]
    }
   ],
   "source": [
    "#不明白\n",
    "print(f\"There are {len(rows)} rows of data.\")\n",
    "print(\"\\n\".join(rows[0:2])) \n",
    "q = \"\\n\"\"\".join(rows[0:2])\n",
    "print(q)\n"
   ]
  },
  {
   "cell_type": "code",
   "execution_count": 1,
   "id": "22bc4237-5f09-4df9-a8e5-63420fed03be",
   "metadata": {},
   "outputs": [
    {
     "name": "stdout",
     "output_type": "stream",
     "text": [
      "['abc', 'efgh']\n",
      "Help on built-in function split:\n",
      "\n",
      "split(sep=None, maxsplit=-1) method of builtins.str instance\n",
      "    Return a list of the substrings in the string, using sep as the separator string.\n",
      "    \n",
      "      sep\n",
      "        The separator used to split the string.\n",
      "    \n",
      "        When set to None (the default value), will split on any whitespace\n",
      "        character (including \\\\n \\\\r \\\\t \\\\f and spaces) and will discard\n",
      "        empty strings from the result.\n",
      "      maxsplit\n",
      "        Maximum number of splits (starting from the left).\n",
      "        -1 (the default value) means no limit.\n",
      "    \n",
      "    Note, str.split() is mainly useful for data that has been intentionally\n",
      "    delimited.  With natural text that includes punctuation, consider using\n",
      "    the regular expression module.\n",
      "\n"
     ]
    },
    {
     "ename": "NameError",
     "evalue": "name 'rows' is not defined",
     "output_type": "error",
     "traceback": [
      "\u001b[0;31m---------------------------------------------------------------------------\u001b[0m",
      "\u001b[0;31mNameError\u001b[0m                                 Traceback (most recent call last)",
      "Input \u001b[0;32mIn [1]\u001b[0m, in \u001b[0;36m<cell line: 3>\u001b[0;34m()\u001b[0m\n\u001b[1;32m      1\u001b[0m \u001b[38;5;28mprint\u001b[39m(\u001b[38;5;124m'\u001b[39m\u001b[38;5;124mabcdefgh\u001b[39m\u001b[38;5;124m'\u001b[39m\u001b[38;5;241m.\u001b[39msplit(\u001b[38;5;124m'\u001b[39m\u001b[38;5;124md\u001b[39m\u001b[38;5;124m'\u001b[39m))\n\u001b[1;32m      2\u001b[0m help(\u001b[38;5;124m'\u001b[39m\u001b[38;5;124mabcdefgh\u001b[39m\u001b[38;5;124m'\u001b[39m\u001b[38;5;241m.\u001b[39msplit)\n\u001b[0;32m----> 3\u001b[0m test \u001b[38;5;241m=\u001b[39m \u001b[43mrows\u001b[49m[\u001b[38;5;241m-\u001b[39m\u001b[38;5;241m1\u001b[39m]\u001b[38;5;241m.\u001b[39msplit(\u001b[38;5;124m'\u001b[39m\u001b[38;5;124m,\u001b[39m\u001b[38;5;124m'\u001b[39m)\n\u001b[1;32m      4\u001b[0m \u001b[38;5;28mprint\u001b[39m(test)\n\u001b[1;32m      5\u001b[0m \u001b[38;5;28mprint\u001b[39m(\u001b[38;5;124mf\u001b[39m\u001b[38;5;124m\"\u001b[39m\u001b[38;5;124mThe population of \u001b[39m\u001b[38;5;132;01m{\u001b[39;00mtest[\u001b[38;5;241m0\u001b[39m]\u001b[38;5;132;01m}\u001b[39;00m\u001b[38;5;124m is \u001b[39m\u001b[38;5;132;01m{\u001b[39;00m\u001b[38;5;28mint\u001b[39m(test[\u001b[38;5;241m1\u001b[39m])\u001b[38;5;132;01m:\u001b[39;00m\u001b[38;5;124m,\u001b[39m\u001b[38;5;132;01m}\u001b[39;00m\u001b[38;5;124m\"\u001b[39m)\n",
      "\u001b[0;31mNameError\u001b[0m: name 'rows' is not defined"
     ]
    }
   ],
   "source": [
    "print('abcdefgh'.split('d'))\n",
    "help('abcdefgh'.split)\n",
    "test = rows[-1].split(',')\n",
    "print(test)\n",
    "print(f\"The population of {test[0]} is {int(test[1]):,}\")"
   ]
  },
  {
   "cell_type": "markdown",
   "id": "fa317faf-e773-4cf0-89ce-23db137eac73",
   "metadata": {},
   "source": [
    "# 小马视频教程"
   ]
  },
  {
   "cell_type": "code",
   "execution_count": 128,
   "id": "81ab6115-317a-4d95-9319-664b9c843802",
   "metadata": {
    "tags": []
   },
   "outputs": [
    {
     "name": "stdout",
     "output_type": "stream",
     "text": [
      "Hello\n",
      "HELLO\n",
      "hello\n",
      "hello\n",
      "world\n",
      "hello\tworld\n",
      "C:\\nobe\\npm\n",
      "xxx\n",
      "['a', 'b', 'c', 'd']\n",
      "['b', 'c', 'd']\n",
      "d\n",
      "['b', 'c']\n",
      "['c']\n",
      "['a', 'b', 'c', 'd']\n",
      "['a', 'b', 'c', 'd']\n",
      "0 a\n",
      "1 b\n",
      "2 c\n",
      "3 d\n",
      "[1, 3, 5, 7, 9]\n",
      "4\n",
      "{'ip': '192.168.0.1', 'port': 5432, 'uid': 'postgres', 'pwd': '1234456'}\n",
      "192.168.0.1\n",
      "5432\n",
      "ip = 192.168.0.1\n",
      "port = 5432\n",
      "uid = postgres\n",
      "pwd = 1234456\n",
      "ip is 192.168.0.1\n",
      "port is 5432\n",
      "uid is postgres\n",
      "pwd is 1234456\n",
      "1\n",
      "2\n",
      "3\n",
      "4\n",
      "5\n",
      "6\n",
      "7\n",
      "8\n",
      "result= 5\n",
      "5\n",
      "4\n",
      "3\n",
      "2\n",
      "1\n",
      "helo xx\n",
      "helo tiannan\n",
      "{'sever': '192.168.0.1', 'database': 'my', 'uid': 'tn', 'pwd': 'qqw'}\n",
      "tn\n",
      "\n",
      "---------------------\n",
      "{'rtt': 'qw'}\n"
     ]
    },
    {
     "data": {
      "text/plain": [
       "{'rtt': 'qw'}"
      ]
     },
     "execution_count": 129,
     "metadata": {},
     "output_type": "execute_result"
    }
   ],
   "source": [
    "print(\"hello\".title())#首字母大写\n",
    "print(\"hello\".upper())#所有字母大写\n",
    "print(\"hello\".lower())#所有字母小写\n",
    "str = 'hello\\nworld'#\\n用于换行\n",
    "print(str)\n",
    "str = 'hello\\tworld'#\\t腾出一个tab的位置\n",
    "print(str)\n",
    "str = r'C:\\nobe\\npm'#在文字前加r,不转义\\n\n",
    "print(str)\n",
    "msg =\" xxx \"#定义smg的内容为文本型内容\n",
    "print(msg.strip())#删除msg左右的空格\n",
    "name = [\"a\",\"b\",\"c\"]\n",
    "name.append(\"d\")#在数组末尾加入d\n",
    "print(name)\n",
    "del name[0]#删除下标为0的元素\n",
    "print(name)\n",
    "pro = name.pop()#删除末尾最后一个元素, 并将元素弹出给pro\n",
    "print(pro)\n",
    "print(name)\n",
    "name.remove(\"b\")#删除指定内容\"b\"\n",
    "print(name)\n",
    "\n",
    "#排序sort()\n",
    "name = [\"c\",\"a\",\"b\",\"d\"]\n",
    "name.sort()#按默认字母顺序排序\n",
    "print(name)\n",
    "name.reverse()#翻转排序\n",
    "name.sort(reverse = True)#升序排序\n",
    "name.sort(reverse = False)#降序排序\n",
    "print(name)\n",
    "\n",
    "#循环索引\n",
    "for i,item in enumerate(name):#用于将一个可遍历的数据对象(如列表、元组或字符串)组合为一个索引序列，同时列出数据和数据下标，一般用在 for 循环当中\n",
    "    print(i,item)\n",
    "\n",
    "#奇数数组\n",
    "nums = list(range(1,11,2))#1起始,11内结束,步长2\n",
    "print(nums)\n",
    "\n",
    "#元祖\n",
    "nums = (1,2,3,4,5)\n",
    "print(nums[3])\n",
    "\n",
    "#字典\n",
    "nums = {\n",
    "    \"ip\":\"192.168.0.1\",\n",
    "    \"port\":5432,\n",
    "    \"uid\":\"postgres\",\n",
    "    \"pwd\":\"1234456\"\n",
    "}\n",
    "\n",
    "print(nums)\n",
    "print(nums[\"ip\"])\n",
    "print(nums[\"port\"])\n",
    "\n",
    "for key,val in nums.items():\n",
    "    print(key,\"=\",val)\n",
    "    \n",
    "for key in nums.keys():#写法不同,结果相同\n",
    "    print(key,\"is\",nums[key])\n",
    "\n",
    "#while循环\n",
    "i = 1\n",
    "while i <= 8:\n",
    "    print(i)\n",
    "    i = i + 1\n",
    "    \n",
    "#while循环,result为0,i为1,i只要小于8就一直循环,循环体是result从0叠加1,i从1叠加1,如果i大于5时打断循环,输出result的结果    \n",
    "result = 0\n",
    "i = 1\n",
    "while i <= 8:\n",
    "    result = result + 1\n",
    "    i = i + 1\n",
    "    if i > 5:\n",
    "        break\n",
    "print(\"result=\",result)\n",
    "#创建nums数组,使用while循环pop,最后数组为空\n",
    "nums = [1,2,3,4,5]\n",
    "while nums:\n",
    "    a = nums.pop()\n",
    "    print(a)\n",
    "    \n",
    "#定义函数\n",
    "def helo(name,age):#定义一个叫helo的函数,参数为name,没有默认值,执行方法是打印\"helo\",name\n",
    "    print(\"helo\",name,\"age is\",age)\n",
    "def helo2(name=\"tiannan\"):#定义一个叫helo2的函数,参数为name,有默认值,执行方法是打印\"helo\",name\n",
    "    print(\"helo\",name)\n",
    "helo(\"xx\",\"30\")\n",
    "helo2()\n",
    "\n",
    "#返回函数-定义字典函数\n",
    "def makedic(ip,dbname,uid,pwd):#定义一个函数叫makedic,里面还有四个参数ip,dbname,uid,pwd,方法是根据参数补全一个字典的值\n",
    "    return{\n",
    "        \"sever\":ip,\n",
    "        \"database\":dbname,\n",
    "        \"uid\":uid,\n",
    "        \"pwd\":pwd\n",
    "    }\n",
    "\n",
    "my = makedic(\"192.168.0.1\",\"my\",\"tn\",\"qqw\")\n",
    "print(my)\n",
    "print(my[\"uid\"])\n",
    "\n",
    "#传递字典参数定义函数(定义一个函数,可以输入不限个数个参数)\n",
    "def sendmail(**data):\n",
    "    for key,val in data.items():\n",
    "        data = {key : val}\n",
    "        return data\n",
    "\n",
    "\n",
    "ee = sendmail(\n",
    "    subject=\"py\",\n",
    "    tr=5,\n",
    "    ccc=\"aaa\",\n",
    "    rtt=\"qw\"\n",
    ")\n",
    "print(\"\\n\"+\"---------------------\")\n",
    "print(ee)\n",
    "ee"
   ]
  },
  {
   "cell_type": "code",
   "execution_count": 59,
   "id": "6ca1fe45-a4ef-49a8-9f6a-86f2daa136ac",
   "metadata": {},
   "outputs": [
    {
     "ename": "SyntaxError",
     "evalue": "invalid syntax. Perhaps you forgot a comma? (663826771.py, line 2)",
     "output_type": "error",
     "traceback": [
      "\u001b[0;36m  Input \u001b[0;32mIn [60]\u001b[0;36m\u001b[0m\n\u001b[0;31m    print(\"helo\",name,\"age is\"age)\u001b[0m\n\u001b[0m                      ^\u001b[0m\n\u001b[0;31mSyntaxError\u001b[0m\u001b[0;31m:\u001b[0m invalid syntax. Perhaps you forgot a comma?\n"
     ]
    }
   ],
   "source": [
    "def helo(name,age):#定义一个叫helo的函数,参数为name,没有默认值,执行方法是打印\"helo\",name\n",
    "    print(\"helo\",name,\"age is\",age)\n",
    "helo(\"xx\",\"30\")"
   ]
  },
  {
   "cell_type": "code",
   "execution_count": 143,
   "id": "2c492547-cfa8-4603-bd9e-8eee0334c786",
   "metadata": {},
   "outputs": [
    {
     "data": {
      "text/plain": [
       "{'subject': 'py', 'tr': 5, 'ccc': 'aaa', 'rtt': 'qw'}"
      ]
     },
     "execution_count": 143,
     "metadata": {},
     "output_type": "execute_result"
    }
   ],
   "source": [
    "def sendmail(**data):#创建自定义字典函数,接收无限个参数\n",
    "        return data\n",
    "    \n",
    "\n",
    "ee = sendmail(\n",
    "    subject=\"py\",\n",
    "    tr=5,\n",
    "    ccc=\"aaa\",\n",
    "    rtt=\"qw\"\n",
    ")\n",
    "\n",
    "\n",
    "ee"
   ]
  },
  {
   "cell_type": "code",
   "execution_count": 4,
   "id": "7a8cec9a-5a70-4124-a0c7-e2afc240b90a",
   "metadata": {},
   "outputs": [
    {
     "name": "stdout",
     "output_type": "stream",
     "text": [
      "curry\n",
      "helo Curry\n",
      "i am player\n"
     ]
    }
   ],
   "source": [
    "#创建一个类,类下定义三个函数\n",
    "class player():#创建一个类名叫player\n",
    "    def __init__(self,name):#类初始化__init__,括号内第一个永远是self,第二个name为传入值\n",
    "        self.name = name\n",
    "        \n",
    "    def sayhalo(self):#定义一个sayhalo函数,方法是打印helo+输入值(首字母大写)\n",
    "        print(\"helo\",self.name.title())\n",
    "        \n",
    "    def intro(self):\n",
    "        print(\"i am player\")\n",
    "        \n",
    "curry = player(\"curry\")#值curry给到类player,将各函数的结果返回至变量curry\n",
    "print(curry.name)#打印变量curry的name\n",
    "curry.sayhalo()#运行变量curry中的sayhalo函数\n",
    "curry.intro()\n",
    "        "
   ]
  },
  {
   "cell_type": "code",
   "execution_count": 8,
   "id": "eb0009f9-5288-47cd-9c35-ce2cf98e945c",
   "metadata": {},
   "outputs": [
    {
     "name": "stdout",
     "output_type": "stream",
     "text": [
      "helo Cl\n",
      "i am anbaplayer\n"
     ]
    }
   ],
   "source": [
    "#类继承\n",
    "class player():#初创的类,接下来作为附属类使用\n",
    "    def __init__(self,name):\n",
    "        self.name = name\n",
    "        \n",
    "    def sayhelo(self):\n",
    "        print(\"helo\",self.name.title())\n",
    "        \n",
    "    def intro(self):\n",
    "        print(\"i am player\")\n",
    "        \n",
    "class nbaplayer(player):#新类nbaplayer,参数传入为初创类player\n",
    "    def __init__(self,name):#同样有自己的init\n",
    "        super().__init__(name)#创建了一个新的super().init\n",
    "        self.category = \"nba\"#增加了一个目录为nba\n",
    "        \n",
    "    def intro(self):\n",
    "        print(\"i am a\" + self.category + \"player\")\n",
    "        \n",
    "cl = nbaplayer(\"cl\")\n",
    "cl.sayhelo()#调用了初始类的sayhalo\n",
    "cl.intro()#因为新类重写intro,所以这里调用新类"
   ]
  },
  {
   "cell_type": "code",
   "execution_count": 63,
   "id": "7966848f-8d9e-44ba-86e6-fba361f6c758",
   "metadata": {},
   "outputs": [
    {
     "ename": "SyntaxError",
     "evalue": "expected ':' (2921973690.py, line 6)",
     "output_type": "error",
     "traceback": [
      "\u001b[0;36m  Input \u001b[0;32mIn [63]\u001b[0;36m\u001b[0m\n\u001b[0;31m    with open(filename, \"r\",encoding\"UTF-8\") as file:#读模式\u001b[0m\n\u001b[0m             ^\u001b[0m\n\u001b[0;31mSyntaxError\u001b[0m\u001b[0;31m:\u001b[0m expected ':'\n"
     ]
    }
   ],
   "source": [
    "#python文件读写\n",
    "filename = \"test.txt\"#定义文件名\n",
    "with open(filename, \"w\",encoding = \"UTF-8\") as file:#写模式,变为file变量\n",
    "    file.write(\"`hello\")#写入hello\n",
    "    \n",
    "with open(filename, \"r\",encoding\"UTF-8\") as file:#读模式\n",
    "    content = file.read()#内容 = 文件.读函数\n",
    "    print(content)#打印内容"
   ]
  },
  {
   "cell_type": "code",
   "execution_count": 64,
   "id": "15a70b69-0b74-4b15-807f-3b453d46d2f2",
   "metadata": {},
   "outputs": [
    {
     "name": "stdout",
     "output_type": "stream",
     "text": [
      "{'title': 'xxxx', 'lessons': {'python': 'made', 'vae': '123', 'nno': 'e'}, 'games': {'宝可梦': '奋斗者', '信仰': '通过', 'gta': '打不下去'}}\n"
     ]
    }
   ],
   "source": [
    "#字典文件的写到文件,与读\n",
    "mydata = {\n",
    "    \"title\":\"xxxx\",\n",
    "    \"lessons\":{\n",
    "        \"python\":\"made\",\n",
    "        \"vae\":\"123\",\n",
    "        \"nno\":\"e\"\n",
    "    },\n",
    "    \"games\":{\n",
    "        \"宝可梦\":\"奋斗者\",\n",
    "        \"信仰\":\"通过\",\n",
    "        \"gta\":\"打不下去\"\n",
    "    },\n",
    "}\n",
    "\n",
    "print(mydata)\n"
   ]
  },
  {
   "cell_type": "markdown",
   "id": "4e40a050-b7cf-49c1-902b-1eb317990380",
   "metadata": {},
   "source": [
    "# week4 foundation"
   ]
  },
  {
   "cell_type": "code",
   "execution_count": null,
   "id": "2b2687b8-e2ce-4395-83d4-36e86ddf842a",
   "metadata": {},
   "outputs": [
    {
     "ename": "SyntaxError",
     "evalue": "invalid syntax (925702206.py, line 1)",
     "output_type": "error",
     "traceback": [
      "\u001b[0;36m  Input \u001b[0;32mIn [22]\u001b[0;36m\u001b[0m\n\u001b[0;31m    my_list.append( <value> ) #在列表末尾追加元素的方法\u001b[0m\n\u001b[0m                    ^\u001b[0m\n\u001b[0;31mSyntaxError\u001b[0m\u001b[0;31m:\u001b[0m invalid syntax\n"
     ]
    }
   ],
   "source": [
    "my_list.append( <value> ) #在列表末尾追加元素的方法\n"
   ]
  },
  {
   "cell_type": "code",
   "execution_count": null,
   "id": "cefa8969-4510-40b1-9bc1-d7cac0c2546a",
   "metadata": {},
   "outputs": [
    {
     "data": {
      "text/plain": [
       "['__add__',\n",
       " '__class__',\n",
       " '__contains__',\n",
       " '__delattr__',\n",
       " '__dir__',\n",
       " '__doc__',\n",
       " '__eq__',\n",
       " '__format__',\n",
       " '__ge__',\n",
       " '__getattribute__',\n",
       " '__getitem__',\n",
       " '__getnewargs__',\n",
       " '__gt__',\n",
       " '__hash__',\n",
       " '__init__',\n",
       " '__init_subclass__',\n",
       " '__iter__',\n",
       " '__le__',\n",
       " '__len__',\n",
       " '__lt__',\n",
       " '__mod__',\n",
       " '__mul__',\n",
       " '__ne__',\n",
       " '__new__',\n",
       " '__reduce__',\n",
       " '__reduce_ex__',\n",
       " '__repr__',\n",
       " '__rmod__',\n",
       " '__rmul__',\n",
       " '__setattr__',\n",
       " '__sizeof__',\n",
       " '__str__',\n",
       " '__subclasshook__',\n",
       " 'capitalize',\n",
       " 'casefold',\n",
       " 'center',\n",
       " 'count',\n",
       " 'encode',\n",
       " 'endswith',\n",
       " 'expandtabs',\n",
       " 'find',\n",
       " 'format',\n",
       " 'format_map',\n",
       " 'index',\n",
       " 'isalnum',\n",
       " 'isalpha',\n",
       " 'isascii',\n",
       " 'isdecimal',\n",
       " 'isdigit',\n",
       " 'isidentifier',\n",
       " 'islower',\n",
       " 'isnumeric',\n",
       " 'isprintable',\n",
       " 'isspace',\n",
       " 'istitle',\n",
       " 'isupper',\n",
       " 'join',\n",
       " 'ljust',\n",
       " 'lower',\n",
       " 'lstrip',\n",
       " 'maketrans',\n",
       " 'partition',\n",
       " 'removeprefix',\n",
       " 'removesuffix',\n",
       " 'replace',\n",
       " 'rfind',\n",
       " 'rindex',\n",
       " 'rjust',\n",
       " 'rpartition',\n",
       " 'rsplit',\n",
       " 'rstrip',\n",
       " 'split',\n",
       " 'splitlines',\n",
       " 'startswith',\n",
       " 'strip',\n",
       " 'swapcase',\n",
       " 'title',\n",
       " 'translate',\n",
       " 'upper',\n",
       " 'zfill']"
      ]
     },
     "execution_count": 23,
     "metadata": {},
     "output_type": "execute_result"
    }
   ],
   "source": [
    "msg = 'Hello World'\n",
    "dir(msg)#返回模块的属性列表"
   ]
  },
  {
   "cell_type": "markdown",
   "id": "969ba3e9-2488-4cb3-825e-ed497477de7a",
   "metadata": {},
   "source": [
    "1. Term  ---→Means---→Example\n",
    "2. Class---→The template for a ‘thing’. ---→Recipe for a pizza.\n",
    "3. Object---→The instantiated ‘thing’.---→A pizza I can eat!\n",
    "4. Method---→Functions defined for the class and available to the object.---→Things I can do with a pizza (eat, cook, make).\n",
    "5. Constructor---→The special method that builds new objects of that class.---→How to start a new pizza!\n",
    "6. Self ---→A reference to the current object.  ---→The pizza in front of me!"
   ]
  },
  {
   "cell_type": "code",
   "execution_count": 65,
   "id": "ed6cd5ba-9954-40a2-9efd-ac7168f3e4c4",
   "metadata": {},
   "outputs": [],
   "source": [
    "class pizza(object): #Python 中定义一个类使用 class 关键字实现\n",
    "  base = 'sourdough'\n",
    "  \n",
    "  def __init__(self, sauce:str='tomato', cheese:str='mozzarella'):\n",
    "    self.toppings = []\n",
    "    self.sauce = sauce\n",
    "    self.cheese = cheese\n",
    "    \n",
    "  def add_topping(self, topping:str) -> None:\n",
    "    self.toppings.insert(len(self.toppings), topping)\n",
    "  \n",
    "  def get_pizza(self) -> list:\n",
    "    ingredients = [self.base, self.sauce, self.cheese]\n",
    "    ingredients.extend(self.toppings)\n",
    "    return ingredients"
   ]
  },
  {
   "cell_type": "code",
   "execution_count": 15,
   "id": "1fce8c47-817e-47dd-a6c3-6fd0ad19cb94",
   "metadata": {},
   "outputs": [
    {
     "data": {
      "text/plain": [
       "['sourdough', 'white', 'mozzarella', 'peppers', 'chillis']"
      ]
     },
     "execution_count": 15,
     "metadata": {},
     "output_type": "execute_result"
    }
   ],
   "source": [
    "def __init__(self, sauce:str='tomato', cheese:str='mozzarella'):\n",
    "    self.toppings = []\n",
    "    self.sauce    = sauce\n",
    "    self.cheese   = cheese\n",
    "def add_topping(self, topping:str) -> None:\n",
    "    self.toppings.insert(len(self.toppings), topping)\n",
    "def get_pizza(self) -> list:\n",
    "    ingredients = [self.base, self.sauce, self.cheese]\n",
    "    ingredients.extend(self.toppings)\n",
    "    return ingredients\n",
    "p = pizza(sauce='white')\n",
    "p.add_topping('peppers')\n",
    "p.add_topping('chillis')\n",
    "p.get_pizza()"
   ]
  },
  {
   "cell_type": "code",
   "execution_count": 16,
   "id": "fcd40e44-099b-4427-845a-6274a76388e0",
   "metadata": {},
   "outputs": [
    {
     "data": {
      "text/plain": [
       "['sourdough', 'white', 'mozzarella', 'peppers', 'chilis']"
      ]
     },
     "execution_count": 16,
     "metadata": {},
     "output_type": "execute_result"
    }
   ],
   "source": [
    "p1 = pizza(sauce='white')\n",
    "p1.add_topping('peppers')\n",
    "p1.add_topping('chilis')\n",
    "\n",
    "p2 = pizza()\n",
    "p2.base = \"Plain old base\"\n",
    "p2.add_topping('pineapple')\n",
    "p2.add_topping('ham')\n",
    "\n",
    "p1.get_pizza()"
   ]
  },
  {
   "cell_type": "markdown",
   "id": "ad906e7b-7e0f-4091-b916-6ed409f38044",
   "metadata": {},
   "source": [
    "## practical 4\n"
   ]
  },
  {
   "cell_type": "code",
   "execution_count": 6,
   "id": "3db7bb67-f4d4-4f94-afa7-4de3f823c67a",
   "metadata": {},
   "outputs": [
    {
     "name": "stdout",
     "output_type": "stream",
     "text": [
      "The cities in the data set are: Greater London, Greater Manchester, West Midlands\n"
     ]
    }
   ],
   "source": [
    "myData = [\n",
    "    ['id', 'Name', 'Rank', 'Longitude', 'Latitude', 'Population'], \n",
    "    ['1', 'Greater London', '1', '-18162.92767', '6711153.709', '9787426'], \n",
    "    ['2', 'Greater Manchester', '2', '-251761.802', '7073067.458', '2553379'], \n",
    "    ['3', 'West Midlands', '3', '-210635.2396', '6878950.083', '2440986']\n",
    "]\n",
    "\n",
    "col    = myData[0].index('Name')#myData[0]指的是第一列,返回'Greater London'的下标是1\n",
    "cities = []#创建空列表\n",
    "for i in range(1,len(myData)):#使用i做循环,循环次数为mydata的长度,步进为1\n",
    "    cities.append(myData[i][col])#cities每循环一次往里面添加(mydata[i循环次数,对应到列数][col为下标数字1,不变])\n",
    "    \n",
    "print(\"The cities in the data set are: \" + \", \".join(cities))"
   ]
  },
  {
   "cell_type": "code",
   "execution_count": 7,
   "id": "cec09e37-1226-47b0-8d53-c29fcefee410",
   "metadata": {},
   "outputs": [
    {
     "name": "stdout",
     "output_type": "stream",
     "text": [
      "Didn't find Edinburgh in the data set.\n"
     ]
    }
   ],
   "source": [
    "found = False\n",
    "\n",
    "for i in range(1, len(myData)):\n",
    "    if myData[i][col] == \"Edinburgh\":\n",
    "        print(\"Found Edinburgh in the data set!\")\n",
    "        found = True\n",
    "        break\n",
    "    else:\n",
    "        print(\"Didn't find Edinburgh in the data set.\")\n",
    "        break\n"
   ]
  },
  {
   "cell_type": "code",
   "execution_count": 9,
   "id": "ddc28ff0-a192-47e4-bacb-d0e7aaec4a56",
   "metadata": {},
   "outputs": [
    {
     "name": "stdout",
     "output_type": "stream",
     "text": [
      "Greater London--Greater Manchester--Birmingham--Edinburgh--Inverness--Lerwick\n",
      "['Greater London', 'Greater Manchester', 'Birmingham', 'Edinburgh', 'Inverness', 'Lerwick']\n",
      "['Greater London', 'Greater Manchester', 'Birmingham', 'Edinburgh', 'Inverness', 'Lerwick']\n",
      "Didn't find Edinburgh in the data set.\n"
     ]
    }
   ],
   "source": [
    "myData = {\n",
    "    'id'         : [0, 1, 2, 3, 4, 5],\n",
    "    'Name'       : ['Greater London', 'Greater Manchester', 'Birmingham','Edinburgh','Inverness','Lerwick'],\n",
    "    'Rank'       : [1, 2, 3, 4, 5, 6],\n",
    "    'Longitude'  : [-0.128, -2.245, -1.903, -3.189, -4.223, -1.145],\n",
    "    'Latitude'   : [51.507, 53.479, 52.480, 55.953, 57.478, 60.155],\n",
    "    'Population' : [9787426, 2705000, 1141816, 901455, 70000, 6958],\n",
    "}\n",
    "\n",
    "# What cities are in the data set?\n",
    "print('--'.join(myData['Name']))#方法一\n",
    "a = myData.get('Name')#方法二\n",
    "print(a)\n",
    "\n",
    "a = []#方法三\n",
    "for i in myData['Name']:\n",
    "    a.append(i)\n",
    "\n",
    "print(a)\n",
    "\n",
    "if 'Edinburgh' in \"Name\":\n",
    "    print(\"Found Edinburgh in the data set!\")\n",
    "else:\n",
    "    print(\"Didn't find Edinburgh in the data set.\")"
   ]
  },
  {
   "cell_type": "code",
   "execution_count": 10,
   "id": "75dfb7c1-8ead-49b8-ac7f-f9cccf5358a7",
   "metadata": {},
   "outputs": [
    {
     "name": "stdout",
     "output_type": "stream",
     "text": [
      "City distribution has a mean 2,435,442 and standard deviation of 3,406,947.93.\n",
      "City distribution has a mean 2435442.5 and standard deviation of 3406947.9251788664.\n"
     ]
    }
   ],
   "source": [
    "import numpy as np\n",
    "# Use numpy functions to calculate mean and standard deviation\n",
    "mean = np.mean(myData['Population'])\n",
    "std  = np.std(myData['Population'])\n",
    "print(f\"City distribution has a mean {mean:,.0f} and standard deviation of {std:,.2f}.\")#第一种出法,三进一\n",
    "print(\"City distribution has a mean {0} and standard deviation of {1}.\".format(mean, std))#第二种出法"
   ]
  },
  {
   "cell_type": "code",
   "execution_count": 11,
   "id": "492a8fb2-4cf4-4f71-b260-a702cb6e2fe8",
   "metadata": {},
   "outputs": [
    {
     "name": "stdout",
     "output_type": "stream",
     "text": [
      "[0, 1, 4, 9, 16, 25, 36, 49, 64, 81]\n"
     ]
    }
   ],
   "source": [
    "#列表解析\n",
    "demo = range(0,10) # 给demo定义一个0-10范围的区间\n",
    "print([x**2 for x in demo]) # x的幂次方, x递增,在10次内"
   ]
  },
  {
   "cell_type": "code",
   "execution_count": 12,
   "id": "d0b7ad52-1ada-4bda-bef4-628340e76ff5",
   "metadata": {},
   "outputs": [
    {
     "name": "stdout",
     "output_type": "stream",
     "text": [
      "['2.158', '0.079', '-0.380', '-0.450', '-0.694', '-0.713']\n"
     ]
    }
   ],
   "source": [
    "#我们计算了上面的平均值和标准差，所以现在我们要将 z 分数公式应用于人口列表的每个元素\n",
    "rs = [(x - mean)/std for x in myData['Population']] # rs == result set\n",
    "print([f\"{x:.3f}\" for x in rs])"
   ]
  },
  {
   "cell_type": "code",
   "execution_count": 13,
   "id": "ddf012a9-ec23-4518-b24c-71013564201d",
   "metadata": {},
   "outputs": [
    {
     "name": "stdout",
     "output_type": "stream",
     "text": [
      "3406947.9251788664\n",
      "Greater London has a population of 9787426 and standardised score of 3406947.9251788664\n",
      "Greater Manchester has a population of 2705000 and standardised score of 3406947.9251788664\n",
      "Birmingham has a population of 1141816 and standardised score of 3406947.9251788664\n",
      "Edinburgh has a population of 901455 and standardised score of 3406947.9251788664\n",
      "Inverness has a population of 70000 and standardised score of 3406947.9251788664\n",
      "Lerwick has a population of 6958 and standardised score of 3406947.9251788664\n"
     ]
    }
   ],
   "source": [
    "myData['Std. Population'] = std\n",
    "print(myData['Std. Population'])\n",
    "\n",
    "for c in myData['Name']:\n",
    "    idx = myData['Name'].index(c)\n",
    "    g = myData['Population'][idx]\n",
    "    gg = myData['Std. Population']\n",
    "    #print(f\"{c} has a population of {myData['Population'][idx]:,} and standardised score of {myData['Std. Population'][idx]:.3f}\")\n",
    "    print(\"{0} has a population of {1} and standardised score of {2}\".format(c,g,gg))"
   ]
  },
  {
   "cell_type": "code",
   "execution_count": 14,
   "id": "e948e7fd-4a20-4ea9-be0e-b9f2d49fe4e2",
   "metadata": {},
   "outputs": [
    {
     "name": "stdout",
     "output_type": "stream",
     "text": [
      "urlData has 11 rows and 4 columns.\n",
      "['Bangor', '18808', '53.228', '-4.128']\n"
     ]
    }
   ],
   "source": [
    "from urllib.request import urlopen\n",
    "import csv\n",
    "\n",
    "url = \"https://raw.githubusercontent.com/jreades/fsds/master/data/src/Wikipedia-Cities-simple.csv\"\n",
    "\n",
    "urlData = [] # Somewhere to store the data\n",
    "\n",
    "response = urlopen(url) # Get the data using the urlopen function\n",
    "csvfile  = csv.reader(response.read().decode('utf-8').splitlines()) # Pass it over to the reader\n",
    "\n",
    "for row in csvfile:\n",
    "    urlData.append(row)\n",
    "\n",
    "print(\"urlData has \" + str(len(urlData)) + \" rows and \" + str(len(urlData[0])) + \" columns.\")\n",
    "print(urlData[-1]) # Check it worked!"
   ]
  },
  {
   "cell_type": "code",
   "execution_count": 15,
   "id": "e9c1b1f5-8962-4be3-b6d8-bd0aaf859d80",
   "metadata": {},
   "outputs": [
    {
     "name": "stdout",
     "output_type": "stream",
     "text": [
      "data/Wikipedia-Cities.csv\n"
     ]
    }
   ],
   "source": [
    "import os\n",
    "url = \"https://raw.githubusercontent.com/jreades/fsds/master/data/src/Wikipedia-Cities-simple.csv\"\n",
    "out = os.path.join('data','Wikipedia-Cities.csv') \n",
    "print(out)# Print `out` if you aren't sure what this has done!"
   ]
  },
  {
   "cell_type": "code",
   "execution_count": 16,
   "id": "1751eb14-270d-47de-a32e-118cea79ad05",
   "metadata": {},
   "outputs": [
    {
     "ename": "TypeError",
     "evalue": "isfile() missing 1 required positional argument: 'path'",
     "output_type": "error",
     "traceback": [
      "\u001b[0;31m---------------------------------------------------------------------------\u001b[0m",
      "\u001b[0;31mTypeError\u001b[0m                                 Traceback (most recent call last)",
      "Input \u001b[0;32mIn [16]\u001b[0m, in \u001b[0;36m<cell line: 1>\u001b[0;34m()\u001b[0m\n\u001b[0;32m----> 1\u001b[0m \u001b[43mos\u001b[49m\u001b[38;5;241;43m.\u001b[39;49m\u001b[43mpath\u001b[49m\u001b[38;5;241;43m.\u001b[39;49m\u001b[43misfile\u001b[49m\u001b[43m(\u001b[49m\u001b[43m)\u001b[49m\u001b[38;5;66;03m#判断某一对象(需提供绝对路径)是否为文件\u001b[39;00m\n\u001b[1;32m      2\u001b[0m os\u001b[38;5;241m.\u001b[39mpath\u001b[38;5;241m.\u001b[39misdir()\n",
      "\u001b[0;31mTypeError\u001b[0m: isfile() missing 1 required positional argument: 'path'"
     ]
    }
   ],
   "source": [
    "os.path.isfile()#判断某一对象(需提供绝对路径)是否为文件\n",
    "os.path.isdir()#判断某一对象(需提供绝对路径)是否为目录"
   ]
  },
  {
   "cell_type": "code",
   "execution_count": 17,
   "id": "40b95fe2-e3d6-4200-8727-183ce27697b5",
   "metadata": {},
   "outputs": [
    {
     "name": "stdout",
     "output_type": "stream",
     "text": [
      "data/Wikipedia-Cities.csv *not* found!\n"
     ]
    }
   ],
   "source": [
    "from urllib.request import urlopen\n",
    "\n",
    "def get_url(src, dest):\n",
    "#检查目的地是否存在 -- 如果存在 # 那么我们就可以跳过下载文件， # 否则我们就必须下载它!\n",
    "    if os.path.isfile(out):\n",
    "        print(f\"{dest} found!\")\n",
    "    else:\n",
    "        print(f\"{dest} *not* found!\")\n",
    "#单纯的判断 , 实际并不下载\n",
    "\n",
    "get_url(url, out)"
   ]
  },
  {
   "cell_type": "code",
   "execution_count": 18,
   "id": "8afdb039-adc2-4baf-9955-8c22b39faf62",
   "metadata": {},
   "outputs": [
    {
     "name": "stdout",
     "output_type": "stream",
     "text": [
      "data/Wikipedia-Cities.csv not found, downloading!\n",
      "['data']\n",
      "1\n",
      "data\n",
      "Data written to data/Wikipedia-Cities.csv!\n"
     ]
    }
   ],
   "source": [
    "def get_url(src, dest):#dest为输入的文件名变量,src为网址\n",
    "\n",
    "    if os.path.isfile(dest):#判断某一对象(需提供绝对路径)是否为文件\n",
    "        print(f\"{dest} found locally!\")\n",
    "    else:\n",
    "        print(f\"{dest} not found, downloading!\")\n",
    "        response = urlopen(src)#src作为第一个参数,被指向了url ,使用urlopen函数实例化了一个response对象\n",
    "        filedata = response.read().decode('utf-8')#想得到这个实例化的对象的具体内容可以使用read()方法,具体内容赋值为filedata\n",
    "        path = list(os.path.split(dest)[:1])#将文件名和路径分割开,[:1]或者[:-1]均能取到路径\"csvfile\"\n",
    "        print(path)#返回路径值\n",
    "        a = len(path)#返回路径值\n",
    "        b = path[0]#b等于1级路径名称,也就是下标为0,没有第二级\n",
    "        print(a)#打印路径值为1\n",
    "        print(b)#打印第一级路径名称\n",
    "        if len(path) >= 1 and path[0] != '':#如果子路径大于等于1并且路径不等于空\n",
    "            os.makedirs(os.path.join(*path), exist_ok=True)#os.makedirs()---创建文件夹,os.path.join拼接路径,exist_ok目录不存在时创建目录，存在时不会抛出异常。\n",
    "        with open(dest, 'w') as f:#with open是python用来打开本地文件的，他会在使用完毕后，自动关闭文件，无需手动书写close(),写入文件也用with open,使用\"w\"\n",
    "            f.write(filedata)#写入filedata\n",
    "        print(f\"Data written to {dest}!\")\n",
    "    return dest#\n",
    "        \n",
    "src = get_url(url, out)"
   ]
  },
  {
   "cell_type": "code",
   "execution_count": 20,
   "id": "b2c74ae9-40e5-4bbe-9635-cead57b2f6c7",
   "metadata": {},
   "outputs": [
    {
     "data": {
      "text/plain": [
       "[['City', 'Population', 'Latitude', 'Longitude'],\n",
       " ['Perth', '45770', '56.39583', '-3.43333'],\n",
       " ['Armagh', '14777', '54.3499', '-6.6546'],\n",
       " ['Dundee', '147268', '56.462', '-2.9707'],\n",
       " ['Colchester', '194706', '51.88861', '0.90361'],\n",
       " ['Salisbury', '40302', '51.07', '-1.79'],\n",
       " ['Portsmouth', '205056', '50.80583', '-1.08722'],\n",
       " ['Wakefield', '325837', '53.683', '-1.499'],\n",
       " ['Bradford', '522452', '53.792', '-1.754'],\n",
       " ['Lancaster', '138375', '54.047', '-2.801'],\n",
       " ['Bangor', '18808', '53.228', '-4.128']]"
      ]
     },
     "execution_count": 20,
     "metadata": {},
     "output_type": "execute_result"
    }
   ],
   "source": [
    "import os#加载系统级os函数,io功能\n",
    "url = \"https://raw.githubusercontent.com/jreades/fsds/master/data/src/Wikipedia-Cities-simple.csv\" \n",
    "response = urlopen(url)#urlopen函数打开网址 ,返回至response\n",
    "csvfile  = csv.reader(response.read().decode('utf-8').splitlines())#csv.reader函数(括号里的内容为读response使用.read函数,解码使用utf-8,splitlines是按列分行)\n",
    "out = os.path.join(\"csvfile\",'Wikipedia-Cities.csv') #输出out为使用系统级os.path.join写入到csvfile目录中,文件名为...\n",
    "\n",
    "import csv\n",
    "\n",
    "def read_csv(c):\n",
    "    \n",
    "    csvdata = []\n",
    "    with open(c, 'r') as f:#打开文件,文件读模式\n",
    "        csvr = csv.reader(f)#csvr等于使用scv的reader函数读取f数据\n",
    "        \n",
    "        for r in csvr:#每一行在vsvr中\n",
    "            csvdata.append(r)#从csvdata依次加入每一行\n",
    "    \n",
    "    # Return list of lists\n",
    "    return csvdata#输出最终文件,csv转为列表\n",
    "\n",
    "read_csv(src)\n",
    "#read_csv('foo.bar') # <- Notice what happens if you try to run this code\n",
    "#read_csv('Practical-04-Objects-Answers.ipynb') # Or this code!"
   ]
  },
  {
   "cell_type": "code",
   "execution_count": 32,
   "id": "72ad1c6f-9762-4ecd-aadb-95c5a2a94520",
   "metadata": {},
   "outputs": [
    {
     "name": "stdout",
     "output_type": "stream",
     "text": [
      "['Perth', '45770', '56.39583', '-3.43333']\n",
      "['Armagh', '14777', '54.3499', '-6.6546']\n",
      "['Dundee', '147268', '56.462', '-2.9707']\n",
      "['Colchester', '194706', '51.88861', '0.90361']\n",
      "['Salisbury', '40302', '51.07', '-1.79']\n",
      "['Portsmouth', '205056', '50.80583', '-1.08722']\n",
      "['Wakefield', '325837', '53.683', '-1.499']\n",
      "['Bradford', '522452', '53.792', '-1.754']\n",
      "['Lancaster', '138375', '54.047', '-2.801']\n",
      "['Bangor', '18808', '53.228', '-4.128']\n"
     ]
    },
    {
     "data": {
      "text/plain": [
       "{'City': ['Perth',\n",
       "  'Armagh',\n",
       "  'Dundee',\n",
       "  'Colchester',\n",
       "  'Salisbury',\n",
       "  'Portsmouth',\n",
       "  'Wakefield',\n",
       "  'Bradford',\n",
       "  'Lancaster',\n",
       "  'Bangor'],\n",
       " 'Population': ['45770',\n",
       "  '14777',\n",
       "  '147268',\n",
       "  '194706',\n",
       "  '40302',\n",
       "  '205056',\n",
       "  '325837',\n",
       "  '522452',\n",
       "  '138375',\n",
       "  '18808'],\n",
       " 'Latitude': ['56.39583',\n",
       "  '54.3499',\n",
       "  '56.462',\n",
       "  '51.88861',\n",
       "  '51.07',\n",
       "  '50.80583',\n",
       "  '53.683',\n",
       "  '53.792',\n",
       "  '54.047',\n",
       "  '53.228'],\n",
       " 'Longitude': ['-3.43333',\n",
       "  '-6.6546',\n",
       "  '-2.9707',\n",
       "  '0.90361',\n",
       "  '-1.79',\n",
       "  '-1.08722',\n",
       "  '-1.499',\n",
       "  '-1.754',\n",
       "  '-2.801',\n",
       "  '-4.128']}"
      ]
     },
     "execution_count": 32,
     "metadata": {},
     "output_type": "execute_result"
    }
   ],
   "source": [
    "def read_csv(src):#定义一个新函数\n",
    "    \n",
    "    csvdata = {} # 定义一个空字典\n",
    "    \n",
    "    with open(src, 'r') as f:#打开文件,使用读模式,打开src\n",
    "        csvr = csv.reader(f)#csv内容赋值到csvr中\n",
    "        csvcols = next(csvr)#next函数第一次可取列名          \n",
    "        for c in csvcols:#在列表里做循环\n",
    "            csvdata[c] = []#首先给csvdata定义好key值,一次赋key值到字典中,但value为空\n",
    "            #print(csvdata)#csvdata是字典,字典加入内容是用[\"里面为文本\"]定义为表头,本次只加入表头,通过等于号赋值了值,本次是赋值了空值[]\n",
    "        for r in csvr: \n",
    "            print(r)#打印每一行\n",
    "            for u, c in enumerate(csvcols):#使用enumerate函数枚举列名csvcols,枚举代数为u和c\n",
    "                csvdata[c].append(r[u])#csvdata字典的key为c,循环加入每一行r的[第u个]\n",
    "    return csvdata\n",
    "\n",
    "read_csv(src)"
   ]
  },
  {
   "cell_type": "code",
   "execution_count": 35,
   "id": "6a9aaccc-e237-4f7a-ab7f-33b215de8750",
   "metadata": {},
   "outputs": [
    {
     "data": {
      "text/plain": [
       "{'City': ['Perth',\n",
       "  'Armagh',\n",
       "  'Dundee',\n",
       "  'Colchester',\n",
       "  'Salisbury',\n",
       "  'Portsmouth',\n",
       "  'Wakefield',\n",
       "  'Bradford',\n",
       "  'Lancaster',\n",
       "  'Bangor'],\n",
       " 'Population': ['45770',\n",
       "  '14777',\n",
       "  '147268',\n",
       "  '194706',\n",
       "  '40302',\n",
       "  '205056',\n",
       "  '325837',\n",
       "  '522452',\n",
       "  '138375',\n",
       "  '18808'],\n",
       " 'Latitude': ['56.39583',\n",
       "  '54.3499',\n",
       "  '56.462',\n",
       "  '51.88861',\n",
       "  '51.07',\n",
       "  '50.80583',\n",
       "  '53.683',\n",
       "  '53.792',\n",
       "  '54.047',\n",
       "  '53.228'],\n",
       " 'Longitude': ['-3.43333',\n",
       "  '-6.6546',\n",
       "  '-2.9707',\n",
       "  '0.90361',\n",
       "  '-1.79',\n",
       "  '-1.08722',\n",
       "  '-1.499',\n",
       "  '-1.754',\n",
       "  '-2.801',\n",
       "  '-4.128']}"
      ]
     },
     "execution_count": 35,
     "metadata": {},
     "output_type": "execute_result"
    }
   ],
   "source": [
    "def read_csv(src:str) -> dict:\n",
    "    \"\"\"\n",
    "    将CSV文件转换为列表字典（dol），使用第一行来创建列名。\n",
    "    \"\"\"\n",
    "    csvdata = {} # 创建一个空字典\n",
    "    \n",
    "    with open(src, 'r') as f:#打开文件,读模式,赋值为f\n",
    "        csvr = csv.reader(f)#csvr等于使用reader读f的内容\n",
    "        \n",
    "        # Read in our column names and\n",
    "        # initialise the dictionary-of-lists\n",
    "        csvcols = next(csvr) #csvcols等于列表表头\n",
    "        for c in csvcols:#表头做循环\n",
    "            csvdata[c] = []#字典的表头被赋值\n",
    "        \n",
    "        # Notice this code is still the same, \n",
    "        # we just used next(csvr) to get the \n",
    "        # header row first!\n",
    "        for r in csvr:#在csv文件中做行的循环\n",
    "            for idx, c in enumerate(csvcols):#使用enumerate函数枚举列名csvcols,枚举代数为idx和c\n",
    "                csvdata[c].append(r[idx])#字典的表头依次添加r行的第idx个\n",
    "    \n",
    "    # Return dictionary of lists\n",
    "    return csvdata\n",
    "\n",
    "ds = read_csv(src)\n",
    "ds"
   ]
  },
  {
   "cell_type": "code",
   "execution_count": 36,
   "id": "00c321d6-24fa-476e-ac5a-f60360ad1387",
   "metadata": {},
   "outputs": [
    {
     "name": "stdout",
     "output_type": "stream",
     "text": [
      "Columns are: City, Population, Latitude, Longitude\n",
      "First two cities are: ['Perth', 'Armagh']\n",
      "First two populations are: ['45770', '14777']\n",
      "First two latitudes are: ['56.39583', '54.3499']\n"
     ]
    }
   ],
   "source": [
    "print(\"Columns are: \" + \", \".join(ds.keys()))\n",
    "print(f\"First two cities are: {ds['City'][:2]}\")\n",
    "print(f\"First two populations are: {ds['Population'][:2]}\")\n",
    "print(f\"First two latitudes are: {ds['Latitude'][:2]}\")"
   ]
  },
  {
   "cell_type": "code",
   "execution_count": 37,
   "id": "26b86a4f-b393-4150-859d-a9971bb93f6b",
   "metadata": {},
   "outputs": [
    {
     "name": "stdout",
     "output_type": "stream",
     "text": [
      "Column         City should be type: str\n",
      "Column   Population should be type: int\n",
      "Column     Latitude should be type: float\n",
      "Column    Longitude should be type: float\n"
     ]
    }
   ],
   "source": [
    "cols  = ['City', 'Population', 'Latitude', 'Longitude'] # <- Column name\n",
    "dtype = [str, int, float, float]                        # <- Column data type\n",
    "\n",
    "# 'Zips up' these two lists into an iterator! So this will \n",
    "# take element 0 from *each* list and pass them to `col` as\n",
    "# a list-like 'tuple' (meaning there is a col[0] and a col[1]).\n",
    "for col in zip(cols, dtype):#将cols和dtype通过zip合并,同一下标的cols和dtype组成一个元祖,用col做循环,col代表其中一个元祖\n",
    "    colname = col[0]#colname为cols列的某一下标,下同理\n",
    "    coltype = col[1]\n",
    "    \n",
    "    # Notice the more advanced formatting here:\n",
    "    # - `>12` means right-align with up to 12 characters of whitespace; notice the last line!\n",
    "    # - `coltype.__name__` gives us the name of the data type, rather than a '<class...>' output.\n",
    "    print(f\"Column {colname:>12} should be type: {coltype.__name__}\")#>12为右对齐的意思,最多12个字符的空白"
   ]
  },
  {
   "cell_type": "code",
   "execution_count": 38,
   "id": "86e2ba12-6ac7-43fd-8207-b26f99a9f193",
   "metadata": {},
   "outputs": [],
   "source": [
    "# 将原始数据转换为适当的#类型的数据：'列数据'（cdata）->'列类型'（type）。\n",
    "\n",
    "def to_type(cdata, ctype):\n",
    "    # If a string\n",
    "    if isinstance(cdata, str):#isinstance() 函数来判断一个对象是否是一个已知的类型，类似 type()。\n",
    "        try:#尝试,通常用于找错\n",
    "            if ctype==bool:\n",
    "                return cdata==True\n",
    "            else:\n",
    "                return ctype(cdata)\n",
    "        except TypeError:\n",
    "            return cdata\n",
    "    \n",
    "    # Not a string (assume list)\n",
    "    else: \n",
    "        fdata = []\n",
    "        for c in cdata:\n",
    "            try:\n",
    "                if ctype==bool:\n",
    "                    fdata.append( c=='True' )\n",
    "                else:\n",
    "                    fdata.append( ctype(c) )\n",
    "            except:\n",
    "                fdata.append( c )\n",
    "        return fdata"
   ]
  },
  {
   "cell_type": "code",
   "execution_count": 39,
   "id": "a2d73d62-7382-4a08-ae87-64e528c5c9df",
   "metadata": {},
   "outputs": [
    {
     "name": "stdout",
     "output_type": "stream",
     "text": [
      "{'City': ['Perth', 'Armagh', 'Dundee', 'Colchester', 'Salisbury', 'Portsmouth', 'Wakefield', 'Bradford', 'Lancaster', 'Bangor'], 'Population': [45770, 14777, 147268, 194706, 40302, 205056, 325837, 522452, 138375, 18808], 'Latitude': [56.39583, 54.3499, 56.462, 51.88861, 51.07, 50.80583, 53.683, 53.792, 54.047, 53.228], 'Longitude': [-3.43333, -6.6546, -2.9707, 0.90361, -1.79, -1.08722, -1.499, -1.754, -2.801, -4.128]}\n"
     ]
    }
   ],
   "source": [
    "# Now apply this! We'll copy the data to \n",
    "# new data structure only so that we know\n",
    "# we're not overwriting `ds` until we're sure\n",
    "# that the code works.\n",
    "ds2 = {}#创建一个空字典\n",
    "cols  = ['City', 'Population', 'Latitude', 'Longitude'] # <- Column name\n",
    "dtype = [str, int, float, float]                        # <- Column data type\n",
    "for col in zip(cols, dtype):#cols和dtype通过使用zip合并,生成一个个元祖:(\"city\",str)\n",
    "    colname = col[0]\n",
    "    coltype = col[1]\n",
    "    ds2[colname] = to_type( ds[colname], coltype )#ds2字典开始在循环体中内容了,key是colname,值是使用刚创建的to_type函数转换至类型,转换内容是(ds的key,循环体中定义的coltype)\n",
    "print(ds2)"
   ]
  },
  {
   "cell_type": "code",
   "execution_count": 40,
   "id": "45160557-c1b0-460b-a9de-dfe3effd1770",
   "metadata": {},
   "outputs": [
    {
     "name": "stdout",
     "output_type": "stream",
     "text": [
      "Columns are: City, Population, Latitude, Longitude\n",
      "First two cities are: ['Perth', 'Armagh']\n",
      "First two populations are: [45770, 14777]\n",
      "First two latitudes are: [56.39583, 54.3499]\n"
     ]
    }
   ],
   "source": [
    "print(\"Columns are: \" + \", \".join(ds2.keys()))#使用.join函数列出ds2字典中所有的key\n",
    "print(f\"First two cities are: {ds2['City'][:2]}\")#ds2字典中key为city的前两个值\n",
    "print(f\"First two populations are: {ds2['Population'][:2]}\")\n",
    "print(f\"First two latitudes are: {ds2['Latitude'][:2]}\")"
   ]
  },
  {
   "cell_type": "code",
   "execution_count": 41,
   "id": "19d5fee1-8eee-4343-b5ce-71325d169654",
   "metadata": {},
   "outputs": [
    {
     "name": "stdout",
     "output_type": "stream",
     "text": [
      "Minimum longitude is -6.6546\n",
      "Westernmost city is Armagh\n"
     ]
    }
   ],
   "source": [
    "min_long = 180#最小长度为180\n",
    "min_idx  = -1#最小下标为-1\n",
    "\n",
    "for l in ds2['Longitude']:#在ds2字典中的key(longitude)中循环,循环体为l,数值型\n",
    "    if l < min_long: min_long = l#如果l小于最小长度=1\n",
    "print(f\"Minimum longitude is {min_long}\")#打印最小长度\n",
    "\n",
    "for idx, l2 in enumerate(ds2['Longitude']):#在ds2字典中的key(longitude)中循环,循环体为idx和l2\n",
    "    if l2==min_long:#如果l2和最小长度相等\n",
    "        min_idx = idx#最小的idx下标就等于dix本身\n",
    "        break#打断\n",
    "\n",
    "print(f\"Westernmost city is {ds2['City'][min_idx]}\")#输出ds2字典中citykey值的第min_IDx下标内容"
   ]
  },
  {
   "cell_type": "code",
   "execution_count": 42,
   "id": "92adf1bd-6c0c-4c91-a779-95807c8df437",
   "metadata": {},
   "outputs": [
    {
     "name": "stdout",
     "output_type": "stream",
     "text": [
      "data/Wikipedia-Cities-full.csv not found, downloading!\n",
      "['data']\n",
      "1\n",
      "data\n",
      "Data written to data/Wikipedia-Cities-full.csv!\n"
     ]
    }
   ],
   "source": [
    "url = \"https://raw.githubusercontent.com/jreades/fsds/master/data/src/Wikipedia-Cities.csv\"#定义网址为url\n",
    "out = os.path.join('data','Wikipedia-Cities-full.csv')#输出使用os.path,join函数,路径为data,文件名为...\n",
    "\n",
    "cols  = ['City', 'Population', 'Latitude', 'Longitude']\n",
    "dtype = [str, int, float, float]\n",
    "\n",
    "untyped_dol = read_csv(get_url(url, out))#术语表等于,使用read_csv函数(函数里面继续使用之前自定义的get_url函数)\n",
    "\n",
    "typed_dol = {}#创建空字典\n",
    "for col in zip(cols, dtype):#在cols和dtype中循环\n",
    "    colname = col[0]\n",
    "    coltype = col[1]\n",
    "    typed_dol[ colname ] = to_type(untyped_dol[colname], coltype)#typed_dol字典中添加值,key为colname,值为使用to_type取类型值"
   ]
  },
  {
   "cell_type": "code",
   "execution_count": 43,
   "id": "9fe573e8-157b-40db-8239-28a6e57aae6c",
   "metadata": {},
   "outputs": [
    {
     "name": "stdout",
     "output_type": "stream",
     "text": [
      "Average population is 202,283.36\n",
      "Westernmost city is Derry\n",
      "Northernmost city is Inverness, Inerness, Inbhir Nis\n",
      "Southernmost city is Truro\n"
     ]
    }
   ],
   "source": [
    "print(f\"Average population is {np.mean(typed_dol['Population']):,.2f}\")\n",
    "print(f\"Westernmost city is {typed_dol['City'][np.where(typed_dol['Longitude']==np.min(typed_dol['Longitude']))[0][0]]}\")\n",
    "print(f\"Northernmost city is {typed_dol['City'][np.where(typed_dol['Latitude']==np.max(typed_dol['Latitude']))[0][0]]}\")\n",
    "print(f\"Southernmost city is {typed_dol['City'][np.where(typed_dol['Latitude']==np.min(typed_dol['Latitude']))[0][0]]}\")"
   ]
  },
  {
   "cell_type": "code",
   "execution_count": null,
   "id": "94053a88-ca6a-4934-ba67-c87fbd550bb3",
   "metadata": {},
   "outputs": [],
   "source": [
    "import numpy as np\n",
    "#这段不知道要干嘛\n",
    "def find_val(col:list, val:str):#定义一个函数叫find_val,参数分别为col:list,val:str\n",
    "    \"\"\"\n",
    "    ??\n",
    "    \"\"\"\n",
    "    if val in dir(np) and callable(getattr(np, val)):#判断如果val在(获得当前模块np的属性列表)和(callable函数用于检查一个对象是否是可调用的)\n",
    "        #getattr() 函数用于返回一个对象属性值。此次返回np和val\n",
    "        func = getattr(np, val) # <--- What does this do???返回了np和val的属性值给func\n",
    "        if val in ['min','max']:#如果val在最小值和最大值里\n",
    "            return np.where(col==func(col))[0][0]#返回(使用np的where函数查找在哪里)col完全等于func的col时的位置\n",
    "        else:\n",
    "            return func(col)\n",
    "    else:\n",
    "        return np.nan\n",
    "    \n",
    "print(find_val(typed_dol['Latitude'], 'min'))\n",
    "print(find_val(typed_dol['Latitude'], 'median'))"
   ]
  },
  {
   "cell_type": "code",
   "execution_count": null,
   "id": "46c46a64-6ef4-4523-9b1e-2c896c182307",
   "metadata": {},
   "outputs": [],
   "source": [
    "!mkdir -p 'dtools'#创建一个目录"
   ]
  },
  {
   "cell_type": "code",
   "execution_count": null,
   "id": "29a76d02-f76d-4e66-ba1f-9873d3e0dc7b",
   "metadata": {},
   "outputs": [],
   "source": [
    "!touch dtools/__init__.py#在该目录下创建一个新文件\n",
    "\n",
    "!jupyter nbconvert --ClearOutputPreprocessor.enabled=True \\#使用转换功能,将本文档转换为notebook.py\n",
    "    --to python --output=dtools/notebook.py \\\n",
    "    Practical-04-Objects.ipynb"
   ]
  },
  {
   "cell_type": "code",
   "execution_count": null,
   "id": "ece16192-9498-476a-9235-d2dd6520f370",
   "metadata": {},
   "outputs": [],
   "source": [
    "%load_ext autoreload\n",
    "%autoreload 2#自动重载\n",
    "import dtools"
   ]
  },
  {
   "cell_type": "code",
   "execution_count": 49,
   "id": "91b42467-3ccc-4baa-aab1-5d06b1a7940e",
   "metadata": {},
   "outputs": [
    {
     "name": "stdout",
     "output_type": "stream",
     "text": [
      "data/crime-sample.csv found locally!\n",
      "ds has 11 columns, these are: ID, Case Number, Date, Primary Type, Description, Location Description, Arrest, Domestic, Year, Latitude, Longitude\n",
      "There are 100 rows of data\n"
     ]
    },
    {
     "ename": "ModuleNotFoundError",
     "evalue": "No module named 'dtools'",
     "output_type": "error",
     "traceback": [
      "\u001b[0;31m---------------------------------------------------------------------------\u001b[0m",
      "\u001b[0;31mModuleNotFoundError\u001b[0m                       Traceback (most recent call last)",
      "Input \u001b[0;32mIn [49]\u001b[0m, in \u001b[0;36m<cell line: 10>\u001b[0;34m()\u001b[0m\n\u001b[1;32m      8\u001b[0m \u001b[38;5;28mprint\u001b[39m(\u001b[38;5;124mf\u001b[39m\u001b[38;5;124m\"\u001b[39m\u001b[38;5;124mThere are \u001b[39m\u001b[38;5;132;01m{\u001b[39;00m\u001b[38;5;28mlen\u001b[39m(ds[\u001b[38;5;124m'\u001b[39m\u001b[38;5;124mID\u001b[39m\u001b[38;5;124m'\u001b[39m])\u001b[38;5;132;01m}\u001b[39;00m\u001b[38;5;124m rows of data\u001b[39m\u001b[38;5;124m\"\u001b[39m)\u001b[38;5;66;03m#计算有多少行\u001b[39;00m\n\u001b[1;32m      9\u001b[0m ds\n\u001b[0;32m---> 10\u001b[0m \u001b[38;5;28;01mimport\u001b[39;00m \u001b[38;5;21;01mdtools\u001b[39;00m\n\u001b[1;32m     11\u001b[0m help(dtools\u001b[38;5;241m.\u001b[39mread_csv)\n",
      "\u001b[0;31mModuleNotFoundError\u001b[0m: No module named 'dtools'"
     ]
    }
   ],
   "source": [
    "import pandas as pd#加载pandas\n",
    "\n",
    "url = 'https://github.com/jreades/fsds/raw/master/data/2019-sample-crime.csv'\n",
    "out = os.path.join('data','crime-sample.csv')\n",
    "\n",
    "ds = pd.read_csv(get_url(url, out))#ds字典被定义为这个在线的csv的内容\n",
    "print(f\"ds has {len(ds.keys())} columns, these are: \" + \", \".join(ds.keys()))#计算k字典ds的ey的长度,join加入ds字典的key都有哪些\n",
    "print(f\"There are {len(ds['ID'])} rows of data\")#计算有多少行\n",
    "ds\n"
   ]
  },
  {
   "cell_type": "code",
   "execution_count": 48,
   "id": "04870d13-cff9-401c-83c6-e69afa492e1e",
   "metadata": {},
   "outputs": [
    {
     "ename": "ModuleNotFoundError",
     "evalue": "No module named 'dtools'",
     "output_type": "error",
     "traceback": [
      "\u001b[0;31m---------------------------------------------------------------------------\u001b[0m",
      "\u001b[0;31mModuleNotFoundError\u001b[0m                       Traceback (most recent call last)",
      "Input \u001b[0;32mIn [48]\u001b[0m, in \u001b[0;36m<cell line: 1>\u001b[0;34m()\u001b[0m\n\u001b[0;32m----> 1\u001b[0m \u001b[38;5;28;01mimport\u001b[39;00m \u001b[38;5;21;01mdtools\u001b[39;00m\n\u001b[1;32m      2\u001b[0m cols  \u001b[38;5;241m=\u001b[39m [\u001b[38;5;124m'\u001b[39m\u001b[38;5;124mLatitude\u001b[39m\u001b[38;5;124m'\u001b[39m, \u001b[38;5;124m'\u001b[39m\u001b[38;5;124mLongitude\u001b[39m\u001b[38;5;124m'\u001b[39m] \n\u001b[1;32m      3\u001b[0m dtype \u001b[38;5;241m=\u001b[39m [\u001b[38;5;28mfloat\u001b[39m, \u001b[38;5;28mfloat\u001b[39m]\n",
      "\u001b[0;31mModuleNotFoundError\u001b[0m: No module named 'dtools'"
     ]
    }
   ],
   "source": [
    "import dtools\n",
    "cols  = ['Latitude', 'Longitude'] \n",
    "dtype = [float, float]\n",
    "\n",
    "typed_ds = {}\n",
    "for col in zip(cols, dtype): # <- This only copies these two columns to typed_ds\n",
    "    colname = col[0]\n",
    "    coltype = col[1]\n",
    "    typed_ds[ colname ] = dtools.to_type(ds[colname], coltype)"
   ]
  },
  {
   "cell_type": "code",
   "execution_count": 47,
   "id": "d57b39bf-8b91-4bd9-8d7b-721f9f600e73",
   "metadata": {},
   "outputs": [
    {
     "ename": "NameError",
     "evalue": "name 'find_val' is not defined",
     "output_type": "error",
     "traceback": [
      "\u001b[0;31m---------------------------------------------------------------------------\u001b[0m",
      "\u001b[0;31mNameError\u001b[0m                                 Traceback (most recent call last)",
      "Input \u001b[0;32mIn [47]\u001b[0m, in \u001b[0;36m<cell line: 1>\u001b[0;34m()\u001b[0m\n\u001b[0;32m----> 1\u001b[0m idx \u001b[38;5;241m=\u001b[39m \u001b[43mfind_val\u001b[49m(typed_ds[\u001b[38;5;124m'\u001b[39m\u001b[38;5;124mLatitude\u001b[39m\u001b[38;5;124m'\u001b[39m], \u001b[38;5;124m'\u001b[39m\u001b[38;5;124mmin\u001b[39m\u001b[38;5;124m'\u001b[39m)\n",
      "\u001b[0;31mNameError\u001b[0m: name 'find_val' is not defined"
     ]
    }
   ],
   "source": [
    "idx = find_val(typed_ds['Latitude'], 'min')"
   ]
  },
  {
   "cell_type": "code",
   "execution_count": null,
   "id": "d0417116-6151-48de-adb1-c617d9428872",
   "metadata": {},
   "outputs": [],
   "source": []
  }
 ],
 "metadata": {
  "kernelspec": {
   "display_name": "Python 3 (ipykernel)",
   "language": "python",
   "name": "python3"
  },
  "language_info": {
   "codemirror_mode": {
    "name": "ipython",
    "version": 3
   },
   "file_extension": ".py",
   "mimetype": "text/x-python",
   "name": "python",
   "nbconvert_exporter": "python",
   "pygments_lexer": "ipython3",
   "version": "3.10.5"
  }
 },
 "nbformat": 4,
 "nbformat_minor": 5
}
