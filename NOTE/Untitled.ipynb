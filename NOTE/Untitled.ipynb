{
 "cells": [
  {
   "cell_type": "code",
   "execution_count": 1,
   "id": "d2086356-bacb-4548-a6cd-e823d5386cfd",
   "metadata": {},
   "outputs": [],
   "source": [
    "list = [['City', 'Population', 'Latitude', 'Longitude'],\n",
    " ['Perth', '45770', '56.39583', '-3.43333'],\n",
    " ['Armagh', '14777', '54.3499', '-6.6546'],\n",
    " ['Dundee', '147268', '56.462', '-2.9707'],\n",
    " ['Colchester', '194706', '51.88861', '0.90361'],\n",
    " ['Salisbury', '40302', '51.07', '-1.79'],\n",
    " ['Portsmouth', '205056', '50.80583', '-1.08722'],\n",
    " ['Wakefield', '325837', '53.683', '-1.499'],\n",
    " ['Bradford', '522452', '53.792', '-1.754'],\n",
    " ['Lancaster', '138375', '54.047', '-2.801'],\n",
    " ['Bangor', '18808', '53.228', '-4.128']]"
   ]
  },
  {
   "cell_type": "code",
   "execution_count": 103,
   "id": "c18e82b0-34f8-4997-b717-14cd06293e12",
   "metadata": {},
   "outputs": [
    {
     "name": "stdout",
     "output_type": "stream",
     "text": [
      "\n",
      "{'City': []}\n",
      "{'City': [], 'Population': []}\n",
      "{'City': [], 'Population': [], 'Latitude': []}\n",
      "{'City': [], 'Population': [], 'Latitude': [], 'Longitude': []}\n"
     ]
    },
    {
     "data": {
      "text/plain": [
       "{'City': [],\n",
       " 'Population': [],\n",
       " 'Latitude': [],\n",
       " 'Longitude': ['Latitude',\n",
       "  'Longitude',\n",
       "  'City',\n",
       "  'Population',\n",
       "  '56.39583',\n",
       "  '-3.43333',\n",
       "  'Perth',\n",
       "  '45770',\n",
       "  '54.3499',\n",
       "  '-6.6546',\n",
       "  'Armagh',\n",
       "  '14777',\n",
       "  '56.462',\n",
       "  '-2.9707',\n",
       "  'Dundee',\n",
       "  '147268',\n",
       "  '51.88861',\n",
       "  '0.90361',\n",
       "  'Colchester',\n",
       "  '194706',\n",
       "  '51.07',\n",
       "  '-1.79',\n",
       "  'Salisbury',\n",
       "  '40302',\n",
       "  '50.80583',\n",
       "  '-1.08722',\n",
       "  'Portsmouth',\n",
       "  '205056',\n",
       "  '53.683',\n",
       "  '-1.499',\n",
       "  'Wakefield',\n",
       "  '325837',\n",
       "  '53.792',\n",
       "  '-1.754',\n",
       "  'Bradford',\n",
       "  '522452',\n",
       "  '54.047',\n",
       "  '-2.801',\n",
       "  'Lancaster',\n",
       "  '138375',\n",
       "  '53.228',\n",
       "  '-4.128',\n",
       "  'Bangor',\n",
       "  '18808']}"
      ]
     },
     "execution_count": 103,
     "metadata": {},
     "output_type": "execute_result"
    }
   ],
   "source": [
    "def csvtodic(file):\n",
    "    data = {} \n",
    "    cols = file[0] \n",
    "    for c in cols:\n",
    "        data[c] = []\n",
    "        print(data)\n",
    "    for r in file:\n",
    "        for a, b in enumerate(cols):\n",
    "            data[c].append(r[a])\n",
    "    return data\n",
    "print()\n",
    "csvtodic(list)"
   ]
  },
  {
   "cell_type": "code",
   "execution_count": null,
   "id": "f598ce90-7ee4-4a29-9ade-11ca137b7dbb",
   "metadata": {},
   "outputs": [],
   "source": []
  },
  {
   "cell_type": "code",
   "execution_count": null,
   "id": "78fe0442-a44f-454f-9442-2030de2ab95b",
   "metadata": {},
   "outputs": [],
   "source": []
  },
  {
   "cell_type": "code",
   "execution_count": null,
   "id": "38140139-7327-4cd6-99c2-c6ad5b6b6d50",
   "metadata": {},
   "outputs": [],
   "source": []
  },
  {
   "cell_type": "code",
   "execution_count": null,
   "id": "c7397505-4777-4229-822a-97d8144f9513",
   "metadata": {},
   "outputs": [],
   "source": []
  }
 ],
 "metadata": {
  "kernelspec": {
   "display_name": "Python 3 (ipykernel)",
   "language": "python",
   "name": "python3"
  },
  "language_info": {
   "codemirror_mode": {
    "name": "ipython",
    "version": 3
   },
   "file_extension": ".py",
   "mimetype": "text/x-python",
   "name": "python",
   "nbconvert_exporter": "python",
   "pygments_lexer": "ipython3",
   "version": "3.10.5"
  }
 },
 "nbformat": 4,
 "nbformat_minor": 5
}
