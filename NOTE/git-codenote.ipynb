{
 "cells": [
  {
   "cell_type": "markdown",
   "metadata": {},
   "source": [
    "git init #初始化一个空的git仓库；会在本地项目文件中，生成一个.git的文件"
   ]
  },
  {
   "cell_type": "markdown",
   "metadata": {},
   "source": [
    "git add #添加文件到你指定的仓库"
   ]
  },
  {
   "cell_type": "markdown",
   "metadata": {},
   "source": [
    "git status #查看状态"
   ]
  },
  {
   "cell_type": "markdown",
   "metadata": {},
   "source": [
    "git commit -m '本地代码提交的注释说明' #将文件提交，提交的文件注释说明，最好说明一下，否则有时候会出错"
   ]
  },
  {
   "cell_type": "markdown",
   "metadata": {},
   "source": [
    "git remote add origin 仓库链接地址 #将本地仓库关联到GitHub上的仓库里去"
   ]
  },
  {
   "cell_type": "markdown",
   "metadata": {},
   "source": [
    "git push #默认git提交命令\n",
    "git push -u origin master #将代码提交到GitHub上\n",
    "git push -- force #强制推送（慎用，除非你认为其他冲突等可以丢弃 或者不是很重要）"
   ]
  },
  {
   "cell_type": "markdown",
   "metadata": {},
   "source": [
    "git config --list // 获取config信息\n",
    "git config --global core.safecrlf false // 去掉git add 命令后 出现的一堆CR LF提示信息\n",
    "其中CR是回车的意思 LF是换行\n",
    "git config --global user.name\"your name\" // 设置username\n",
    "git config --global user.email\"your_email@youremail.com\" // 设置邮箱\n",
    "git config --global credential.helper wincred // 存储凭证 (可用于输入一次用户密码后，不再输入 有时我们已经用SSH key 绑定关联好了 但是每次git提交的时候 还是需要你输入用户名密码 在这个时候 敲入这个命令 将凭证存储起来 用户名密码就不需要再次输入了)\n",
    "git config --global alias.ci commit // 将commit命令设置别名ci git commit命令将由git ci来代替\n",
    "quarto render XXX.qmd #使用quarto转为pdf\n",
    "mkdir // 创建一个文件夹\n",
    "touch a // 创建一个a文件(需安装note.js)\n",
    "echo 1234 >> a // 把1234这个内容放入a文件\n",
    "cat a // 打开a文件 读取出a文件中的内容\n",
    "rm 文件名 // 删除文件\n",
    "pwd // 打印当前工作路径\n",
    "gitk // 用git命令快速打开git GUI\n",
    "\n",
    "ls // 查看当前路径下面的所有文件名\n",
    "ls 文件夹名 // 查看对应文件夹中的内容\n",
    "ls -l // 拉出最近git提交记录以及对应修改的文件名\n",
    "ls -l -a // 拉出最近git提交记录以及对应修改的文件名，隐藏的文件也会显示\n",
    "\n",
    "cd ~ // 将工作路径快速切换到root\n",
    "cd - // 将工作路径切换到上一状态\n",
    "cd ../ // 切回到上一个工作路径\n",
    "cd 文件夹名 // 进入某个目录\n",
    "cd / // 进入根目录\n",
    "\n",
    "git helper -a // 查看全部git子命令\n",
    "git remote show origin #查看当前仓库地址\n",
    "git remote set-url origin #执行修改当前仓库地址"
   ]
  },
  {
   "cell_type": "code",
   "execution_count": null,
   "metadata": {},
   "outputs": [],
   "source": []
  }
 ],
 "metadata": {
  "kernelspec": {
   "display_name": "Python 3 (ipykernel)",
   "language": "python",
   "name": "python3"
  },
  "language_info": {
   "codemirror_mode": {
    "name": "ipython",
    "version": 3
   },
   "file_extension": ".py",
   "mimetype": "text/x-python",
   "name": "python",
   "nbconvert_exporter": "python",
   "pygments_lexer": "ipython3",
   "version": "3.10.5"
  },
  "vscode": {
   "interpreter": {
    "hash": "916dbcbb3f70747c44a77c7bcd40155683ae19c65e1c03b4aa3499c5328201f1"
   }
  }
 },
 "nbformat": 4,
 "nbformat_minor": 4
}
