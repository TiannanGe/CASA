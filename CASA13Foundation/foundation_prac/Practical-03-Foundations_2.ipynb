{
 "cells": [
  {
   "cell_type": "markdown",
   "metadata": {},
   "source": [
    "<div style=\"float:left\">\n",
    "    <h1 style=\"width:450px\">Practical 3: Foundations (Part 2)</h1>\n",
    "    <h2 style=\"width:450px\">Getting to grips with Dictionaries, LOLs and DOLs, Packages and Functions</h2>\n",
    "</div>\n",
    "<div style=\"float:right\"><img width=\"100\" src=\"https://github.com/jreades/i2p/raw/master/img/casa_logo.jpg\" /></div>"
   ]
  },
  {
   "cell_type": "markdown",
   "metadata": {},
   "source": [
    "<div class=\"alert alert-block alert-success\">\n",
    "    <b>&#9888; Tip</b>: You should download this notebook from GitHub and then save it to your own copy of the repository. I'd suggest adding it (<tt>git add ...</tt>) right away and then committing (e.g. <tt>git commit -m \"Just added.\"</tt>). Do this again at the end of the class (<tt>git add ...</tt>, <tt>git commit -m ...</tt>) and you'll have a record of everything you did. Then you can <tt>git push</tt> everything to GitHub.</div>"
   ]
  },
  {
   "cell_type": "markdown",
   "metadata": {},
   "source": [
    "## Task 1. From Lists to Data (Little Steps)\n",
    "\n",
    "We're going to start off using lists and dictionaries that _we_ define right at the start of the 'program', but the _real_ value of these data structures comes when we build a list or dictionary _from_ data such as a file or a web page... and that's what we're going to do below!"
   ]
  },
  {
   "cell_type": "markdown",
   "metadata": {},
   "source": [
    "First, here's a reminder of some useful methods (_i.e._ functions) that apply to lists:\n",
    "\n",
    "| Method                 | Action |\n",
    "|------------------------|------------------------------------------------------------------|\n",
    "| list.count(`x`)        | Return the number of times x appears in the list                 |\n",
    "| list.insert(`i`, `x`)  | Insert value `x` at a given position `i`                         |\n",
    "| list.pop([`i`])        | Remove and return the value at position `i` (`i` is optional)    |\n",
    "| list.remove(`x`)       | Remove the first element from the list whose value is `x`        |\n",
    "| list.reverse()         | Reverse the elements of the list in place                        |\n",
    "| list.sort()            | Sort the items of the list in place                              |\n",
    "| list.index(`x`)        | Find the first occurence of `x` in the list                      |\n",
    "| list[x:y]              | Slice the list from index `x` to `y-1`                           |\n",
    "\n",
    "This should all be revision... because it's how we finished things up _last week_. But I want to go over it _briefly_ again because we're going to build on it this week.\n",
    "\n",
    "<div class=\"alert alert-block alert-info\">\n",
    "    <b>&#9888; Hint</b>: As before, `??` will highlight where one or more bit of code are missing and need to be filled in...</div>"
   ]
  },
  {
   "cell_type": "markdown",
   "metadata": {},
   "source": [
    "### Task 1.1 List Refresher\n",
    "\n",
    "<div class=\"alert alert-block alert-success\"><b>Difficulty level</b>: Low.</div>\n",
    "\n",
    "To complete these tasks, all of the methods that you need are listed above, so this is about testing yourself on your understanding *both* of how to read the help *and* how to index elements in a list."
   ]
  },
  {
   "cell_type": "markdown",
   "metadata": {},
   "source": [
    "The next line creates a list of city names (each element is a string):"
   ]
  },
  {
   "cell_type": "code",
   "execution_count": null,
   "metadata": {},
   "outputs": [],
   "source": [
    "cities = [\"Bristol\", \"London\", \"Manchester\", \"Edinburgh\", \"Belfast\", \"York\"]"
   ]
  },
  {
   "cell_type": "markdown",
   "metadata": {},
   "source": [
    "#### 1.1.1 Finding a Position in a List\n",
    "\n",
    "Replace the `??` so that it prints the _index_ for Manchester in the list."
   ]
  },
  {
   "cell_type": "code",
   "execution_count": null,
   "metadata": {},
   "outputs": [],
   "source": [
    "print(\"The position of Manchester in the list is: \" + str(cities.index(\"Manchester\")))"
   ]
  },
  {
   "cell_type": "markdown",
   "metadata": {},
   "source": [
    "#### 1.1.2 List Arithmetic\n",
    "\n",
    "Replace the `??` so that it prints Belfast."
   ]
  },
  {
   "cell_type": "code",
   "execution_count": null,
   "metadata": {},
   "outputs": [],
   "source": [
    "print(cities[-4 + 2])"
   ]
  },
  {
   "cell_type": "markdown",
   "metadata": {},
   "source": [
    "#### 1.1.3 Negative List Arithmetic \n",
    "\n",
    "Use a **negative** index to print *Belfast*"
   ]
  },
  {
   "cell_type": "code",
   "execution_count": null,
   "metadata": {},
   "outputs": [],
   "source": [
    "print(cities[-2])"
   ]
  },
  {
   "cell_type": "markdown",
   "metadata": {},
   "source": [
    "### Task 1.2 Looking Across Lists\n",
    "\n",
    "<div class=\"alert alert-block alert-warning\"><b>Difficulty level</b>: Medium.</div>"
   ]
  },
  {
   "cell_type": "markdown",
   "metadata": {},
   "source": [
    "Notice that the list of `temperatures` below is the same length as the list of `cities`, that's because these are (roughly) average temperatures for each city!"
   ]
  },
  {
   "cell_type": "code",
   "execution_count": null,
   "metadata": {},
   "outputs": [],
   "source": [
    "temperatures = [15.6, 16.5, 13.4, 14.0, 15.2, 14.8]"
   ]
  },
  {
   "cell_type": "markdown",
   "metadata": {},
   "source": [
    "#### 1.2.1 Lateral Thinking\n",
    "\n",
    "Given what you know about `cities` and `temperatures`, how do you print: \n",
    "\n",
    "> \"The average temperature in Manchester is 13.4 degrees.\"\n",
    "\n",
    "_without_ doing any of the following:\n",
    "1. Using a list index directly (*i.e.* `cities[2]` and `temperatures[2]`) or \n",
    "2. Hard-coding the name of the city? \n",
    "\n",
    "To put it another way, **neither** of these solutions is the answer:\n",
    "```python\n",
    "print(\"The average temperature in Manchester is \" + str(temperatures[2]) + \" degrees.\")\n",
    "```\n",
    "or \n",
    "```python\n",
    "city=2\n",
    "print(\"The average temperature in \" + cities[city] + \" is \" + str(temperatures[city]) + \" degrees.\")\n",
    "```\n",
    "\n",
    "<div class=\"alert alert-block alert-success\">\n",
    "    <b>&#128161; Hint</b>: You will need to combine some of the ideas above and also think about the fact that the list index is that we need is the same in both lists... Also, remember that you'll need to wrap a `str(...)` around your temperature to make it into a string.</div>"
   ]
  },
  {
   "cell_type": "code",
   "execution_count": null,
   "metadata": {},
   "outputs": [],
   "source": [
    "city=\"Manchester\" # Use this to get the solution...\n",
    "\n",
    "# This way is perfectly fine\n",
    "print(\"The average temperature in \" + city + \" is \" + str(temperatures[2]))\n",
    "\n",
    "# This way is more Python 3 and a bit easier to read\n",
    "print(f\"The average temperature in {city} is {str(temperatures[2])}\")"
   ]
  },
  {
   "cell_type": "markdown",
   "metadata": {
    "tags": []
   },
   "source": [
    "#### 1.2.2 Double-Checking Your Solution\n",
    "\n",
    "You'll know that you got the 'right' answer to the question above if you can copy+paste your code and change only **one** thing in order to print out: \"The average temperature in Belfast is 15.2 degrees\""
   ]
  },
  {
   "cell_type": "code",
   "execution_count": null,
   "metadata": {},
   "outputs": [],
   "source": [
    "city=\"Belfast\"\n",
    "print(f\"The average temperature in {city} is {str(temperatures[4])}\"+\" degrees\") "
   ]
  },
  {
   "cell_type": "markdown",
   "metadata": {},
   "source": [
    "#### 1.2.3 A Functional Solution \n",
    "\n",
    "Can you convert this to a simple function called `avg_tmp` with two inputs and then use this to print the average temperature for Edinburgh? "
   ]
  },
  {
   "cell_type": "code",
   "execution_count": 353,
   "metadata": {},
   "outputs": [
    {
     "name": "stdout",
     "output_type": "stream",
     "text": [
      "The average temperature in Edinburgh is 14.0\n"
     ]
    }
   ],
   "source": [
    "temperatures = [15.6, 16.5, 13.4, 14.0, 15.2, 14.8]\n",
    "cities = [\"Bristol\", \"London\", \"Manchester\", \"Edinburgh\", \"Belfast\", \"York\"]\n",
    "def avg_tmp(city, temperatures):\n",
    "    print(f\"The average temperature in {city} is {temperatures[cities.index(city)]}\")\n",
    "\n",
    "city=\"Edinburgh\"\n",
    "avg_tmp(city, temperatures)"
   ]
  },
  {
   "cell_type": "markdown",
   "metadata": {},
   "source": [
    "The output should be: `The average temperature in Edinburgh is 14.0`"
   ]
  },
  {
   "cell_type": "markdown",
   "metadata": {},
   "source": [
    "#### 1.2.4 Loops and Functions \n",
    "\n",
    "Now use a `for` loop over the cities to print out the average temperature in each city using the function that we just created:"
   ]
  },
  {
   "cell_type": "code",
   "execution_count": null,
   "metadata": {},
   "outputs": [],
   "source": [
    "\n",
    "cities = [\"Bristol\", \"London\", \"Manchester\", \"Edinburgh\", \"Belfast\", \"York\"]\n",
    "temperatures = [15.6, 16.5, 13.4, 14.0, 15.2, 14.8]\n",
    "def avg_tmp(c,t):\n",
    "    print(f\"The average temperature in {c} is {t}\")\n",
    "for q in cities:\n",
    "    avg_tmp(q, temperatures[cities.index(q)])"
   ]
  },
  {
   "cell_type": "markdown",
   "metadata": {},
   "source": [
    "The output should be:\n",
    "```\n",
    "The average temperature in Bristol is 15.6\n",
    "The average temperature in London is 16.5\n",
    "The average temperature in Manchester is 13.4\n",
    "The average temperature in Edinburgh is 14.0\n",
    "The average temperature in Belfast is 15.2\n",
    "The average temperature in York is 14.8\n",
    "```"
   ]
  },
  {
   "cell_type": "markdown",
   "metadata": {},
   "source": [
    "## Task 2. Dictionaries\n",
    "\n",
    "<div class=\"alert alert-block alert-success\"><b>Difficulty level</b>: Low.</div>\n",
    "\n",
    "Remember that dictionaries (a.k.a. dicts) are like lists in that they are [data structures](https://docs.python.org/2/tutorial/datastructures.html) containing multiple elements. A key difference between [dictionaries](https://docs.python.org/2/tutorial/datastructures.html#dictionaries) and [lists](https://docs.python.org/2/tutorial/introduction.html#lists) is that while elements in lists are ordered, dicts are unordered. This means that whereas for lists we use integers as indexes to access elements, in dictonaries we use 'keys' (which can multiple different types; strings, integers, etc.). Consequently, an important concept for dicts is that of key-value pairs. "
   ]
  },
  {
   "cell_type": "markdown",
   "metadata": {},
   "source": [
    "### Task 2.1 Creating an Atlas"
   ]
  },
  {
   "cell_type": "markdown",
   "metadata": {},
   "source": [
    "The code below creates an Atlas using a dictionary. The dictionary `key` is a city name, and the `value` is the latitude, longitude, and main airport code."
   ]
  },
  {
   "cell_type": "code",
   "execution_count": null,
   "metadata": {},
   "outputs": [],
   "source": [
    "cities = {\n",
    "    'San Francisco': [37.77, -122.43, 'SFO'],\n",
    "    'London': [51.51, -0.08, 'LDN'],\n",
    "    'Paris': [48.86,2.29, 'PAR'],\n",
    "    'Beijing': [39.92,116.40 ,'BEI'],\n",
    "}"
   ]
  },
  {
   "cell_type": "markdown",
   "metadata": {},
   "source": [
    "#### 2.1.1 Adding to a Dict \n",
    "\n",
    "Add a record to the dictionary for Chennai ([data here](https://en.wikipedia.org/wiki/Chennai))"
   ]
  },
  {
   "cell_type": "code",
   "execution_count": null,
   "metadata": {},
   "outputs": [],
   "source": [
    "cities1 = {\"Chennai\":[37.77, -122.43, 'SFO']}\n",
    "cities.update(cities1)\n",
    "cities"
   ]
  },
  {
   "cell_type": "markdown",
   "metadata": {},
   "source": [
    "#### 2.1.2 Accessing a Dict \n",
    "\n",
    "In *one* line of code, print out the airport code for Chennai (`MAA`):"
   ]
  },
  {
   "cell_type": "code",
   "execution_count": null,
   "metadata": {},
   "outputs": [],
   "source": [
    "print( cities['Chennai'][2] )"
   ]
  },
  {
   "cell_type": "markdown",
   "metadata": {},
   "source": [
    "### Task 2.2 Dealing With Errors"
   ]
  },
  {
   "cell_type": "markdown",
   "metadata": {},
   "source": [
    "Check you understand the difference between the following two blocks of code by running them."
   ]
  },
  {
   "cell_type": "code",
   "execution_count": null,
   "metadata": {},
   "outputs": [],
   "source": [
    "print(cities['Berlin'])"
   ]
  },
  {
   "cell_type": "code",
   "execution_count": null,
   "metadata": {},
   "outputs": [],
   "source": [
    "print(cities.get('Berlin'))"
   ]
  },
  {
   "cell_type": "markdown",
   "metadata": {},
   "source": [
    "Notice that trying to access a non-existent element of a dict triggers a `KeyError`, while asking the dict to `get` the _same element_ does not, it simply returns `None`. Can you think why, depending on the situtation, _either_ of these might be the 'correct' answer?"
   ]
  },
  {
   "cell_type": "markdown",
   "metadata": {},
   "source": [
    "items### Task 2.3 Thinking Data\n",
    "\n",
    "<div class=\"alert alert-block alert-success\">\n",
    "    <b>&#128161; Hint</b>: In this section you'll need to look up (i.e. Google) and make use of a few new functions that apply to dictionaries: <tt>&lt;dictionary&gt;.\n",
    "    ()</tt>, <tt>&lt;dictionary&gt;.keys()</tt>. <i>Remember</i>: if in doubt, add <tt>print(...)</tt> statements to see what is going on!</div>\n",
    "\n",
    "#### 2.3.1 Iterating over a Dict \n",
    "\n",
    "Adapting the code below, print out the city name and airport code for every city in our Atlas."
   ]
  },
  {
   "cell_type": "code",
   "execution_count": null,
   "metadata": {},
   "outputs": [],
   "source": [
    "for k, v in cities.items():\n",
    "    print(str(k)+\" -> \"+str(v[2]))"
   ]
  },
  {
   "cell_type": "markdown",
   "metadata": {},
   "source": [
    "The output should look something like this:\n",
    "```\n",
    "San Francisco -> SFO\n",
    "London -> LDN\n",
    "Paris -> PAR\n",
    "Beijing -> BEI\n",
    "Chennai -> MAA\n",
    "```"
   ]
  },
  {
   "cell_type": "markdown",
   "metadata": {},
   "source": [
    "#### 2.3.2 More Complex Dicts \n",
    "\n",
    "How would your code need to change to produce the _same output_ from this data structure:"
   ]
  },
  {
   "cell_type": "code",
   "execution_count": null,
   "metadata": {},
   "outputs": [],
   "source": [
    "cities = {\n",
    "    'San Francisco': {\n",
    "        'lat': 37.77, \n",
    "        'lon': -122.43,\n",
    "        'airport': 'SFO'},\n",
    "    'London': {\n",
    "        'lat': 51.51, \n",
    "        'lon': -0.08, \n",
    "        'airport': 'LDN'},\n",
    "    'Paris': {\n",
    "        'lat': 48.86,\n",
    "        'lon': 2.29, \n",
    "        'airport': 'PAR'},\n",
    "    'Beijing': {\n",
    "        'lat': 39.92,\n",
    "        'lon': 116.40,\n",
    "        'airport': 'BEI'},\n",
    "    'Chennai': { \n",
    "        'lat': 13.08, \n",
    "        'lon': 80.28, \n",
    "        'airport': 'MAA'}\n",
    "}\n",
    "\n",
    "for k,v in cities.items():\n",
    "   # print(\"城市是:\" + k + \" 经度是:\" + str(v[\"lat\"]) + \"纬度是:\" + str(v[\"lon\"])+ \" 机场是:\" + v[ 'airport'])\n",
    "    print(f\"城市是 {k} -> {v['airport']}\")#f要用双引号"
   ]
  },
  {
   "cell_type": "markdown",
   "metadata": {},
   "source": [
    "#### 2.3.3 More Dictionary Action! \n",
    "\n",
    "And how would it need to change to print out the name and latitude of every city?"
   ]
  },
  {
   "cell_type": "code",
   "execution_count": null,
   "metadata": {},
   "outputs": [],
   "source": [
    "for c in cities.keys():\n",
    "    print(f\"{c} is at latitude {cities[c]['lat']}\")"
   ]
  },
  {
   "cell_type": "markdown",
   "metadata": {},
   "source": [
    "The output should be something like this:\n",
    "```\n",
    "San Francisco is at latitude 37.77\n",
    "London is at latitude 51.51\n",
    "Paris is at latitude 48.86\n",
    "Beijing is at latitude 39.92\n",
    "Chennai is at latitude 13.08\n",
    "```"
   ]
  },
  {
   "cell_type": "markdown",
   "metadata": {},
   "source": [
    "#### 2.3.4 And _Another_ Way to Use a Dict \n",
    "\n",
    "Now produce the _same output_ using this new data structure:"
   ]
  },
  {
   "cell_type": "code",
   "execution_count": 355,
   "metadata": {},
   "outputs": [
    {
     "name": "stdout",
     "output_type": "stream",
     "text": [
      "城市是:San Francisco坐标是:[37.77, -122.43]机场是:SFO\n",
      "城市是:London坐标是:[51.51, -0.08]机场是:LDN\n",
      "城市是:Paris坐标是:[48.86, 2.29]机场是:PAR\n",
      "城市是:Beijing坐标是:[39.92, 116.4]机场是:BEI\n",
      "城市是:Chennai坐标是:[13.08, 80.28]机场是:MAA\n"
     ]
    }
   ],
   "source": [
    "cities_alt = [\n",
    "    {'name':     'San Francisco',\n",
    "     'position': [37.77, -122.43],\n",
    "     'airport':  'SFO'},\n",
    "    {'name':     'London',\n",
    "     'position': [51.51, -0.08],\n",
    "     'airport':  'LDN'},\n",
    "    {'name':     'Paris',\n",
    "     'position': [48.86, 2.29],\n",
    "     'airport':  'PAR'},\n",
    "    {'name':     'Beijing',\n",
    "     'position': [39.92, 116.40],\n",
    "     'airport':  'BEI'},\n",
    "    {'name':     'Chennai', \n",
    "     'position': [13.08, 80.28],\n",
    "      'airport': 'MAA'}\n",
    "]\n",
    "\n",
    "for c in cities_alt:\n",
    "    print(\"城市是:\" + str(c[\"name\"]) + \"坐标是:\" + str(c[\"position\"]) + \"机场是:\" + str(c[\"airport\"]))"
   ]
  },
  {
   "cell_type": "markdown",
   "metadata": {},
   "source": [
    "#### 2.3.5 Think Data! \n",
    "\n",
    "What are some of the main differences that you can think of between `cities` and `cities_alt` _as_ data? There is no right answer.\n",
    "\n",
    "<div class=\"alert alert-block alert-info\">\n",
    "    <i>&#9888; Hint</i>: I just want you to think about these <i>as data</i>! If you were trying to use <tt>cities</tt> and <tt>cities_alt</tt> as data what differences would you find when accessing one or more 'records'?</div>\n",
    "\n",
    "- Point 1 here.\n",
    "- Point 2 here.\n",
    "- Point 3 here."
   ]
  },
  {
   "cell_type": "markdown",
   "metadata": {},
   "source": [
    "## Task 3. Tackling Programming Problems\n",
    "\n",
    "<div class=\"alert alert-block alert-warning\"><b>Difficulty level</b>: Medium.</div>\n",
    "\n",
    "Let's now think about how to approach problems in programming (with code) and how that might differ from other ways of thinking. \n",
    "\n",
    "The problem we will use here as an example is: _download a data file that we know is hosted on a web site and output some information about those data_. This sounds hard. It _is_ hard when you're just starting out in programming. But it is _not_ hard for a computer... _iff_ we can figure out what to tell it to do _and_ make use of work that other people have done for us!"
   ]
  },
  {
   "cell_type": "markdown",
   "metadata": {},
   "source": [
    "### What Do We Do? Break It Down!"
   ]
  },
  {
   "cell_type": "markdown",
   "metadata": {},
   "source": [
    "#### Step 1. Analyse the Problem\n",
    "\n",
    "The first step to writing a program is thinking about your goal and the steps required to achieve that. We _**don't**_ write programs like we write essays: all at once by writing a whole lot of code and then hoping for the best when we hit 'submit'. \n",
    "\n",
    "When you're tackling a programming problem you break it down into separate, simpler steps, and then tick them off one by one. Doing this gets easier as you become more familiar with programming, but it remains crucial and, in many cases, good programmers in large companies spend more time on _design_ than they do on actual _coding_."
   ]
  },
  {
   "cell_type": "markdown",
   "metadata": {},
   "source": [
    "#### Step 2. Functions & Packages\n",
    "\n",
    "We have discussed how _functions_ are a useful programming tool to enable us to re-use chunks of code. Basically, a function is a way to do something to something in a portable, easy-to-use little bundle of code. "
   ]
  },
  {
   "cell_type": "markdown",
   "metadata": {},
   "source": [
    "Some steps in a program are done so many times by so many people that, eventually, someone writes a _package_ that bundles up those operations into something easy to use that saves _you_ having to figure out the gory details. Reading a file (even one on a computer halfway round the world) is one of those things. Making sense of the data *in* that file for you is probably not.\n",
    "\n",
    "![xkcd: Easy vs. Hard](https://imgs.xkcd.com/comics/tasks.png)"
   ]
  },
  {
   "cell_type": "markdown",
   "metadata": {},
   "source": [
    "## To a computer, reading data from a remote location (e.g. a web site halfway around the world) is not really any different from reading one that's sitting on your your local hard drive (e.g. on your desktop). To simplify things a great deal: the computer really just needs to know the location of the file and an appropriate _protocol_ for accessing that file (_e.g._ http, https, ftp, local...) and then a clever programming language like Python will typically have packages that can kind of take of the rest. \n",
    "\n",
    "In all cases -- local and remote -- you use the package to handle the hard bit of knowing how to actually 'read' data (because all files are just `1`s and `0`s of data) at the _device_ level and then Python gives you back a 'file handle' that helps you to achieve things like 'read a line' or 'close an open file'. You can think of a filehandle as something that gives you a 'grip' on a file-like object no matter where or what it is, and the package is the way that this magic is achieved."
   ]
  },
  {
   "cell_type": "markdown",
   "metadata": {},
   "source": [
    "#### Step 3. Look for Ways to Recycle"
   ]
  },
  {
   "cell_type": "markdown",
   "metadata": {},
   "source": [
    "**Always** look for ways to avoid reinventing the wheel. This is where Python's packages (or R's for that matter) come into their own. If it's something that programmers often need to do, then chances are that someone has written a package to do it!\n",
    "\n",
    "The point of packages is that they can help us to achieve quite a lot very quickly since we can just make use of someone else's code. In the same way that we won't mark you down for Googling the answer to a coding question, we _also_ won't mark you down for using someone else's package to help you get going with your programming. _**That's the whole point!**_\n",
    "\n",
    "Often, if you're not sure where to start, Google (or StackOverflow) is the place to go:\n",
    "\n",
    "[`how to read text file on web server python`](https://www.google.co.uk/search?q=how+to+read+text+file+on+web+server+python&oq=how+to+read+text+file+on+web+server+python&aqs=chrome..69i57.629j0j7&sourceid=chrome&ie=UTF-8)\n",
    "\n",
    "Boom!"
   ]
  },
  {
   "cell_type": "markdown",
   "metadata": {
    "tags": []
   },
   "source": [
    "#### Step 4. Make a Plan\n",
    "\n",
    "OK, so we need to break this _hard_ problem down into something simpler. We can do this by thinking about it as three separate steps:\n",
    "\n",
    "1. We want to read a remote file (i.e. a text file somewhere the planet), \n",
    "2. We want to turn it into a local data structure (i.e a list or a dictionary), \n",
    "3. We want to perform some calculations on the data (e.g. calculate the mean, find the easternmost city, etc.).\n",
    "\n",
    "We can tackle each of those in turn, getting the first bit working, then adding the second bit, etc. It's just like using lego to build something: you take the same pieces and assemble them in different ways to produce different things."
   ]
  },
  {
   "cell_type": "markdown",
   "metadata": {},
   "source": [
    "### Task 3.1. Reading a Remote File\n",
    "\n",
    "So, we are going to [download a file from GitHub](https://github.com/jreades/fsds/blob/master/data/src/Wikipedia-Cities-simple.csv), but we **aren't going to to try to turn it into data** or otherwise make 'sense' of it yet, we just want to **read** it. We are then going to build from this first step towards the rest of the steps!\n",
    "\n",
    "Because we're accessing data from a 'URL' we need to use the `urlopen` [function](https://docs.python.org/3.0/library/urllib.request.html?highlight=urlopen#urllib.request.urlopen) from the `urllib.request` [package](https://docs.python.org/3.0/library/urllib.request.html). If you're wondering how we know to use this function and package, you might google something like: _read remote csv file python 3_ which in turn might get you to a StackOverflow question and answer like [this](https://stackoverflow.com/questions/36965864/opening-a-url-with-urllib-in-python-3). \n",
    "\n",
    "<div class=\"alert alert-block alert-success\">\n",
    "    <b>&#128161; Hint</b>: Remember that you can use <tt>dir(...)</tt> and <tt>help(...)</tt> to investigate what a package offers. You can also get help in Jupyter by typing <tt>?</tt> before the function that you want to call.</div>"
   ]
  },
  {
   "cell_type": "code",
   "execution_count": null,
   "metadata": {},
   "outputs": [],
   "source": [
    "from urllib.request import urlopen\n",
    "?urlopen"
   ]
  },
  {
   "cell_type": "markdown",
   "metadata": {},
   "source": [
    "As you can see, there is _lot_ of information here about how things work. A _lot_ of it won't make much sense at the moment. That's ok. _Some_ of this doesn't make much sense to me, but that's because this is the _full_ documentation from Python so it's trying to cover _all_ the bases. You don't need to read every line of this, what you are looking is information about things like the 'signature' (what parameters the function accepts) and its output. Of course, you can also _just Google it_!"
   ]
  },
  {
   "cell_type": "markdown",
   "metadata": {},
   "source": [
    "<div class=\"alert alert-block alert-warning\">\n",
    "    <b>&#9888; Note</b>: if you are working behind a firewall (esp. if working on this practical in, say, China) then there is a <i>chance</i> you will get a <tt>URLError</tt> (<tt>&lt;urlopen error [Errno 110044] getaddrinfo failed&gt;</tt>). This is a '<a href=\"https://stackoverflow.com/questions/7334199/getaddrinfo-failed-what-does-that-mean\">proxy error</a>' and in this case you may need to <a href=\"https://stackoverflow.com/a/28153935\">configure your environment</a> as follows:<br />\n",
    "<tt>\n",
    "import os<br />\n",
    "os.environ['HTTP_PROXY'] = 'http://127.0.0.1:10809'<br />\n",
    "os.environ['HTTPS_PROXY'] = 'http://127.0.0.1:10809'<br />\n",
    "</tt>\n",
    "</div>\n",
    "\n",
    "Before you start working on the code, why not open the data file [directly in your browser](https://raw.githubusercontent.com/jreades/fsds/master/data/src/Wikipedia-Cities-simple.csv)? It's pretty small, and it will give you a sense of what is going on."
   ]
  },
  {
   "cell_type": "code",
   "execution_count": 356,
   "metadata": {},
   "outputs": [
    {
     "name": "stdout",
     "output_type": "stream",
     "text": [
      "'raw' variable is of type: 'str'.\n",
      "Raw content is:\n",
      "City,Population,Latitude,Longitude\n",
      "Perth,45770,56.39583,-3.43333\n",
      "Armagh,14777,54.3499,-6.6546\n",
      "Dundee,147268,56.462,-2.9707\n",
      "Colchester,194706,51.88861,0.90361\n",
      "Salisbury,40302,51.07,-1.79\n",
      "Portsmouth,205056,50.80583,-1.08722\n",
      "Wakefield,325837,53.683,-1.499\n",
      "Bradford,522452,53.792,-1.754\n",
      "Lancaster,138375,54.047,-2.801\n",
      "Bangor,18808,53.228,-4.128\n",
      "\n",
      "\n"
     ]
    }
   ],
   "source": [
    "from urllib.request import urlopen\n",
    "\n",
    "# Given the info you were given above, what do you \n",
    "# think the value of 'url' should be? What\n",
    "# type of variable is it? int or string? \n",
    "url = 'https://raw.githubusercontent.com/jreades/fsds/master/data/src/Wikipedia-Cities-simple.csv'#定义URL为某个连接\n",
    "# Read the URL stream into variable called 'response'\n",
    "# using the function that we imported above\n",
    "response = urlopen(url)#使用urlopen函数打开ucl,并将反馈的值赋到response\n",
    "data = response.read().decode('utf-8')#使用read函数读取反馈, 并设置代码为utf-8\n",
    "# You might want to explore what `__class__` and `__name__`\n",
    "# are doing, but basically the give us a way of finding out what\n",
    "# is 'behind' more complex variables\n",
    "# Now read from the stream, decoding so that we get actual text\n",
    "print(f\"'raw' variable is of type: '{data.__class__.__name__}'.\")\n",
    "print(f\"Raw content is:\\n{data}\\n\")\n"
   ]
  },
  {
   "cell_type": "markdown",
   "metadata": {},
   "source": [
    "<div class=\"alert alert-block alert-info\">\n",
    "    <b>&#9888; Note</b>: Notice that the <tt>raw</tt> data has the format <tt>b'...'</tt> with all of the data seemingly on one line, while the <em>decoded</em> version in <tt>data</tt> is 'correctly' structured with lines! The 'raw' data is in <em>bytecode</em> format which is not, strictly, a <tt>string</tt>. It only becomes a string when we 'decode it' to <tt>utf-8</tt> (which is the 'encoding' of text that supports most human languages). While the computer doesn't particularly care, we do!</div>"
   ]
  },
  {
   "cell_type": "markdown",
   "metadata": {},
   "source": [
    "Remember that you can treat strings <i>as lists</i>, so in when we <tt>print</tt> below we cut off the output at 100 characters."
   ]
  },
  {
   "cell_type": "code",
   "execution_count": null,
   "metadata": {},
   "outputs": [],
   "source": [
    "print(f\"There are {len(data)} characters in the data variable.\")#计算data总共多少个字符\n",
    "print(f\"The first 125 characters are: '{data[:125]}'\") # Notice that '\\n' count here!#前125个字符"
   ]
  },
  {
   "cell_type": "markdown",
   "metadata": {},
   "source": [
    "So this is definitely text, but it doesn't (yet) look entirely like the data *we* see because it's still just one long string, and not *data* which has individual records on each line. To split the text into individual lines, we can use the handily named `.splitlines()` method (more on methods below):  "
   ]
  },
  {
   "cell_type": "code",
   "execution_count": null,
   "metadata": {},
   "outputs": [],
   "source": [
    "rows = data.splitlines()#splitlines是将每一行变成列表里的一个元素,并将该列表赋值给rows\n",
    "print(rows)\n",
    "print(f\"'rows' variable is of type: {rows.__class__.__name__}'.\")#rows的格式属性是list"
   ]
  },
  {
   "cell_type": "markdown",
   "metadata": {},
   "source": [
    "Note now, how the _data_ variable has type `list`. So to view the data as we see them in the original online file, we can now use a `for` loop to print out each element of the `list` (each element being a row of the original online file):"
   ]
  },
  {
   "cell_type": "code",
   "execution_count": 358,
   "metadata": {},
   "outputs": [
    {
     "name": "stdout",
     "output_type": "stream",
     "text": [
      "There are 11 rows of data.\n",
      "City,Population,Latitude,Longitude\n",
      "Perth,45770,56.39583,-3.43333\n",
      "City,Population,Latitude,Longitude\n",
      "Perth,45770,56.39583,-3.43333\n"
     ]
    }
   ],
   "source": [
    "print(f\"There are {len(rows)} rows of data.\")\n",
    "print(\"\\n\".join(rows[0:2])) \n",
    "\n",
    "q = \"\\n\"\"\".join(rows[0:2])\n",
    "print(q)"
   ]
  },
  {
   "cell_type": "markdown",
   "metadata": {},
   "source": [
    "That's a little hard to read, though something has clearly changed. Let's try printing the last row:"
   ]
  },
  {
   "cell_type": "code",
   "execution_count": null,
   "metadata": {},
   "outputs": [],
   "source": [
    "print(rows[-1])"
   ]
  },
  {
   "cell_type": "markdown",
   "metadata": {},
   "source": [
    "The last row should be `Bangor,18808,53.228,-4.128`.\n",
    "\n",
    "**Congratulations!** You've now read a text file sitting on a server in, I think, Canada and Python _didn't care_. "
   ]
  },
  {
   "cell_type": "markdown",
   "metadata": {},
   "source": [
    "### Task 3.2. Text into Data\n",
    "\n",
    "We now need to work on turning the response into useful data. We got partway there by splitting on line-breaks (`splitlines()`), but now we need to get columns for each line. You'll notice that we are dealing with a _CSV_ (Comma-Separated Value) file and that the format _looks_ quite simple... So, in theory, to turn this into data we 'just' need to _split_ each row into separate fields using the commas.\n",
    "\n",
    "There's a handy function associated with strings called `split`:"
   ]
  },
  {
   "cell_type": "code",
   "execution_count": null,
   "metadata": {},
   "outputs": [],
   "source": [
    "print('abcdefgh'.split('d'))"
   ]
  },
  {
   "cell_type": "markdown",
   "metadata": {},
   "source": [
    "You can also investigate further how the split function works using:"
   ]
  },
  {
   "cell_type": "code",
   "execution_count": null,
   "metadata": {},
   "outputs": [],
   "source": [
    "help('abcdefgh'.split)"
   ]
  },
  {
   "cell_type": "markdown",
   "metadata": {},
   "source": [
    "So this seems like a good solution to turn our text into *data*:"
   ]
  },
  {
   "cell_type": "code",
   "execution_count": null,
   "metadata": {},
   "outputs": [],
   "source": [
    "test = rows[-1].split(',')\n",
    "print(test)\n",
    "print(f\"The population of {test[0]} is {int(test[1]):,}\")"
   ]
  },
  {
   "cell_type": "markdown",
   "metadata": {},
   "source": [
    "I'd say that we're now getting quite close to something that looks like 'real data': I know how to convert a raw response from a web server into a string, to split that string into rows, and can even access individual elements from a row! "
   ]
  },
  {
   "cell_type": "markdown",
   "metadata": {},
   "source": [
    "### Task 3.3. The Advantages of a Package\n",
    "\n",
    "<div class=\"alert alert-block alert-danger\">\n",
    "    <b>&#9888; Stop!</b>: There are two problems to the <tt>data.splitlines()</tt> and <tt>row.split(',')</tt> approach! One of them is visible (though not obvious) in the Sheffield example above, the other is not.\n",
    "</div>"
   ]
  },
  {
   "cell_type": "markdown",
   "metadata": {},
   "source": [
    "1. Remember that `10` and `'10'` are _not_ the same thing. To comma-format the population of Sheffield you'll see that I had to do <tt>int(...)</tt> in order to turn `'685368'` into a number. So our approach so far doesn't know anything about the <em>type</em> of data we're working with.\n",
    "2. We are also implicitly _assuming_ that commas can only appear at field boundaries (i.e. that they can only appear to separate one column of data from the next). In other words, just using `split(',')` doesn't work if *any* of the fields can themselves contain a comma!\n",
    "3. There's actually a <em>third</em> potential issue, but it's so rare that we would need to take a completely different approach to deal with it: we are also assuming that newlines (`\\n`) can only appear at record boundaries (i.e. that the can only appear to separate one row of data from the next). In those cases, using `splitlines()` also doesn't work, but this situation is (thankfully) very rare indeed.\n",
    "\n",
    "This is where using code that someone _else_ who is much more interested (and knowledgeable) has written and contributed is helpful: we don't need to think through how to deal with this sort of thing ourselves, we can just find a library that does what we need and make use of _its_ functionality. I've given you the skeleton of the answer below, but you'll need to do a little Googling to find out how to `\"read csv python\"`. \n",
    "\n",
    "**Note:** For now just focus on problem \\#2."
   ]
  },
  {
   "cell_type": "code",
   "execution_count": 329,
   "metadata": {},
   "outputs": [
    {
     "name": "stdout",
     "output_type": "stream",
     "text": [
      "[['City', 'Population', 'Latitude', 'Longitude']]\n",
      "[['City', 'Population', 'Latitude', 'Longitude'], ['Perth', '45770', '56.39583', '-3.43333']]\n",
      "[['City', 'Population', 'Latitude', 'Longitude'], ['Perth', '45770', '56.39583', '-3.43333'], ['Armagh', '14777', '54.3499', '-6.6546']]\n",
      "[['City', 'Population', 'Latitude', 'Longitude'], ['Perth', '45770', '56.39583', '-3.43333'], ['Armagh', '14777', '54.3499', '-6.6546'], ['Dundee', '147268', '56.462', '-2.9707']]\n",
      "[['City', 'Population', 'Latitude', 'Longitude'], ['Perth', '45770', '56.39583', '-3.43333'], ['Armagh', '14777', '54.3499', '-6.6546'], ['Dundee', '147268', '56.462', '-2.9707'], ['Colchester', '194706', '51.88861', '0.90361']]\n",
      "[['City', 'Population', 'Latitude', 'Longitude'], ['Perth', '45770', '56.39583', '-3.43333'], ['Armagh', '14777', '54.3499', '-6.6546'], ['Dundee', '147268', '56.462', '-2.9707'], ['Colchester', '194706', '51.88861', '0.90361'], ['Salisbury', '40302', '51.07', '-1.79']]\n",
      "[['City', 'Population', 'Latitude', 'Longitude'], ['Perth', '45770', '56.39583', '-3.43333'], ['Armagh', '14777', '54.3499', '-6.6546'], ['Dundee', '147268', '56.462', '-2.9707'], ['Colchester', '194706', '51.88861', '0.90361'], ['Salisbury', '40302', '51.07', '-1.79'], ['Portsmouth', '205056', '50.80583', '-1.08722']]\n",
      "[['City', 'Population', 'Latitude', 'Longitude'], ['Perth', '45770', '56.39583', '-3.43333'], ['Armagh', '14777', '54.3499', '-6.6546'], ['Dundee', '147268', '56.462', '-2.9707'], ['Colchester', '194706', '51.88861', '0.90361'], ['Salisbury', '40302', '51.07', '-1.79'], ['Portsmouth', '205056', '50.80583', '-1.08722'], ['Wakefield', '325837', '53.683', '-1.499']]\n",
      "[['City', 'Population', 'Latitude', 'Longitude'], ['Perth', '45770', '56.39583', '-3.43333'], ['Armagh', '14777', '54.3499', '-6.6546'], ['Dundee', '147268', '56.462', '-2.9707'], ['Colchester', '194706', '51.88861', '0.90361'], ['Salisbury', '40302', '51.07', '-1.79'], ['Portsmouth', '205056', '50.80583', '-1.08722'], ['Wakefield', '325837', '53.683', '-1.499'], ['Bradford', '522452', '53.792', '-1.754']]\n",
      "[['City', 'Population', 'Latitude', 'Longitude'], ['Perth', '45770', '56.39583', '-3.43333'], ['Armagh', '14777', '54.3499', '-6.6546'], ['Dundee', '147268', '56.462', '-2.9707'], ['Colchester', '194706', '51.88861', '0.90361'], ['Salisbury', '40302', '51.07', '-1.79'], ['Portsmouth', '205056', '50.80583', '-1.08722'], ['Wakefield', '325837', '53.683', '-1.499'], ['Bradford', '522452', '53.792', '-1.754'], ['Lancaster', '138375', '54.047', '-2.801']]\n",
      "[['City', 'Population', 'Latitude', 'Longitude'], ['Perth', '45770', '56.39583', '-3.43333'], ['Armagh', '14777', '54.3499', '-6.6546'], ['Dundee', '147268', '56.462', '-2.9707'], ['Colchester', '194706', '51.88861', '0.90361'], ['Salisbury', '40302', '51.07', '-1.79'], ['Portsmouth', '205056', '50.80583', '-1.08722'], ['Wakefield', '325837', '53.683', '-1.499'], ['Bradford', '522452', '53.792', '-1.754'], ['Lancaster', '138375', '54.047', '-2.801'], ['Bangor', '18808', '53.228', '-4.128']]\n"
     ]
    }
   ],
   "source": [
    "from urllib.request import urlopen\n",
    "import csv\n",
    "\n",
    "url = 'https://raw.githubusercontent.com/jreades/fsds/master/data/src/Wikipedia-Cities-simple.csv'\n",
    "response = urlopen(url)\n",
    "raw = response.read()\n",
    "\n",
    "# Now take the raw data, decode it, and then\n",
    "# pass it over to the CSV reader function\n",
    "csvfile  = csv.reader(raw.decode('utf-8').splitlines()) \n",
    "urlData = [] # Somewhere to store the data\n",
    "for p in csvfile:              \n",
    "    urlData.append( p )\n",
    "    print(urlData)\n",
    "    #在列表末尾添加新的对象\n",
    "\n",
    "#print(raw.decode('utf-8').splitlines())\n",
    "#print(\"urlData has \" + str(len(urlData)) + \" rows and \" + str(len(urlData[1])) + \" columns.\")\n",
    "#print(urlData[-1]) # Check it worked!\n",
    "#print(urlData[1:])"
   ]
  },
  {
   "cell_type": "markdown",
   "metadata": {},
   "source": [
    "If it worked, then you should have this output:\n",
    "```python\n",
    "'urlData has 11 rows and 4 columns.'\n",
    "['Bangor', '18808', '53.228', '-4.128']\n",
    "```\n",
    "To you that might look a lot _worse_ that the data that you originally had, but to a computer that list-of-lists is something it can work with; check it out:"
   ]
  },
  {
   "cell_type": "code",
   "execution_count": null,
   "metadata": {},
   "outputs": [],
   "source": [
    "for u in urlData[1:]:  #因为第0是列标题 ,所以从1开始取每一行   For each row in the first 15 items in list\n",
    "    print(f\"The city of '{u[0]}' has a population of {int(u[1]):,}\") # Print out the name and pop\n",
    "    "
   ]
  },
  {
   "cell_type": "markdown",
   "metadata": {},
   "source": [
    "<div class=\"alert alert-block alert-warning\">\n",
    "    <b>&#9888; Important</b>: Why did I use <tt>urlData[1:]</tt> instead of <tt>urlData</tt>?\n",
    "</div>"
   ]
  },
  {
   "cell_type": "markdown",
   "metadata": {},
   "source": [
    "If you print `urlData[0]` you'll see that this is the 'header' row that tells us what each column contains! So if we try to convert the column name to an integer (`int(u[1])`) we will get an error!"
   ]
  },
  {
   "cell_type": "markdown",
   "metadata": {},
   "source": [
    "The advantage of using the `csv` library over plain old `string.split` is that the csv library knows how to deal with fields that contain commas (_e.g._ `\"Cardfiff, Caerdydd\"` or `\"An Amazing 4 Bedroom Home, Central London, Sleeps 12\"`) and so is much more flexible and consistent that our naive `split` approach. The vast majority of _common_ tasks (reading certain types of files, getting remote files, etc.) have libraries that do exactly what you want without you needing to write much code yourself to take advantage of it. You should always have a look around online to see if a library exists before thinking that you need to write everything/anything from scratch. The tricky part is knowing what words to use for your search and how to read the answers that you find...\n",
    "\n",
    "Let's try this with a 'bigger' data set... In an ideal world, the 'power' of code is that once we've solved the problem *once*, we've solved it more generally as well. So let's try with the 'scaled-up' data set and see waht happens!"
   ]
  },
  {
   "cell_type": "code",
   "execution_count": null,
   "metadata": {},
   "outputs": [],
   "source": [
    "from urllib.request import urlopen\n",
    "import csv\n",
    "\n",
    "url = \"https://raw.githubusercontent.com/jreades/fsds/master/data/src/Wikipedia-Cities.csv\"\n",
    "response = urlopen(url)\n",
    "raw = response.read()\n",
    "\n",
    "csvfile = csv.reader(raw.decode('utf-8').splitlines())\n",
    "\n",
    "urlData = [] # Somewhere to store the data\n",
    "\n",
    "for row in csvfile:              \n",
    "    urlData.append( row )\n",
    "\n",
    "print(f\"urlData has {len(urlData)} rows and {len(urlData[0])} columns.\")\n",
    "\n",
    "for u in urlData[63:]:                             # For each row in the list\n",
    "    print(f\"The city of '{u[0]}' has a population of {u[3]}\") # Print out the name and pop"
   ]
  },
  {
   "cell_type": "markdown",
   "metadata": {},
   "source": [
    "<div class=\"alert alert-block alert-warning\">\n",
    "    <b>&#9888; Important</b>: What mistake have I made here?\n",
    "</div>"
   ]
  },
  {
   "cell_type": "markdown",
   "metadata": {},
   "source": [
    "I have assumed that, just because the files have similar names, they must also have similar layouts!"
   ]
  },
  {
   "cell_type": "code",
   "execution_count": null,
   "metadata": {},
   "outputs": [],
   "source": [
    "print(f\"The URL's data labels are: {','.join(urlData[0])}\")\n",
    "print(f\"The URL's data labels are: {urlData[0]}\")"
   ]
  },
  {
   "cell_type": "markdown",
   "metadata": {},
   "source": [
    "### Task 3.4. Insight!\n",
    "\n",
    "So, although the code was basically the same for both of these files (good), we would need to change quite a bit in order to print out the _same_ information from different versions of the _same data_. So our code is rather **brittle**.\n",
    "\n",
    "One of the issues is that our _instincts_ about how to manage data doesn't align with how the computer can most _efficiently_ manage it. We make the mistake of thinking that the computer needs to do things that same way that we do when reading text and so assume that we need to:\n",
    "\n",
    "1. Represent the rows as a list.\n",
    "2. Represent the columns as a list for each row.\n",
    "\n",
    "This thinking suggests that the 'right' data structure would clearly be a list-of-lists (LoLs!), but if you understand what happened here then the next section will make a _lot_ more sense!"
   ]
  },
  {
   "cell_type": "markdown",
   "metadata": {},
   "source": [
    "## Task 4. Why 'Obvious' is Not Always 'Right'\n",
    "\n",
    "<div class=\"alert alert-block alert-danger\"><b>Difficulty level</b>: Hard.</div>\n",
    "\n",
    "But you need to be careful assuming that, just because something is hard for you to read, it's also hard for a computer to read! The way a computer 'thinks' and the way that we think doesn't always line up naturally. Experienced programmers can think their way _around_ a problem by working _with_ the computer, rather than against it.\n",
    "\n",
    "Some issues to consider:\n",
    "\n",
    "- Is the first row of data _actually_ data, or is it _about_ data?\n",
    "- Do we really care about column _order_, or do we just care about being able to pick the _correct_ column?\n",
    "\n",
    "Let's apply this approach to the parsing of our data..."
   ]
  },
  {
   "cell_type": "markdown",
   "metadata": {},
   "source": [
    "### Task 4.1. Understanding What's an 'Appropriate' Data Structure\n",
    "\n",
    "If you stop to think about it, then our list-of-lists approach to the data isn't very easy to navigate. Notice that if the position or name of a column changes then we need to change our program _every_ time we re-run it! It's not very easy to read *either* since we don't really know what `u[5]` is supposed to be. That way lies all kinds of potential errors!\n",
    "\n",
    "Also consider that, in order to calculate out even a simple aggregate such as the `sum` of a field for all rows we need to step through a lot of irrelevant data as well: we have to write a `for` loop and then step through each row with an 'accumulator' (somewhere to store the total). That's slow. \n",
    "\n",
    "That doesn't make much sense since this should all be _easier_ and _faster_ in Python than in Excel, but right now it's _harder_, and quite possibly _slower_ as well! So how does the experienced programmer get around this? 'Simple' (i.e. neither simple, nor obvious, until you know the answer): she realises that the data is organised the wrong way! We humans tend to think in rows of data: this apartment has the following _attributes_ (price, location, etc.), or that city has the following _attributes_ (population, location). We read across the row because that's the easiest way for *us* to think about it. But, in short, a list-of-lists does _not_ seem to be the right way to store this data!\n",
    "\n",
    "Crucially, a computer doesn't have to work that way. For a computer, it's as easy to read _down_ a column as it is to read _across_ a row. **In fact, it's easier**, because each column has the same _type_ of data: one column contains names (strings), another column contains prices (integers), and other columns contain other types of data (floats, etc.). Better still, the order of the columns often doesn't matter as long as we know what the columns are called: it's easier to ask for the 'description column' than it is to ask for the 6th column since, for all we know, the description column might be in a different place for different files but they are all (relatively) likely to use the 'description' label for the column itself.\n",
    "\n",
    "#### 4.1.1 A Dictionary of Lists to the Rescue\n",
    "\n",
    "So, if we don't care about column order, only row order, then a dictionary of lists would be a nice way to handle things. And why should we care about column order? With our CSV files above we already saw what a pain it was to fix things when the layout of the columns changed from one data set to the next. If, instead, we can just reference the 'description' column then it doesn't matter where that column actually is. Why is that? \n",
    "\n",
    "Well, here are the first four rows of data from a list-of-lists for city sizes:\n",
    "\n",
    "```python\n",
    "['id', 'Name', 'Rank', 'Longitude', 'Latitude', 'Population'], \n",
    "['1', 'Greater London', '1', '-18162.92767', '6711153.709', '9787426'], \n",
    "['2', 'Greater Manchester', '2', '-251761.802', '7073067.458', '2553379'], \n",
    "['3', 'West Midlands', '3', '-210635.2396', '6878950.083', '2440986']\n",
    "```\n",
    "\n",
    "Now, here's how it would look as a dictionary of lists organised by _column_, and _not_ by row:\n",
    "\n",
    "```python\n",
    "myData = {\n",
    "    'id'         : [1, 2, 3],\n",
    "    'Name'       : ['London', 'Manchester', 'West Midlands'],\n",
    "    'Rank'       : [1, 2, 3],\n",
    "    'Longitude'  : [-18162.92767, -251761.802, -210635.2396],\n",
    "    'Latitude'   : [6711153.709, 7073067.458, 6878950.083],\n",
    "    'Population' : [9787426, 2553379, 2440986],\n",
    "}\n",
    "\n",
    "```\n",
    "\n",
    "What does this do better? Well, for starters, we know that everything in the 'Name' column will be a string, and that everything in the 'Longitude' column is a float, while the 'Population' column contains integers. So that's made life easier already. But let's test this out and see how it works."
   ]
  },
  {
   "cell_type": "markdown",
   "metadata": {},
   "source": [
    "Let's apply what we've just learned above. This next section is the _really_ crucial bit. This is going to take time to make sense, but if it does then 🤯!"
   ]
  },
  {
   "cell_type": "code",
   "execution_count": 284,
   "metadata": {},
   "outputs": [
    {
     "name": "stdout",
     "output_type": "stream",
     "text": [
      "['London', 'Manchester', 'Birmingham', 'Edinburgh', 'Inverness', 'Lerwick']\n",
      "[9787426, 2705000, 1141816, 901455, 70000, 6958]\n"
     ]
    }
   ],
   "source": [
    "myData = {\n",
    "    'id'         : [0, 1, 2, 3, 4, 5],\n",
    "    'Name'       : ['London', 'Manchester', 'Birmingham','Edinburgh','Inverness','Lerwick'],\n",
    "    'Rank'       : [1, 2, 3, 4, 5, 6],\n",
    "    'Longitude'  : [-0.128, -2.245, -1.903, -3.189, -4.223, -1.145],\n",
    "    'Latitude'   : [51.507, 53.479, 52.480, 55.953, 57.478, 60.155],\n",
    "    'Population' : [9787426, 2705000, 1141816, 901455, 70000, 6958],\n",
    "}\n",
    "\n",
    "print(myData['Name'])\n",
    "print(myData['Population'])"
   ]
  },
  {
   "cell_type": "markdown",
   "metadata": {},
   "source": [
    "#### 4.1.2 Behold the Power of the DoL\n",
    "\n",
    "Now let's look at what you can do with this... but first we need to import one _more_ package that you're going to see a _lot_ over the rest of term: `numpy` (Numerical Python), which is used _so_ much that most people simply refer to it as `np`. This is a _huge_ package in terms of features, but right now we're interested only in the basic arithmatic functions: `mean`, `max`, and `min`."
   ]
  },
  {
   "cell_type": "code",
   "execution_count": 292,
   "metadata": {},
   "outputs": [
    {
     "name": "stdout",
     "output_type": "stream",
     "text": [
      "Manchester's latitude is 53.479\n",
      "The easternmost city is: London\n",
      "The town of Lerwick can be found at 1.145ºW, 60.155ºN\n",
      "The mean population is: 2435442.5\n"
     ]
    }
   ],
   "source": [
    "import numpy as np\n",
    "\n",
    "# Find the latitude of Manchester.\n",
    "lat = myData[\"Latitude\"][ myData['Name'].index(\"Manchester\") ]#从纬度列里寻找第[取在城市名中叫曼彻斯特的下标是多少]个,返回值到lat\n",
    "print(f\"Manchester's latitude is {lat}\") # Notice how 'f-strings' work!\n",
    "\n",
    "# Find the easternmost city\n",
    "city = myData['Name'][ myData['Longitude'].index( np.max(myData['Longitude']) ) ]#在城市名列里寻找第[取最大的经度,再取该经度的下标是多少]个,返回值到city\n",
    "print(f\"The easternmost city is: {city}\")\n",
    "\n",
    "# Print the location of Lerwick\n",
    "city = \"Lerwick\"\n",
    "print(f\"The town of {city} can be found at \" + \n",
    "      f\"{abs(myData['Longitude'][myData['Name'].index(city)])}ºW, {myData['Latitude'][myData['Name'].index(city)]}ºN\")#使用index函数取该城市的下标 ,并赋值到经纬度中以返回经纬度值\n",
    "\n",
    "# Find the mean population of the cities\n",
    "# using a handy package called numpy\n",
    "mean = np.mean(myData['Population'])\n",
    "print(f\"The mean population is: {mean}\")"
   ]
  },
  {
   "cell_type": "markdown",
   "metadata": {},
   "source": [
    "<div class=\"alert alert-block alert-warning\">\n",
    "    <b>&#9888; Stop!</b>: Look closely at what is going on. There's a _lot_ of content to process in the code above, so do _not_ rush blindly on if this is confusing. Try pulling it apart into pieces and then reassemble it. Start with the bits that you understand and then <i>add</i> complexity.</div>\n",
    "\n",
    "We'll go through each one in turn, but they nearly all work in the same way and the really key thing is that you'll notice that we no longer have any loops (which are slow) just `index` or `np.<function>` (which is _very_ fast). "
   ]
  },
  {
   "cell_type": "markdown",
   "metadata": {},
   "source": [
    "#### 4.1.3 The Population of Manchester\n",
    "\n",
    "The code can look pretty daunting, so let's break it down into two parts. What would you get if you ran just this code?\n",
    "```python\n",
    "myData['Population'][1]\n",
    "```\n",
    "Remember that this is a dictionary-of-lists (DoL). So, Python first looks for a key named `Population` in the myData dictionary. It finds out that the value associated with this key is a _list_ (`[9787426, 2553379, 2440986]`). In this example, it just pulls out the first value (index 1), which is `2553379`. Does **that part** make sense?\n",
    "\n",
    "---\n",
    "\n",
    "Now, to the second part:\n",
    "```python\n",
    "myData['Name'].index('Manchester')\n",
    "```\n",
    "\n",
    "Here we look in the dictionary for the key `Name` and find that that's _also_ a list (`['London','Manchester','West Midlands']`). All we're doing here is ask Python to find the index of 'Manchester' for us in that list. And `myData['Name'].index('Manchester')` gives us back a `1`, so _instead_ of just writing in a `1` to `myData['Population'][1]` we can replace it with `myData['Name'].index('Manchester')`! Notice the complete _absence_ of a for loop?\n",
    "\n",
    "Does that make sense? If it does then you should be having a kind of an &#129327; moment because what we've done by taking a column view, rather than a row view, is to make Python's `index()` command do the work for us. Instead of having to look through each row for a field that matches 'Name' and then check to see if it's 'Manchester', we've pointed Python at the right column immediately and asked it to find the match (which it can do very quickly). Once we have a match then we _also_ have the row number to go and do the lookup in the 'Population' column because the index _is_ the row number!"
   ]
  },
  {
   "cell_type": "markdown",
   "metadata": {},
   "source": [
    "#### 4.1.4 The Easternmost City\n",
    "\n",
    "Where this approach really comes into its own is on problems that involve maths. To figure out the easternmost city in this list we need to find the _maximum_ Longitude and then use _that_ value to look up the city name. So let's do the same process of pulling this apart into two steps. Let start with the easier bit:\n",
    "```python\n",
    "myData['Name'][0]\n",
    "```\n",
    "That would give us the name of a city, but we don't just want the first city in the list, we want the one with the maximum longitude. To achieve _that_ we need to somehow replace the `0` with the _**index of the maximum longitude**_. Let's break this down further: \n",
    "1. We first need to _find_ the maximum longitude.\n",
    "2. We then need to _find_ the **index** of that maximum longitude.\n",
    "\n",
    "So Step 1 would be:\n",
    "```python\n",
    "max_lon = max(myData['Longitude'])\n",
    "```\n",
    "Because the `max(...)` helps us to find the maximum longitude in the Longitude list. Now that we have that we can proceed to Step 2:\n",
    "```\n",
    "myData['Longitude'].index(max_lon)\n",
    "```\n",
    "So now we ask Python to find the position of `max_lon` in the list. But rather than doing this in two steps we can combine into one if we write it down to make it easier to read:\n",
    "\n",
    "```python\n",
    "myData['Longitude'].index(\n",
    "    max(myData['Longitude'])\n",
    ")\n",
    "```\n",
    "There's the same `.index` which tells us that Python is going to look for something in the list associated with the `Longitude` key. All we've done is change what's _inside_ that index function to `max(myData['Longitude'])`. This is telling Python to find the _maximum_ value in the `myData['Longitude']` list. So to explain this in three steps, what we're doing is:\n",
    "* Finding the maximum value in the Longitude column (we know there must be one, but we don't know what it is!),\n",
    "* Finding the index (position) of that maximum value in the Longitude column (now that we know what the value is!),\n",
    "* Using that index to read a value out of the Name column.\n",
    "\n",
    "I _am_ a geek, but that's pretty cool, right? In one line of code we managed to quickly find out where the data we needed was even though it involved three discrete steps. Think about how much work you'd have to do if you were still thinking in _rows_, not _columns_!"
   ]
  },
  {
   "cell_type": "markdown",
   "metadata": {},
   "source": [
    "## 2## 2## 4.1.5 The Location of Lerwick\n",
    "\n",
    "Lerwick is a small town in [\n",
    "Shetlands](https://www.shetland.org/), way up to the North of mainland U.K. and somewhere I've wanted to go ever since I got back from [Orkney](https://www.orkney.com/)--but then I spent my honeymoon in the far North of [Iceland](https://www.westfjords.is/), so perhaps I just don't like being around lots of people... 🙃\n",
    "\n",
    "Anyway, this one _might_ be a tiny bit easier conceptually than the other problems, except that I've deliberately used a slightly different way of showing the output that might be confusing:\n",
    "```python\n",
    "# Print the location of Lerwick\n",
    "city = \"Lerwick\"\n",
    "print(f\"The town of {city} can be found at \" + \n",
    "      f\"{abs(myData['Longitude'][myData['Name'].index(city)])}ºW, {myData['Latitude'][myData['Name'].index(city)]}ºN\")\n",
    "\n",
    "```\n",
    "The first thing to do is to pull apart the `print` statement: you can see that this is actually just two 'f-strings' joined by a `+`--having that at the end of the line tells Python that it should carry on to the next line. That's a handy way to make your code a little easier to read. If you're creating a list and it's getting a little long, then you can also continue a line using a `,` as well!\n",
    "\n",
    "1. The first f-string\n",
    "The first string will help you to make sense of the second: f-strings allow you to 'interpolate' a variable into a string directly rather than having to have lots of `str(x) + \" some text \" + str(y)`. You can write `f\"{x} some text {y}\"` and Python will automatically convert the variables `x` and `y` to strings and replace `{x}` with the _value of `x`_ and `{y}` with the _value of `y`_. \n",
    "\n",
    "So here `f\"The town of {city} can be found at \"` becomes `f\"The town of Lerwick can be found at \"` because `{city}` is replaced by the value of the variable `city`. This makes for code that is easier for humans to read and so I'd consider that a good thing.\n",
    "\n",
    "2. The second f-string\n",
    "This one is hard because there's just a _lot_ of code there. But, again, if we start with what we recognise that it gets just a little bit more manageable... Also, it stands to reason that the only difference between the two outputs is that one asks for the 'Longitude' and the other for the 'Latitude'. So if you can make sense of one you have _automatically_ made sense of the other and don't need to work it all out.\n",
    "\n",
    "Let's start with a part that you might recognise:\n",
    "```python\n",
    "myData['Name'].index(city)\n",
    "```\n",
    "You've _got_ this. This is just asking Python to work out the index of Lerwick (because `city = 'Lerwick'`). So it's a number. 5 in this case. And we can then think, 'OK so what does this return:\n",
    "```python \n",
    "myData['Longitude'][5]\n",
    "```\n",
    "And the answer is `-1.145`. That's the Longitude of Lerwick! There's just _one_ last thing: notice that we're talking about degrees West here. So the answer isn't a negative (because negative West degrees would be _East_!), it's the _absolute_ value. And that is the final piece of the puzzle: `abs(...)` gives us the absolute value of a number!"
   ]
  },
  {
   "cell_type": "code",
   "execution_count": null,
   "metadata": {},
   "outputs": [],
   "source": [
    "?abs"
   ]
  },
  {
   "cell_type": "markdown",
   "metadata": {},
   "source": [
    "Population#### 4.1.6 The Average City Size\n",
    "\n",
    "Here we're going to 'cheat' a little bit: rather than writing our own function, we're going to import a package and use someone _else's_ function. The `numpy` package contains a _lot_ of useful functions that we can call on (if you don't believe me, add \"`dir(np)`\" on a new line after the `import` statement), and one of them calculates the average of a list or array of data.\n",
    "```python\n",
    "import numpy as np\n",
    "mean = np.mean(myData['Population'])\n",
    "```\n",
    "This is where our new approach really comes into its own: because all of the population data is in one place (a.k.a. a _series_ or column), we can just throw the whole list into the `np.mean` function rather than having to use all of those convoluted loops and counters. Simples, right? \n",
    "\n",
    "No, not _simple_ at all, but we've come up with a way to _make_ it simple."
   ]
  },
  {
   "cell_type": "markdown",
   "metadata": {},
   "source": [
    "#### 4.1.7 Recap!\n",
    "\n",
    "So the _really_ clever bit in all of this isn't switching from a list-of-lists to a dictionary-of-lists, it's recognising that the dictionary-of-lists is a _better_ way to work _with_ the data that we're trying to analyse and that that there are useful functions that we can exploit to do the heavy lifting for us. Simply by changing the way that we stored the data in a 'data structure' (i.e. complex arrangement of lists, dictionaries, and variables) we were able to do away with lots of for loops and counters and conditions, and reduce many difficult operations to something that could be done on one line! "
   ]
  },
  {
   "cell_type": "markdown",
   "metadata": {
    "tags": []
   },
   "source": [
    "### Task 4.2 Brain Teaser\n",
    "\n",
    "<div class=\"alert alert-block alert-danger\"><b>Difficulty level</b>: &#129327;.</div>\n",
    "\n",
    "Why not have a stab at writing the code to print out the _4th most populous_ city? This can _still_ be done on one line, though you might want to start by breaking the problem down:\n",
    "1. How do I find the _4th_ largest value in a list?\n",
    "2. How do I find the _index_ of the 4th largest value in a list?\n",
    "3. How do I use that to look up the name associated with that index?\n",
    "\n",
    "You've already done \\#2 and \\#3 above so you've _solved_ that problem. If you can solve \\#1 then the rest should fall into place.\n",
    "\n",
    "<div class=\"alert alert-block alert-success\">\n",
    "    <b>&#128161; Hint</b>: you don't want to use <tt>&lt;list&gt;.sort()</tt> because that will sort your data <i>in place</i> and break the link between the indexes across the 'columns'; you want to research the function <tt>sorted(&lt;list&gt;)</tt> where <tt>&lt;list&gt;</tt> is the variable that holds your data and `sorted(...)` just returns whatever you pass it in a sorted order <i>without</i> changing the original list. You'll see why this matters if you get the answer... otherwise, wait a few days for the answers to post.</div>"
   ]
  },
  {
   "cell_type": "code",
   "execution_count": 1,
   "metadata": {},
   "outputs": [
    {
     "ename": "NameError",
     "evalue": "name 'myData' is not defined",
     "output_type": "error",
     "traceback": [
      "\u001b[0;31m---------------------------------------------------------------------------\u001b[0m",
      "\u001b[0;31mNameError\u001b[0m                                 Traceback (most recent call last)",
      "Input \u001b[0;32mIn [1]\u001b[0m, in \u001b[0;36m<cell line: 2>\u001b[0;34m()\u001b[0m\n\u001b[1;32m      1\u001b[0m \u001b[38;5;66;03m# Print out the name of the 4th most populous city-region\u001b[39;00m\n\u001b[0;32m----> 2\u001b[0m city \u001b[38;5;241m=\u001b[39m \u001b[43mmyData\u001b[49m[\u001b[38;5;124m\"\u001b[39m\u001b[38;5;124mName\u001b[39m\u001b[38;5;124m\"\u001b[39m][myData[\u001b[38;5;124m\"\u001b[39m\u001b[38;5;124mPopulation\u001b[39m\u001b[38;5;124m\"\u001b[39m]\u001b[38;5;241m.\u001b[39mindex(\u001b[38;5;28msorted\u001b[39m(myData[\u001b[38;5;124m\"\u001b[39m\u001b[38;5;124mPopulation\u001b[39m\u001b[38;5;124m\"\u001b[39m],reverse \u001b[38;5;241m=\u001b[39m \u001b[38;5;28;01mTrue\u001b[39;00m)[\u001b[38;5;241m3\u001b[39m])]\n\u001b[1;32m      3\u001b[0m \u001b[38;5;28mprint\u001b[39m(\u001b[38;5;124m\"\u001b[39m\u001b[38;5;124mThe fourth most populous city is: \u001b[39m\u001b[38;5;124m\"\u001b[39m \u001b[38;5;241m+\u001b[39m \u001b[38;5;28mstr\u001b[39m(city))\n",
      "\u001b[0;31mNameError\u001b[0m: name 'myData' is not defined"
     ]
    }
   ],
   "source": [
    "# Print out the name of the 4th most populous city-region\n",
    "city = myData[\"Name\"][myData[\"Population\"].index(sorted(myData[\"Population\"],reverse = True)[3])]\n",
    "print(\"The fourth most populous city is: \" + str(city))"
   ]
  },
  {
   "cell_type": "markdown",
   "metadata": {},
   "source": [
    "The answer is Edinburgh."
   ]
  },
  {
   "cell_type": "markdown",
   "metadata": {},
   "source": [
    "## Bringing it all together...\n",
    "\n",
    "Conceptually, this is one of the hardest practicals in the entire term because it joins up so many of the seemingly simple ideas that you covered in Code Camp into a very complex 'stew' -- all our basic ingredients (lists, dictionaries, etc.) have simmered for a bit, been stirred up together, and become something entirely new and more complex.\n",
    "\n",
    "So if this practical doesn't make sense to you on the _first_ runthrough, I'd suggest going back through the second half of the practical _again_ in a couple of days' time -- that will give your brain a little time to wrap itself around the basics before you throw the hard stuff at it again. _Don't_ panic if it doesn't all make sense on the _second_ runthrough either -- this is like a language, you need to practice! With luck, the second time you went through this code a little bit _more_ made sense. If you need to do it a third time you'll find that even _more_ makes sense... and so on. "
   ]
  }
 ],
 "metadata": {
  "anaconda-cloud": {},
  "kernelspec": {
   "display_name": "Python 3 (ipykernel)",
   "language": "python",
   "name": "python3"
  },
  "language_info": {
   "codemirror_mode": {
    "name": "ipython",
    "version": 3
   },
   "file_extension": ".py",
   "mimetype": "text/x-python",
   "name": "python",
   "nbconvert_exporter": "python",
   "pygments_lexer": "ipython3",
   "version": "3.10.5"
  }
 },
 "nbformat": 4,
 "nbformat_minor": 4
}
