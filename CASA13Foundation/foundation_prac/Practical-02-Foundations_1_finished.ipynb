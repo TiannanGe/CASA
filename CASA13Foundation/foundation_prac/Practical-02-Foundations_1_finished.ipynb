{
 "cells": [
  {
   "cell_type": "markdown",
   "metadata": {},
   "source": [
    "<div style=\"float:left\">\n",
    "    <h1 style=\"width:450px\">Practical 2: Foundations (Part 1)</h1>\n",
    "    <h2 style=\"width:450px\">Getting to grips with the 'Basics'</h2>\n",
    "</div>\n",
    "<div style=\"float:right\"><img width=\"100\" src=\"https://jreades.github.io/fsds/img/casa_logo.jpg\" /></div>"
   ]
  },
  {
   "cell_type": "markdown",
   "metadata": {},
   "source": [
    "<div  class=\"alert alert-block alert-danger\">\n",
    "    <b>&#9888; Remember</b>: save your work regularly, or prepare to be disappointed. This will be my only reminder about this!\n",
    "</div>"
   ]
  },
  {
   "cell_type": "markdown",
   "metadata": {},
   "source": [
    "\n",
    "## Changes before 22/23\n",
    "- [ ] Clearer articulation of difficulty levels/targets for components *within* each week's practicals.\n"
   ]
  },
  {
   "cell_type": "markdown",
   "metadata": {},
   "source": [
    "## Task 1: Setting Up\n",
    "\n",
    "### 1.1 Connect to Jupyter Lab\n",
    "\n",
    "You'll know that you're connected to Jupyter Lab when you see something like this:\n",
    "\n",
    "<img alt=\"Screenshot of Jupyter Lab\" src=\"https://github.com/jreades/fsds/raw/master/practicals/img/1.8-Jupyter_Lab.png\" style=\"height:300px\" />\n",
    "\n",
    "If you can already see this 'User Interface' (UI) on [localhost:8888](http://localhost:8888/lab/) then you're connected and can go to Task 2. \n",
    "\n",
    "#### 1.1.1 Using Docker \n",
    "\n",
    "If Docker is not running the `sds2022` container then you will need to start the container using the jreades/sds:2022 image [as detailed on this page](https://jreades.github.io/sds_env/setup/env.html#docker).\n",
    "\n",
    "<div class=\"alert alert-block alert-warning\">\n",
    "    <p><b>&#9888; Windows Users</b>: You are likely to have <i>better</i> luck connecting the <tt>sds2022</tt> virtual machine to your home directory if you do this:</p> \n",
    "    <ol>\n",
    "        <li>Start the Windows Command Prompt (<tt>cmd</tt>) from the search bar;</li>\n",
    "        <li>Type <tt>bash</tt> and hit enter to use the Bash shell;</li>\n",
    "        <li>Now run the <tt>docker run ...</tt> command.</li>\n",
    "    </ol>\n",
    "</div>\n",
    "\n",
    "#### 1.1.2 On Anaconda Python\n",
    "\n",
    "If you are using Anaconda Python directly (not recommended, but ok for the first couple of weeks), then you will need to start Jupyter Lab yourself by launching either the Terminal (Mac) or Anaconda Prompt (Windows) and running:\n",
    "\n",
    "```bash\n",
    "bash\n",
    "cd $HOME/Documents/CASA/\n",
    "jupyter lab\n",
    "```"
   ]
  },
  {
   "cell_type": "markdown",
   "metadata": {
    "tags": []
   },
   "source": [
    "### 1.2 Getting the Notebook\n",
    "\n",
    "#### 1.2.1 Downloading from GitHub\n",
    "\n",
    "On the [Week 2 of FSDS page](https://jreades.github.io/fsds/sessions/week2.html#practical) you'll see that there is a 'preview' link and a a 'download' link in the [Practical section](https://jreades.github.io/fsds/sessions/week2.html#practical). If you click the preview link you will be taken to the GitHub page for the notebook where it has been 'rendered' as a web page by GitHub. But to make the notebook useable on *your* computer, you need to download the RAW notebook content.\n",
    "\n",
    "So now:\n",
    "\n",
    "1. Click on the `Download the Notebook` link.\n",
    "2. When you see a page of raw code, select `File` then `Save Page As...`.\n",
    "3. Save the file somewhere easy to find (e.g. Downloads or Desktop). \n",
    "4. Notice that *most* browsers will save the file as `Practical-02-Foundations_1.ipynb.txt`; they have *added* `.txt` to the file name without asking. You will need to correct this by *either*: 1) changing the name in the command line using `mv <name_of_practical>.ipynb.txt <name_of_practical>.ipynb` (you can even do this in Jupyter Lab after doing Task **1.2.2**); or 2) renaming the file using the Finder (Mac) or Windows Explorer.\n",
    "\n",
    "#### 1.2.2 Making the Notebook Available to Jupyter Lab\n",
    "\n",
    "You now need to place the notebook where Jupyter Lab can access it. There is only _one_ place that you can do this, and that is where you ran the `docker run ...` command which **mounted** the current working directory to the `work` directory on the `sds2022` container. Remember that the startup command is something like:\n",
    "\n",
    "```shell\n",
    "docker run ... --name sds2022 -v \"$(pwd):/home/jovyan/work\" ... jreades/sds:2022 ...\n",
    "```\n",
    "\n",
    "The `-v` (short for *volume*) tells Docker what part of _your_ computer (`$(pwd)`) to connect to container (`/home/jovyan/work`). `pwd` is short-hand for 'working directory' and is the location where you ran the Docker startup command! So we're talking about the location on _your_ computer when you access the `work` folder from within Docker/Jupyter Lab:\n",
    "\n",
    "- On a Mac it will most likely be your `$HOME` directory (e.g. `/Users/your_username/`).\n",
    "- On a Windows machine it _may_ be your `$HOME` directory but we can't promise. See the steps above for trying to ensure this is where you end up.\n",
    "\n",
    "Perhaps a video will help clarify?\n",
    "\n",
    "<div style=\"width:500px\">\n",
    "    <a href=\"https://www.youtube.com/embed/5IkwUrYTY78\">\n",
    "        <img style=\"width:500px\" alt=\"Docker and You\" src=\"./img/Docker_and_You.png\" />\n",
    "    </a>\n",
    "</div>"
   ]
  },
  {
   "cell_type": "markdown",
   "metadata": {},
   "source": [
    "#### 1.2.3 Staring the Notebook\n",
    "\n",
    "From _within Jupyter Lab_ you should now be able to start the notebook:\n",
    "\n",
    "1. Make sure Jupyter Lab is showing (&#128193;`/work/`) in the left-hand menu.\n",
    "2. Navigate to the location that you saved `Practical-02-Foundations_1.ipynb`.\n",
    "3. Double-click the file and you should see the notebook appear on the right-hand side.\n",
    "\n",
    "Now you can run code directly in your browser, so let's try it!"
   ]
  },
  {
   "cell_type": "markdown",
   "metadata": {},
   "source": [
    "## Task 2: Hello World!\n",
    "\n",
    "Nearly every introduction to programming course starts with the famous 'Hello World!', so why do anything different? Try clicking on the right-triangle (&#9654;) in the tab area above (between the clipboard &#128203; for copying and the &#9632; for stopping running code):"
   ]
  },
  {
   "cell_type": "code",
   "execution_count": 10,
   "metadata": {},
   "outputs": [
    {
     "name": "stdout",
     "output_type": "stream",
     "text": [
      "Hello World!\n"
     ]
    }
   ],
   "source": [
    "print('Hello World!')"
   ]
  },
  {
   "cell_type": "markdown",
   "metadata": {},
   "source": [
    "Hopefully, the following has appeared directly below the code:\n",
    "```bash\n",
    "Hello World!\n",
    "```"
   ]
  },
  {
   "cell_type": "markdown",
   "metadata": {},
   "source": [
    "<div class=\"alert alert-block alert-success\">\n",
    "     <b>&#9888; Tip</b>: You can always click the &#9654; icon above, but it will be much <em>faster</em> to get into the habit of type <tt>Ctrl</tt>+<tt>Enter</tt> instead when you have placed your cursor in a code cell. This is also how to turn a Markdown cell back into display text.\n",
    "     </div>"
   ]
  },
  {
   "cell_type": "markdown",
   "metadata": {
    "geopyter": {
     "Contributors": "James Millington (james.millington@kcl.ac.uk)",
     "git": {
      "active_branch": "master",
      "author.name": "Jon Reades",
      "authored_date": "2017-08-17 19:06:58",
      "committed_date": "2017-08-17 19:06:58",
      "committer.name": "Jon Reades",
      "sha": "5e3b396ae18a982d693c4bfd86c721c7e1e21051"
     }
    }
   },
   "source": [
    "## Task 3: Python Variables"
   ]
  },
  {
   "cell_type": "markdown",
   "metadata": {},
   "source": [
    "### 3.1 Variables Names\n",
    "\n",
    "<div class=\"alert alert-block alert-warning\">\n",
    "    <b>&#9888; Note</b>: Pay attention to the <i>colour</i> of the code, while it might be subtle (a single character in a different colour), it is giving you clues as to where problems might be found because it means the Python 'interpreter' is reading what you wrote differently from how you <i>probably<i> meant it...\n",
    "</div>\n",
    "    \n",
    "_Some_ of the lines of code below are valid Python, but others _may_ have a problem that will cause Python to generate an error. Each error can be fixed by changing _one_ character. See if you can work out which ones you need to fix **before running the code**:"
   ]
  },
  {
   "cell_type": "code",
   "execution_count": 2,
   "metadata": {},
   "outputs": [],
   "source": [
    "Pi = 3.14159      # Valid Python\n",
    "pi = 3.14159      # ??\n",
    "pi = 3.14159*3    # Variables cannot start with a number\n",
    "pi_2 = 3.14159**2 # ??\n",
    "pi_2 = 3.14159**2 # Square symbols are not allowed in variables\n",
    "My_radius = 5     # variables No spaces\n",
    "My_Radius = 5     # ??\n",
    "cla = 5         # ??\"class\"Cannot be used as a private variable name"
   ]
  },
  {
   "cell_type": "markdown",
   "metadata": {},
   "source": [
    "### 3.2 Variable Types\n",
    "\n",
    "**Before running the code** below, work out what the output will be for _each_ of the `print` commands below when the code is executed. Write them as comments on the same line as the code (after the `#`, see example)."
   ]
  },
  {
   "cell_type": "code",
   "execution_count": 3,
   "metadata": {},
   "outputs": [
    {
     "name": "stdout",
     "output_type": "stream",
     "text": [
      "4\n",
      "22\n",
      "22\n",
      "16\n",
      "0.5\n",
      "<class 'str'>\n",
      "<class 'int'>\n",
      "<class 'int'>\n",
      "<class 'float'>\n"
     ]
    }
   ],
   "source": [
    "x = '2'\n",
    "y = z = 2\n",
    "\n",
    "print(y * z)    # 4\n",
    "print(x * y)    # 22\n",
    "print(x + x)    # 22\n",
    "print((y+z)**z) # 16\n",
    "print(y/(y+z))  # 0.5\n",
    "\n",
    "print( type(x * y) )    # str\n",
    "print( type(y * z) )    # int\n",
    "print( type((y+z)**z) ) # int\n",
    "print( type(y/(y+z)) )  # float"
   ]
  },
  {
   "cell_type": "markdown",
   "metadata": {
    "geopyter": {
     "Contributors": "James Millington (james.millington@kcl.ac.uk)",
     "git": {
      "active_branch": "master",
      "author.name": "Jon Reades",
      "authored_date": "2017-08-17 19:06:58",
      "committed_date": "2017-08-17 19:06:58",
      "committer.name": "Jon Reades",
      "sha": "5e3b396ae18a982d693c4bfd86c721c7e1e21051"
     }
    }
   },
   "source": [
    "### 3.3 Assignment\n",
    "\n",
    "**Before running the code**, work out what the values of `x`, `y` and `z` will be after every line of code in the block has been executed."
   ]
  },
  {
   "cell_type": "code",
   "execution_count": 31,
   "metadata": {
    "geopyter": {
     "Contributors": "James Millington (james.millington@kcl.ac.uk)",
     "git": {
      "active_branch": "master",
      "author.name": "Jon Reades",
      "authored_date": "2017-08-17 19:06:58",
      "committed_date": "2017-08-17 19:06:58",
      "committer.name": "Jon Reades",
      "sha": "5e3b396ae18a982d693c4bfd86c721c7e1e21051"
     }
    }
   },
   "outputs": [
    {
     "name": "stdout",
     "output_type": "stream",
     "text": [
      "22\n",
      "22\n",
      "32\n"
     ]
    }
   ],
   "source": [
    "x = 12\n",
    "y = 10\n",
    "\n",
    "z = x + y # 22\n",
    "x = x + y # 22\n",
    "y = z + y # 32\n",
    "\n",
    "print(z)\n",
    "print(x)\n",
    "print(y)"
   ]
  },
  {
   "cell_type": "markdown",
   "metadata": {
    "geopyter": {
     "Contributors": "James Millington (james.millington@kcl.ac.uk)",
     "git": {
      "active_branch": "master",
      "author.name": "Jon Reades",
      "authored_date": "2017-08-17 19:06:58",
      "committed_date": "2017-08-17 19:06:58",
      "committer.name": "Jon Reades",
      "sha": "5e3b396ae18a982d693c4bfd86c721c7e1e21051"
     }
    }
   },
   "source": [
    "Once you have worked out what you think `x`, `y` and `z` are, add `print(...)` statements to the code above to check your answers!\n",
    "\n",
    "Make sure you understand the results you find. **Ask someone if you need help to understand.**"
   ]
  },
  {
   "cell_type": "markdown",
   "metadata": {
    "geopyter": {
     "Contributors": "James Millington (james.millington@kcl.ac.uk)",
     "git": {
      "active_branch": "master",
      "author.name": "Jon Reades",
      "authored_date": "2017-08-17 19:06:58",
      "committed_date": "2017-08-17 19:06:58",
      "committer.name": "Jon Reades",
      "sha": "5e3b396ae18a982d693c4bfd86c721c7e1e21051"
     }
    }
   },
   "source": [
    "### 3.4 Operators & Precedence\n",
    "\n",
    "**Before running the code**, work out what the values of `x`, `y` and `z` will be after every line of code in the block has been executed. Feel free to use a calculator.\n",
    "\n",
    "<div class=\"alert alert-block alert-success\">\n",
    "    <b>&#9888; Tip</b>: This question is about what operations (i.e. multiplication, division, powers, etc.) are done <i>first</i> based on the type of operation and the presence of parentheses... it's the same as it would be for a maths problem!</div>"
   ]
  },
  {
   "cell_type": "code",
   "execution_count": 32,
   "metadata": {
    "geopyter": {
     "Contributors": "James Millington (james.millington@kcl.ac.uk)",
     "git": {
      "active_branch": "master",
      "author.name": "Jon Reades",
      "authored_date": "2017-08-17 19:06:58",
      "committed_date": "2017-08-17 19:06:58",
      "committer.name": "Jon Reades",
      "sha": "5e3b396ae18a982d693c4bfd86c721c7e1e21051"
     }
    }
   },
   "outputs": [
    {
     "name": "stdout",
     "output_type": "stream",
     "text": [
      "2.5\n",
      "2.25\n",
      "2.5\n"
     ]
    }
   ],
   "source": [
    "x = 1 + (2 * 3) / 4\n",
    "y = (1 + 2) * (3 / 4)\n",
    "z = 1 + 2 * (3 / 4)\n",
    "\n",
    "print(x) # x is 2.5\n",
    "print(y) # y is 2.25\n",
    "print(z) # z is 2.5"
   ]
  },
  {
   "cell_type": "markdown",
   "metadata": {
    "geopyter": {
     "Contributors": "James Millington (james.millington@kcl.ac.uk)",
     "git": {
      "active_branch": "master",
      "author.name": "Jon Reades",
      "authored_date": "2017-08-17 19:06:58",
      "committed_date": "2017-08-17 19:06:58",
      "committer.name": "Jon Reades",
      "sha": "5e3b396ae18a982d693c4bfd86c721c7e1e21051"
     }
    }
   },
   "source": [
    "Once you have calculated what you think `x`, `y` and `z` are, run the code to check."
   ]
  },
  {
   "cell_type": "markdown",
   "metadata": {},
   "source": [
    "### 3.5 Test Your Operator Knowledge\n",
    "\n",
    "Now let's look at some of the stranger operators. Many of these can be very useful in more complex code but can seem a little pointless now.\n",
    "\n",
    "**Work out what operator should replace the `??`** in each of the lines of code below to produce the output I've shown in the comments. I've mixed in ones you have seen above with ones that we've not seen before."
   ]
  },
  {
   "cell_type": "code",
   "execution_count": 36,
   "metadata": {},
   "outputs": [
    {
     "name": "stdout",
     "output_type": "stream",
     "text": [
      "1\n",
      "13\n",
      "False\n",
      "1000\n",
      "7\n",
      "3\n"
     ]
    }
   ],
   "source": [
    "x = 10\n",
    "y = 3\n",
    "\n",
    "print( x % y ) # 1\n",
    "print( x + y ) # 13\n",
    "print( x < y ) # False\n",
    "print( x ** y ) # 1000\n",
    "print( x - y ) # 7\n",
    "print( x // y ) # 3"
   ]
  },
  {
   "cell_type": "markdown",
   "metadata": {
    "geopyter": {
     "Contributors": "James Millington (james.millington@kcl.ac.uk)",
     "git": {
      "active_branch": "master",
      "author.name": "Jon Reades",
      "authored_date": "2017-08-17 19:06:58",
      "committed_date": "2017-08-17 19:06:58",
      "committer.name": "Jon Reades",
      "sha": "5e3b396ae18a982d693c4bfd86c721c7e1e21051"
     }
    }
   },
   "source": [
    "### 3.6 Applying What We've Learned\n",
    "\n",
    "Now we are going to take what we've learned and apply it in a more 'abstract' way: how do we translate some well-known mathematical formulae _into code_? In particular, I'm interested in the formula for the volume of a sphere (and this gives me a chance to show that Notebooks can show formulae as well!):\n",
    "\n",
    "$$\n",
    "V = \\frac{4}{3}\\pi r^{3}\n",
    "$$\n",
    "\n",
    "#### 3.6.1. Calculate the Volume of a Sphere\n",
    "\n",
    "So, given a sphere with a **diameter** of 12cm, calculate its volume:\n",
    "\n",
    "<div class=\"alert alert-block alert-success\">\n",
    "    <b>&#9888; Tip</b>: I would strongly advise you to Google: `python constant pi` and look for code that will save you having to write down the value of $\\pi$.\n",
    "</div>"
   ]
  },
  {
   "cell_type": "code",
   "execution_count": 4,
   "metadata": {
    "geopyter": {
     "Contributors": "James Millington (james.millington@kcl.ac.uk)",
     "git": {
      "active_branch": "master",
      "author.name": "Jon Reades",
      "authored_date": "2017-08-17 19:06:58",
      "committed_date": "2017-08-17 19:06:58",
      "committer.name": "Jon Reades",
      "sha": "5e3b396ae18a982d693c4bfd86c721c7e1e21051"
     }
    }
   },
   "outputs": [
    {
     "name": "stdout",
     "output_type": "stream",
     "text": [
      "7238.229473870883\n"
     ]
    }
   ],
   "source": [
    "import math\n",
    "\n",
    "r = 12\n",
    "V = 4/3*math.pi*r*r*r\n",
    "\n",
    "print(V)"
   ]
  },
  {
   "cell_type": "markdown",
   "metadata": {},
   "source": [
    "I get an answer of 904.779cm$^3$."
   ]
  },
  {
   "cell_type": "markdown",
   "metadata": {},
   "source": [
    "#### 3.6.2. Calculate the Radius of a Sphere\n",
    "\n",
    "Now, given a sphere of volume 14,137cm$^3$ calculate its radius as a **whole number**. The formula for this can be worked out as:"
   ]
  },
  {
   "cell_type": "markdown",
   "metadata": {},
   "source": [
    "\\begin{align*}\n",
    "\\frac{3}{4}V &= \\pi r^{3} \\\\\n",
    "\\frac{3}{4}\\frac{V}{\\pi} &= r^{3} \\\\\n",
    "(\\frac{3}{4}\\frac{V}{\\pi})^{1/3} &= r\n",
    "\\end{align*}"
   ]
  },
  {
   "cell_type": "markdown",
   "metadata": {
    "geopyter": {
     "Contributors": "James Millington (james.millington@kcl.ac.uk)",
     "git": {
      "active_branch": "master",
      "author.name": "Jon Reades",
      "authored_date": "2017-08-17 19:06:58",
      "committed_date": "2017-08-17 19:06:58",
      "committer.name": "Jon Reades",
      "sha": "5e3b396ae18a982d693c4bfd86c721c7e1e21051"
     }
    }
   },
   "source": [
    "If you can't remember how to rearrange formulae this would be a good skill to refresh!\n",
    "\n",
    "<div class=\"alert alert-block alert-success\">\n",
    "    <b>&#9888; Tip</b>: There are two ways to get a \"whole number\" from a float. One way is to change the variable's <tt><u>type</u></tt>, the other is to make use of Google to find out if there are ways of <em><u>rounding</u></em> to the nearest integer?\n",
    "</div>"
   ]
  },
  {
   "cell_type": "code",
   "execution_count": 25,
   "metadata": {},
   "outputs": [
    {
     "name": "stdout",
     "output_type": "stream",
     "text": [
      "15\n"
     ]
    }
   ],
   "source": [
    "from math import pi as p\n",
    "r = ((3/4)*(14137/p))**(1/3)\n",
    "print(round(r))"
   ]
  },
  {
   "cell_type": "markdown",
   "metadata": {},
   "source": [
    "I get an answer of either 14 or 15... can you work out why?"
   ]
  },
  {
   "cell_type": "markdown",
   "metadata": {},
   "source": [
    "## Task 4: Python Conditions"
   ]
  },
  {
   "cell_type": "markdown",
   "metadata": {
    "geopyter": {
     "Contributors": "James Millington (james.millington@kcl.ac.uk)",
     "git": {
      "active_branch": "master",
      "author.name": "Jon Reades",
      "authored_date": "2017-08-17 19:06:58",
      "committed_date": "2017-08-17 19:06:58",
      "committer.name": "Jon Reades",
      "sha": "5e3b396ae18a982d693c4bfd86c721c7e1e21051"
     }
    }
   },
   "source": [
    "### 4.1 Working with Conditions\n",
    "\n",
    "Use **if, elif, and else** so that you get the following output:\n",
    "\n",
    "1. When `hours` is 10 or more, then the code prints `At least 10 hours worked!`\n",
    "2. When `hours` is exactly 2, then the code prints `Exactly 2 hours worked.`  \n",
    "3. When `hours` is 9 or less *but not 2*, then the code prints `Less than 10 hours worked!`\n",
    "\n",
    "<div class=\"alert alert-block alert-success\"><b>&#9888; Hint</b>: You will <em>also</em> need to think about the order in which these conditions are tested.</div>"
   ]
  },
  {
   "cell_type": "code",
   "execution_count": 13,
   "metadata": {},
   "outputs": [
    {
     "name": "stdin",
     "output_type": "stream",
     "text": [
      " 10\n"
     ]
    },
    {
     "name": "stdout",
     "output_type": "stream",
     "text": [
      "At least 10 hours worked!\n"
     ]
    }
   ],
   "source": [
    "hours=int(input())\n",
    "\n",
    "if hours >= 10:\n",
    "    print(\"At least 10 hours worked!\")\n",
    "elif hours == 2:\n",
    "    print(\"Exactly 2 hours worked.\")\n",
    "else:\n",
    "    print(\"Less than 10 hours worked!\")"
   ]
  },
  {
   "cell_type": "markdown",
   "metadata": {
    "geopyter": {
     "Contributors": "James Millington (james.millington@kcl.ac.uk)",
     "git": {
      "active_branch": "master",
      "author.name": "Jon Reades",
      "authored_date": "2017-08-17 19:06:58",
      "committed_date": "2017-08-17 19:06:58",
      "committer.name": "Jon Reades",
      "sha": "5e3b396ae18a982d693c4bfd86c721c7e1e21051"
     }
    }
   },
   "source": [
    "### 4.2 Flow Control\n",
    "\n",
    "Using the flow chart shown in the image below as a model, write the code to make this condition work. You will need to complete the code such that it produces the following:\n",
    "1. When `a = 2` and `b = 2` four lines of output will be written\n",
    "2. When `a = 1` and `b = 2` one line of output will be written\n",
    "\n",
    "<img src=https://kingsgeocomputation.files.wordpress.com/2016/09/geocompweek2_task3_3.jpg width=600>"
   ]
  },
  {
   "cell_type": "code",
   "execution_count": 23,
   "metadata": {},
   "outputs": [
    {
     "name": "stdout",
     "output_type": "stream",
     "text": [
      "inside 1\n",
      "inside 2\n",
      "inside\n",
      "after condition\n"
     ]
    }
   ],
   "source": [
    "a = 6\n",
    "b = 6\n",
    "if a == 2 and b == 2 or a==b:\n",
    "    print(\"inside 1\")\n",
    "    print(\"inside 2\")\n",
    "    print(\"inside\")\n",
    "    print(\"after condition\")\n",
    "else:\n",
    "    print(\"after condition\")\n",
    "# <your code here>\n"
   ]
  },
  {
   "cell_type": "markdown",
   "metadata": {},
   "source": [
    "## Task 5: Python Logic"
   ]
  },
  {
   "cell_type": "markdown",
   "metadata": {
    "geopyter": {
     "Contributors": "James Millington (james.millington@kcl.ac.uk)",
     "git": {
      "active_branch": "master",
      "author.name": "Jon Reades",
      "authored_date": "2017-08-17 19:06:58",
      "committed_date": "2017-08-17 19:06:58",
      "committer.name": "Jon Reades",
      "sha": "5e3b396ae18a982d693c4bfd86c721c7e1e21051"
     }
    }
   },
   "source": [
    "### 5.1 It's All Quite Logical...\n",
    "\n",
    "Read the code in the cell below. "
   ]
  },
  {
   "cell_type": "code",
   "execution_count": null,
   "metadata": {
    "geopyter": {
     "Contributors": "James Millington (james.millington@kcl.ac.uk)",
     "git": {
      "active_branch": "master",
      "author.name": "Jon Reades",
      "authored_date": "2017-08-17 19:06:58",
      "committed_date": "2017-08-17 19:06:58",
      "committer.name": "Jon Reades",
      "sha": "5e3b396ae18a982d693c4bfd86c721c7e1e21051"
     }
    }
   },
   "outputs": [],
   "source": [
    "x=??\n",
    "\n",
    "if x > 0 and x < 5:#0-5\n",
    "    print(\"Joe\")\n",
    "\n",
    "if x > 0 or x < 5:#\n",
    "    print(\"Aled\")\n",
    "\n",
    "if not(x > 0):\n",
    "    print(\"Sarah\")"
   ]
  },
  {
   "cell_type": "markdown",
   "metadata": {
    "geopyter": {
     "Contributors": "James Millington (james.millington@kcl.ac.uk)",
     "git": {
      "active_branch": "master",
      "author.name": "Jon Reades",
      "authored_date": "2017-08-17 19:06:58",
      "committed_date": "2017-08-17 19:06:58",
      "committer.name": "Jon Reades",
      "sha": "5e3b396ae18a982d693c4bfd86c721c7e1e21051"
     }
    }
   },
   "source": [
    "**Before** adding a value for `x` and running the code above, answer the following questions in the Markdown cell below:\n",
    "\n",
    "1. What names are name(s) are printed when `x = 5`? \n",
    "2. What value(s) can `x` be when the names `Joe` and `Aled` are printed?  \n",
    "3. What name(s) are printed when `x = -1`?\n",
    "4. Is there any value for which all three names will be printed?\n"
   ]
  },
  {
   "cell_type": "markdown",
   "metadata": {
    "geopyter": {
     "Contributors": "James Millington (james.millington@kcl.ac.uk)",
     "git": {
      "active_branch": "master",
      "author.name": "Jon Reades",
      "authored_date": "2017-08-17 19:06:58",
      "committed_date": "2017-08-17 19:06:58",
      "committer.name": "Jon Reades",
      "sha": "5e3b396ae18a982d693c4bfd86c721c7e1e21051"
     }
    }
   },
   "source": [
    "<div class=\"alert alert-block alert-success\">\n",
    "    <b>&#9888; Hint</b>: Double-click <b>here</b> to start editing this cell using Markdown.</div>\n",
    "\n",
    "#### 5.1.1 Answers\n",
    "\n",
    "1. Aled\n",
    "2. 4 , 3 , 2 , 1\n",
    "3. Aled , Sarah\n",
    "4. No\n",
    "\n",
    "When you're finished, run the code above and test your answer!"
   ]
  },
  {
   "cell_type": "markdown",
   "metadata": {
    "geopyter": {
     "Contributors": "James Millington (james.millington@kcl.ac.uk)",
     "git": {
      "active_branch": "master",
      "author.name": "Jon Reades",
      "authored_date": "2017-08-17 19:06:58",
      "committed_date": "2017-08-17 19:06:58",
      "committer.name": "Jon Reades",
      "sha": "5e3b396ae18a982d693c4bfd86c721c7e1e21051"
     }
    }
   },
   "source": [
    "### 5.2 Logic (Cont'd)\n",
    "\n",
    "Study the flow chart below.\n",
    "\n",
    "<img src=https://kingsgeocomputation.files.wordpress.com/2016/09/geocompweek2_task3_5.jpg width = 600>\n",
    "\n",
    "<div class=\"alert alert-block alert-success\">\n",
    "    <b>&#9888; Hint</b>: This will require you to combine logic with one of the operators that we saw earlier. Also note the <i>new</i> iterator that we've got here: <tt>range(&lt;start&gt;, &lt;stop&gt;)</tt> to create a <i>range</i> of numbers between two other numbers.</div>\n",
    "\n",
    "In the cell below, use the for loop _already set up_ to as a starting point for implementing the flow chart shown above for values of `x` between 0 and 9.\n"
   ]
  },
  {
   "cell_type": "code",
   "execution_count": 26,
   "metadata": {},
   "outputs": [
    {
     "name": "stdout",
     "output_type": "stream",
     "text": [
      "x is even\n",
      "0\n",
      "x is odd\n",
      "1\n",
      "x is even\n",
      "2\n",
      "x is odd\n",
      "3\n",
      "x is even\n",
      "4\n",
      "x is odd\n",
      "5\n",
      "x is even\n",
      "6\n",
      "x is odd\n",
      "7\n",
      "x is even\n",
      "8\n"
     ]
    }
   ],
   "source": [
    "for x in range(0,9):\n",
    "    if x % 2 == 0:\n",
    "        print(\"x is even\")\n",
    "        print(x)\n",
    "    else:\n",
    "        print(\"x is odd\")\n",
    "        print(x)"
   ]
  },
  {
   "cell_type": "markdown",
   "metadata": {
    "geopyter": {
     "Contributors": "James Millington (james.millington@kcl.ac.uk)",
     "git": {
      "active_branch": "master",
      "author.name": "Jon Reades",
      "authored_date": "2017-08-17 19:06:58",
      "committed_date": "2017-08-17 19:06:58",
      "committer.name": "Jon Reades",
      "sha": "5e3b396ae18a982d693c4bfd86c721c7e1e21051"
     }
    }
   },
   "source": [
    "### 5.3 'Nested' Conditionals\n",
    "\n",
    "Conditional statements can be nested within one another. That is, Python evaluates the first, or 'outer', condition and can then evaluate secondary, or 'inner', conditions. The code below shows an example of this. "
   ]
  },
  {
   "cell_type": "code",
   "execution_count": 27,
   "metadata": {
    "geopyter": {
     "Contributors": "James Millington (james.millington@kcl.ac.uk)",
     "git": {
      "active_branch": "master",
      "author.name": "Jon Reades",
      "authored_date": "2017-08-17 19:06:58",
      "committed_date": "2017-08-17 19:06:58",
      "committer.name": "Jon Reades",
      "sha": "5e3b396ae18a982d693c4bfd86c721c7e1e21051"
     }
    }
   },
   "outputs": [
    {
     "name": "stdout",
     "output_type": "stream",
     "text": [
      "x is not equal to y\n",
      "x is greater than y\n"
     ]
    }
   ],
   "source": [
    "x = 5\n",
    "y = 4\n",
    "\n",
    "if x != y:                                 #line 1\n",
    "    print(\"x is not equal to y\")\n",
    "    \n",
    "    if(x > y):                             #line 4\n",
    "        print(\"x is greater than y\")\n",
    "    \n",
    "    else:                                  #line 7\n",
    "        print(\"x is less than y\")\n",
    "\n",
    "else:\n",
    "    print(\"<x is equal to y>\")"
   ]
  },
  {
   "cell_type": "markdown",
   "metadata": {
    "geopyter": {
     "Contributors": "James Millington (james.millington@kcl.ac.uk)",
     "git": {
      "active_branch": "master",
      "author.name": "Jon Reades",
      "authored_date": "2017-08-17 19:06:58",
      "committed_date": "2017-08-17 19:06:58",
      "committer.name": "Jon Reades",
      "sha": "5e3b396ae18a982d693c4bfd86c721c7e1e21051"
     }
    }
   },
   "source": [
    "Note how the indentation makes it easier to work out which ‘level’ (outer or inner condition) the code is operating on. In the code above, lines 4 and 7 are at the same indentation meaning that _both will be skipped_ if the initial condition (on line 1) is `False`. \n",
    "\n",
    "To check you understand how the code above works:\n",
    "1. Change `<insert conclusion here>` to a string that explains the condition of `x` and `y`\n",
    "2. For `x = 2` and `y = 3`, type below what line(s) will be output:"
   ]
  },
  {
   "cell_type": "markdown",
   "metadata": {
    "geopyter": {
     "Contributors": "James Millington (james.millington@kcl.ac.uk)",
     "git": {
      "active_branch": "master",
      "author.name": "Jon Reades",
      "authored_date": "2017-08-17 19:06:58",
      "committed_date": "2017-08-17 19:06:58",
      "committer.name": "Jon Reades",
      "sha": "5e3b396ae18a982d693c4bfd86c721c7e1e21051"
     }
    }
   },
   "source": [
    "**Answer** _Edit this cell!_\n",
    "\n",
    "1. x is equal to y\n",
    "2. x is less than y"
   ]
  },
  {
   "cell_type": "markdown",
   "metadata": {
    "geopyter": {
     "Contributors": "James Millington (james.millington@kcl.ac.uk)",
     "git": {
      "active_branch": "master",
      "author.name": "Jon Reades",
      "authored_date": "2017-08-17 19:06:58",
      "committed_date": "2017-08-17 19:06:58",
      "committer.name": "Jon Reades",
      "sha": "5e3b396ae18a982d693c4bfd86c721c7e1e21051"
     }
    }
   },
   "source": [
    "Great! You should now have a pretty good understanding of how conditional and logical operators work. This understanding will be handy in future as we work through other computational concepts."
   ]
  },
  {
   "cell_type": "markdown",
   "metadata": {},
   "source": [
    "## Task 6: Python Lists"
   ]
  },
  {
   "cell_type": "markdown",
   "metadata": {},
   "source": [
    "### 6.1 Who's in the List?\n",
    "\n",
    "Here we are looking to interact with lists in a straightforward way that will help you to understand accessing them using indexes and slices, and searching:"
   ]
  },
  {
   "cell_type": "code",
   "execution_count": 34,
   "metadata": {},
   "outputs": [
    {
     "name": "stdout",
     "output_type": "stream",
     "text": [
      "London\n",
      "Tokyo\n",
      "['Beijing', 'Tokyo']\n",
      "['London', 'Beijing', 'Tokyo', 'Delhi']\n",
      "['London', 'Beijing', 'Tokyo']\n",
      "0\n"
     ]
    }
   ],
   "source": [
    "cities = ['New York', 'London', 'Beijing', 'Tokyo', 'Delhi']\n",
    "\n",
    "# Print out London from cities:\n",
    "print( cities[1] )\n",
    "\n",
    "# Print out Tokyo using *negative* indexing:\n",
    "print(cities [-2])\n",
    "\n",
    "# Print out Beijing *and* Tokyo using a list slice\n",
    "print(cities [2:4] )\n",
    "\n",
    "# Print out London to Delhi using a slice\n",
    "print( cities [1:] ) # You could also do cities[1:5] but this way is neater\n",
    "\n",
    "# Combine positive and negative indexing to print out London, Beijing and Tokyo using a list slice\n",
    "print( cities [1:4] )\n",
    "\n",
    "# Print out the position of New York in the list by searching for it (i.e. you can't just type 0)\n",
    "print(cities.index('New York'))"
   ]
  },
  {
   "cell_type": "markdown",
   "metadata": {},
   "source": [
    "### 6.2 Manipulating Lists\n",
    "\n",
    "Let's break a few things...\n",
    "\n",
    "#### 6.2.1 Create an IndexError"
   ]
  },
  {
   "cell_type": "code",
   "execution_count": 36,
   "metadata": {},
   "outputs": [
    {
     "ename": "IndexError",
     "evalue": "list index out of range",
     "output_type": "error",
     "traceback": [
      "\u001b[0;31m---------------------------------------------------------------------------\u001b[0m",
      "\u001b[0;31mIndexError\u001b[0m                                Traceback (most recent call last)",
      "Input \u001b[0;32mIn [36]\u001b[0m, in \u001b[0;36m<cell line: 2>\u001b[0;34m()\u001b[0m\n\u001b[1;32m      1\u001b[0m \u001b[38;5;66;03m# Cause an 'IndexError: list index out of range' errr\u001b[39;00m\n\u001b[0;32m----> 2\u001b[0m \u001b[38;5;28mprint\u001b[39m( \u001b[43mcities\u001b[49m\u001b[43m \u001b[49m\u001b[43m[\u001b[49m\u001b[38;5;241;43m8\u001b[39;49m\u001b[43m]\u001b[49m )\n",
      "\u001b[0;31mIndexError\u001b[0m: list index out of range"
     ]
    }
   ],
   "source": [
    "# Cause an 'IndexError: list index out of range' errr\n",
    "print( cities [8] )"
   ]
  },
  {
   "cell_type": "markdown",
   "metadata": {},
   "source": [
    "#### 6.2.2 Create a ValueError"
   ]
  },
  {
   "cell_type": "code",
   "execution_count": 37,
   "metadata": {},
   "outputs": [
    {
     "ename": "ValueError",
     "evalue": "'Toronto' is not in list",
     "output_type": "error",
     "traceback": [
      "\u001b[0;31m---------------------------------------------------------------------------\u001b[0m",
      "\u001b[0;31mValueError\u001b[0m                                Traceback (most recent call last)",
      "Input \u001b[0;32mIn [37]\u001b[0m, in \u001b[0;36m<cell line: 2>\u001b[0;34m()\u001b[0m\n\u001b[1;32m      1\u001b[0m \u001b[38;5;66;03m# Cause a ValueError using the city of Toronto\u001b[39;00m\n\u001b[0;32m----> 2\u001b[0m \u001b[38;5;28mprint\u001b[39m(\u001b[43mcities\u001b[49m\u001b[38;5;241;43m.\u001b[39;49m\u001b[43mindex\u001b[49m\u001b[43m(\u001b[49m\u001b[38;5;124;43m'\u001b[39;49m\u001b[38;5;124;43mToronto\u001b[39;49m\u001b[38;5;124;43m'\u001b[39;49m\u001b[43m)\u001b[49m)\n",
      "\u001b[0;31mValueError\u001b[0m: 'Toronto' is not in list"
     ]
    }
   ],
   "source": [
    "# Cause a ValueError using the city of Toronto\n",
    "print(cities.index('Toronto'))"
   ]
  },
  {
   "cell_type": "markdown",
   "metadata": {},
   "source": [
    "#### 6.2.3 Sort the List\n",
    "\n",
    "Sort the list *in place* in reverse alphabetical order (i.e. z...a) and then print the sorted list"
   ]
  },
  {
   "cell_type": "code",
   "execution_count": 50,
   "metadata": {},
   "outputs": [
    {
     "name": "stdout",
     "output_type": "stream",
     "text": [
      "['Delhi', 'Tokyo', 'Beijing', 'London', 'New York']\n",
      "[4, 5, 3, 1, 2]\n"
     ]
    }
   ],
   "source": [
    "cities = ['New York', 'London', 'Beijing', 'Tokyo', 'Delhi']\n",
    "cities.reverse()\n",
    "print(cities)\n",
    "list = [2, 1, 3, 5, 4]\n",
    "list.reverse()\n",
    "print(list)"
   ]
  },
  {
   "cell_type": "markdown",
   "metadata": {},
   "source": [
    "The output from this should be: `['Tokyo', 'New York', 'London', 'Delhi', 'Beijing']`"
   ]
  },
  {
   "cell_type": "markdown",
   "metadata": {},
   "source": [
    "### 6.3 Adding/Removing Values\n",
    "\n",
    "#### 6.3.1 Inserting into a List\n",
    "\n",
    "Add the city of Toronto to the list _after_ New York in the *sorted* list."
   ]
  },
  {
   "cell_type": "code",
   "execution_count": 55,
   "metadata": {},
   "outputs": [
    {
     "name": "stdout",
     "output_type": "stream",
     "text": [
      "['Tokyo', 'New York', 'Toronto', 'London', 'Delhi', 'Beijing']\n"
     ]
    }
   ],
   "source": [
    "# Just in case you make a mistake...\n",
    "cities = ['Tokyo', 'New York', 'London', 'Delhi', 'Beijing']\n",
    "cities.insert(2,\"Toronto\")\n",
    "\n",
    "print(cities)"
   ]
  },
  {
   "cell_type": "markdown",
   "metadata": {},
   "source": [
    "The output should be: `['Tokyo', 'New York', 'Toronto', 'London', 'Delhi', 'Beijing']`\n",
    "\n",
    "#### 6.3.2 Removing from a List\n",
    "\n",
    "Now *Pop* New York from the list *without* specifying its index (i.e. the number `1` should *not* appear in your code). Print out the value that you popped and the print out the cities list to check you've done the right thing..."
   ]
  },
  {
   "cell_type": "code",
   "execution_count": null,
   "metadata": {},
   "outputs": [],
   "source": [
    "??\n",
    "print(p)\n",
    "print(cities)"
   ]
  },
  {
   "cell_type": "markdown",
   "metadata": {},
   "source": [
    "The output should be:\n",
    "```python\n",
    "New York\n",
    "['Tokyo', 'Toronto', 'London', 'Delhi', 'Beijing']\n",
    "```\n",
    "\n",
    "#### 6.3.3 Checking Lists\n",
    "\n",
    "Finally, how can you check if the city of Moscow is in the list and let the user know if it is or is not?"
   ]
  },
  {
   "cell_type": "code",
   "execution_count": 59,
   "metadata": {},
   "outputs": [
    {
     "name": "stdout",
     "output_type": "stream",
     "text": [
      "Moscow not in list\n"
     ]
    }
   ],
   "source": [
    "cities = ['Tokyo', 'New York', 'London', 'Delhi', 'Beijing']\n",
    "if \"Moscow\" not in cities:\n",
    "    print(\"Moscow not in list\")\n",
    "else:\n",
    "    print(\"yes!\")"
   ]
  },
  {
   "cell_type": "markdown",
   "metadata": {},
   "source": [
    "### You're Done!\n",
    "\n",
    "This is quite a lot to get through. If you've managed it in under 2 hours then *congratulations*! Either you must have paid a lot of attention when doing Code Camp, or you might want to check in with us as to whether you should really be doing this module...\n",
    "\n",
    "#### No Wait, One More Thing...\n",
    "\n",
    "You now want to push your completed notebook to your GitHub reposistory. Using the Terminal or Git Bash you need to:\n",
    "1. Navigate (if you've not got a shell already open there) to `$HOME/Documents/CASA/modules/<your repository>`.\n",
    "2. Check the status of your notebooks using `git status` (you should see that `Practical-02-Foundations_1.ipynb has been modified`).\n",
    "3. Add this changed notebook to git using `git add  Practical-02-Foundations_1.ipynb`\n",
    "4. Commit this changed notebook with a message using `git commit -m \"<your message here... but don't use a !>\"`\n",
    "5. Push this change to GitHub using: `git push`\n",
    "\n",
    "You should now be able to visit your repository on [GitHub](https://github.com/) and see that your changes are now stored there as well!"
   ]
  },
  {
   "cell_type": "markdown",
   "metadata": {},
   "source": [
    "<div class=\"alert alert-block alert-info\"><b>&#9888; Note</b>: If you are using Docker then you can also save your work as a PDF using: <tt>File</tt> > <tt>Export Notebook As...</tt> (this does not work for notebooks with lots of complex formatting).</div>"
   ]
  },
  {
   "cell_type": "markdown",
   "metadata": {},
   "source": [
    "\n",
    "## Credits!\n",
    "\n",
    "#### Contributors:\n",
    "The following individuals have contributed to these teaching materials: James Millington (james.millington@kcl.ac.uk)\n",
    "\n",
    "#### License\n",
    "These teaching materials are licensed under a mix of the MIT and CC-BY licenses...\n",
    "\n",
    "#### Acknowledgements:\n",
    "Supported by the [Royal Geographical Society](https://www.rgs.org/HomePage.htm) (with the Institute of British Geographers) with a Ray Y Gildea Jr Award.\n",
    "\n",
    "#### Potential Dependencies:\n",
    "This notebook may depend on the following libraries: None\n"
   ]
  },
  {
   "cell_type": "code",
   "execution_count": null,
   "metadata": {},
   "outputs": [],
   "source": []
  }
 ],
 "metadata": {
  "anaconda-cloud": {},
  "geopyter": {
   "Contributors": [
    "James Millington (james.millington@kcl.ac.uk)"
   ],
   "git": {
    "active_branch": "master",
    "author.name": "Jon Reades",
    "authored_date": "2017-08-17 19:06:58",
    "committed_date": "2017-08-17 19:06:58",
    "committer.name": "Jon Reades",
    "sha": "5e3b396ae18a982d693c4bfd86c721c7e1e21051"
   },
   "libs": {}
  },
  "kernelspec": {
   "display_name": "Python 3 (ipykernel)",
   "language": "python",
   "name": "python3"
  },
  "language_info": {
   "codemirror_mode": {
    "name": "ipython",
    "version": 3
   },
   "file_extension": ".py",
   "mimetype": "text/x-python",
   "name": "python",
   "nbconvert_exporter": "python",
   "pygments_lexer": "ipython3",
   "version": "3.10.5"
  },
  "vscode": {
   "interpreter": {
    "hash": "d4d1e4263499bec80672ea0156c357c1ee493ec2b1c70f0acce89fc37c4a6abe"
   }
  }
 },
 "nbformat": 4,
 "nbformat_minor": 4
}
